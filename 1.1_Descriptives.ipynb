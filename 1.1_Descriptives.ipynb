{
 "cells": [
  {
   "cell_type": "code",
   "execution_count": 3,
   "metadata": {},
   "outputs": [],
   "source": [
    "import numpy as np\n",
    "import pandas as pd\n",
    "\n",
    "%matplotlib inline\n",
    "\n",
    "import matplotlib\n",
    "import seaborn as sns\n",
    "import matplotlib.pyplot as plt\n",
    "\n",
    "# LightGBM\n",
    "import lightgbm as lgb\n",
    "from sklearn.model_selection import KFold\n",
    "\n",
    "# DecisionTree\n",
    "from sklearn import metrics\n",
    "from sklearn.tree import DecisionTreeClassifier\n",
    "from sklearn.model_selection import train_test_split"
   ]
  },
  {
   "cell_type": "code",
   "execution_count": 4,
   "metadata": {},
   "outputs": [],
   "source": [
    "sns.set()"
   ]
  },
  {
   "cell_type": "markdown",
   "metadata": {},
   "source": [
    "## Rendelés 100"
   ]
  },
  {
   "cell_type": "markdown",
   "metadata": {},
   "source": [
    "A tábla tartalmazza a megrendeléseket\n",
    "- Mezők jelentése:\n",
    "    - id: rendelés azonosító\n",
    "    - api_azon: rendelés azonosító nagykerben\n",
    "    - **api_hiba_kod**: nagykerben automata leadásnál kapott hiba\n",
    "    - api_hiba_text: nagykerben automata leadásnál kapott hiba szövegesen\n",
    "    - sku: termék azonosító\n",
    "    - **netto_ar**: BHP eladási nettó ár\n",
    "    - **menny**: rendelt mennyiség\n",
    "    - **ossz**: vásárló által fizetendő nettó összeg\n",
    "    - **shipto**: szállítási mód\n",
    "    - **billto**: fizetési mód\n",
    "    - **kezbesit**: kézbesítés időpontja\n",
    "    - **bt_irsz**: számlázási cím irányítószáma\n",
    "    - **bt_city**: számlázási cím városa\n",
    "    - bt_address: számlázás cím\n",
    "    - bt_tel: számlázás telefonszám\n",
    "    - **bt_ceg**: számlázás cég név\n",
    "    - bt_cegado: számlázás adószám\n",
    "    - st_same_bt: számlázási cím ugyan az mint a szállítási\n",
    "    - st_irsz: szállítási irányítószám\n",
    "    - st_city: szállítási város\n",
    "    - st_address: szállítási cím\n",
    "    - st_tel: szállítási telefonszám\n",
    "    - from_message: vásárló megjegyzése\n",
    "    - send_message: eladó megjegyzése\n",
    "    - **erkezett**: rendelés érkezési időpont\n",
    "    - **shop**: webáruház ahol a rendelést leadták\n",
    "    - **order_in**: rendelés beérkezésének módja\n",
    "    - **prod_name**: termék neve\n",
    "    - **fizetendo**: rendelés leadásakor a termék beszerzési ára\n",
    "    - **szallitas**: szállítási költség\n",
    "    - **fizetendo_feed**: beszerzési ár automata leadáskor válaszként kapott (netto)\n",
    "    - **nagyker**: mely nagyker terméke\n",
    "\n",
    "A prod_name mező a megrendelt termék neve + tulajdonságai stringben? Nincs összegkötve a termek táblával?\n",
    "- a prod name a termék neve, nincs plus, a nevében vannak tulajdonságok is\n",
    "- a termék táblával való összekötést a nagyker és sku mező együtt adja "
   ]
  },
  {
   "cell_type": "code",
   "execution_count": null,
   "metadata": {},
   "outputs": [],
   "source": [
    "df_rendeles = pd.read_csv('input/rendeles_100.csv', sep=';', index_col=0)"
   ]
  },
  {
   "cell_type": "code",
   "execution_count": null,
   "metadata": {},
   "outputs": [],
   "source": [
    "df_rendeles[:5]"
   ]
  },
  {
   "cell_type": "code",
   "execution_count": null,
   "metadata": {},
   "outputs": [],
   "source": [
    "df_rendeles.columns"
   ]
  },
  {
   "cell_type": "markdown",
   "metadata": {},
   "source": [
    "### api_hiba_kod"
   ]
  },
  {
   "cell_type": "code",
   "execution_count": null,
   "metadata": {},
   "outputs": [],
   "source": [
    "df_rendeles[df_rendeles['api_hiba_kod '].isna()].sum().sum()"
   ]
  },
  {
   "cell_type": "markdown",
   "metadata": {},
   "source": [
    "### netto_ar"
   ]
  },
  {
   "cell_type": "code",
   "execution_count": null,
   "metadata": {},
   "outputs": [],
   "source": [
    "df_rendeles.sort_values(by='netto_ar ', ascending=True, inplace=True)"
   ]
  },
  {
   "cell_type": "code",
   "execution_count": null,
   "metadata": {},
   "outputs": [],
   "source": [
    "q1_na = int(df_rendeles['netto_ar '].count()/4)\n",
    "q3_na = int(3*df_rendeles['netto_ar '].count()/4)\n",
    "\n",
    "print('Range of netto_ar: {:,.2f} - {:,.2f}'.format(df_rendeles['netto_ar '].min(), df_rendeles['netto_ar '].max()))\n",
    "print('Interquartile range of netto_ar: {:,.2f} - {:,.2f}'.format(df_rendeles['netto_ar '].iloc[q1_na], df_rendeles['netto_ar '].iloc[q3_na]))"
   ]
  },
  {
   "cell_type": "code",
   "execution_count": null,
   "metadata": {
    "scrolled": false
   },
   "outputs": [],
   "source": [
    "sns.set(rc={'figure.figsize':(15, 6)})\n",
    "sns.distplot(df_rendeles['netto_ar '].values, bins=100, norm_hist=True)\n",
    "\n",
    "ax = plt.gca()\n",
    "ax.get_xaxis().set_major_formatter(\n",
    "    matplotlib.ticker.FuncFormatter(lambda x, p: format(int(x), ','))\n",
    ")\n",
    "\n",
    "plt.title('netto_ar hisztogram')\n",
    "plt.xlabel('netto_ar')\n",
    "plt.xticks(np.arange(min(df_rendeles['netto_ar ']), max(df_rendeles['netto_ar '])+1, 2500.0), rotation=45)\n",
    "plt.ylabel('Mennyiség')\n",
    "plt.axvline(df_rendeles['netto_ar '].iloc[q1_na], color=\"k\", linestyle=\"--\", linewidth=1)\n",
    "plt.axvline(df_rendeles['netto_ar '].iloc[q3_na], color=\"k\", linestyle=\"--\", linewidth=1)\n",
    "plt.show()"
   ]
  },
  {
   "cell_type": "markdown",
   "metadata": {},
   "source": [
    "### menny"
   ]
  },
  {
   "cell_type": "code",
   "execution_count": null,
   "metadata": {},
   "outputs": [],
   "source": [
    "df_rendeles['menny '].describe()"
   ]
  },
  {
   "cell_type": "markdown",
   "metadata": {},
   "source": [
    "### ossz"
   ]
  },
  {
   "cell_type": "code",
   "execution_count": null,
   "metadata": {},
   "outputs": [],
   "source": [
    "df_rendeles.sort_values(by='ossz ', ascending=True, inplace=True)"
   ]
  },
  {
   "cell_type": "code",
   "execution_count": null,
   "metadata": {},
   "outputs": [],
   "source": [
    "q1_os = int(df_rendeles['ossz '].count()/4)\n",
    "q3_os = int(3*df_rendeles['ossz '].count()/4)\n",
    "\n",
    "print('Range of ossz: {:,.2f} - {:,.2f}'.format(df_rendeles['ossz '].min(), df_rendeles['ossz '].max()))\n",
    "print('Interquartile range of ossz: {:,.2f} - {:,.2f}'.format(df_rendeles['ossz '].iloc[q1_os], df_rendeles['ossz '].iloc[q3_os]))"
   ]
  },
  {
   "cell_type": "code",
   "execution_count": null,
   "metadata": {},
   "outputs": [],
   "source": [
    "sns.set(rc={'figure.figsize':(15, 6)})\n",
    "sns.distplot(df_rendeles['ossz '].values, bins=100, norm_hist=True)\n",
    "\n",
    "ax = plt.gca()\n",
    "ax.get_xaxis().set_major_formatter(\n",
    "    matplotlib.ticker.FuncFormatter(lambda x, p: format(int(x), ','))\n",
    ")\n",
    "\n",
    "plt.title('ossz hisztogram')\n",
    "plt.xlabel('ossz')\n",
    "plt.xticks(np.arange(min(df_rendeles['ossz ']), max(df_rendeles['ossz '])+1, 10000.0), rotation=45)\n",
    "plt.ylabel('Összeg')\n",
    "plt.axvline(df_rendeles['netto_ar '].iloc[q1_os], color=\"k\", linestyle=\"--\", linewidth=1)\n",
    "plt.axvline(df_rendeles['netto_ar '].iloc[q3_os], color=\"k\", linestyle=\"--\", linewidth=1)\n",
    "plt.show()"
   ]
  },
  {
   "cell_type": "markdown",
   "metadata": {},
   "source": [
    "### shipto"
   ]
  },
  {
   "cell_type": "code",
   "execution_count": null,
   "metadata": {},
   "outputs": [],
   "source": [
    "df_rendeles['shipto '].value_counts()"
   ]
  },
  {
   "cell_type": "markdown",
   "metadata": {},
   "source": [
    "### billto"
   ]
  },
  {
   "cell_type": "code",
   "execution_count": null,
   "metadata": {},
   "outputs": [],
   "source": [
    "df_rendeles['billto '].value_counts()"
   ]
  },
  {
   "cell_type": "code",
   "execution_count": null,
   "metadata": {},
   "outputs": [],
   "source": [
    "sns.set(rc={'figure.figsize':(15, 4)})\n",
    "df_rendeles['billto '].value_counts().plot(kind='bar')\n",
    "\n",
    "plt.title('billto hisztogram')\n",
    "plt.xlabel('billto')\n",
    "plt.xticks(rotation=45)\n",
    "plt.ylabel('Darab')\n",
    "plt.show()"
   ]
  },
  {
   "cell_type": "markdown",
   "metadata": {},
   "source": [
    "### kezbesit"
   ]
  },
  {
   "cell_type": "code",
   "execution_count": null,
   "metadata": {},
   "outputs": [],
   "source": [
    "df_rendeles.sort_values(by='kezbesit ', ascending=True, inplace=True)"
   ]
  },
  {
   "cell_type": "code",
   "execution_count": null,
   "metadata": {},
   "outputs": [],
   "source": [
    "q1_ke = int(df_rendeles['kezbesit '].count()/4)\n",
    "q3_ke = int(3*df_rendeles['kezbesit '].count()/4)\n",
    "\n",
    "print('Range of kezbesit: {:} - {:}'.format(df_rendeles['kezbesit '].iloc[0], df_rendeles['kezbesit '].iloc[df_rendeles['kezbesit '].count()]))\n",
    "print('Interquartile range of kezbesit: {:} - {:}'.format(df_rendeles['kezbesit '].iloc[q1_ke], df_rendeles['kezbesit '].iloc[q3_ke]))"
   ]
  },
  {
   "cell_type": "code",
   "execution_count": null,
   "metadata": {},
   "outputs": [],
   "source": [
    "sns.set(rc={'figure.figsize':(15, 4)})\n",
    "df_rendeles['kezbesit '].value_counts().plot(kind='bar')\n",
    "\n",
    "plt.title('kezbesit hisztogram')\n",
    "plt.xlabel('kezbesit')\n",
    "plt.xticks(rotation=45)\n",
    "plt.ylabel('Darab')\n",
    "plt.show()"
   ]
  },
  {
   "cell_type": "markdown",
   "metadata": {},
   "source": [
    "### bt_irsz"
   ]
  },
  {
   "cell_type": "code",
   "execution_count": null,
   "metadata": {},
   "outputs": [],
   "source": [
    "sns.set(rc={'figure.figsize':(15, 4)})\n",
    "df_irsz = df_rendeles['bt_irsz '].value_counts().to_frame()\n",
    "\n",
    "df_irsz[df_irsz['bt_irsz '] > 1].plot(kind='bar')\n",
    "\n",
    "plt.title('bt_irsz hisztogram')\n",
    "plt.xlabel('bt_irsz')\n",
    "plt.xticks(rotation=45)\n",
    "plt.ylabel('Darab')\n",
    "plt.show()"
   ]
  },
  {
   "cell_type": "markdown",
   "metadata": {},
   "source": [
    "### bt_city"
   ]
  },
  {
   "cell_type": "code",
   "execution_count": null,
   "metadata": {},
   "outputs": [],
   "source": [
    "sns.set(rc={'figure.figsize':(15, 4)})\n",
    "df_irsz = df_rendeles['bt_city '].value_counts().to_frame()\n",
    "\n",
    "df_irsz[df_irsz['bt_city '] > 1].plot(kind='bar')\n",
    "\n",
    "plt.title('bt_city hisztogram')\n",
    "plt.xlabel('bt_city')\n",
    "plt.xticks(rotation=45)\n",
    "plt.ylabel('Darab')\n",
    "plt.show()"
   ]
  },
  {
   "cell_type": "markdown",
   "metadata": {},
   "source": [
    "### bt_ceg"
   ]
  },
  {
   "cell_type": "code",
   "execution_count": null,
   "metadata": {},
   "outputs": [],
   "source": [
    "df_rendeles['bt_ceg '].value_counts()"
   ]
  },
  {
   "cell_type": "markdown",
   "metadata": {},
   "source": [
    "### shop"
   ]
  },
  {
   "cell_type": "code",
   "execution_count": null,
   "metadata": {},
   "outputs": [],
   "source": [
    "df_rendeles['shop '].value_counts()"
   ]
  },
  {
   "cell_type": "markdown",
   "metadata": {},
   "source": [
    "### szallitas"
   ]
  },
  {
   "cell_type": "code",
   "execution_count": null,
   "metadata": {},
   "outputs": [],
   "source": [
    "df_rendeles['szallitas '].value_counts()"
   ]
  },
  {
   "cell_type": "code",
   "execution_count": null,
   "metadata": {},
   "outputs": [],
   "source": [
    "df_rendeles.sort_values(by='szallitas ', ascending=True, inplace=True)"
   ]
  },
  {
   "cell_type": "code",
   "execution_count": null,
   "metadata": {},
   "outputs": [],
   "source": [
    "q1_sz = int(df_rendeles['szallitas '].count()/4)\n",
    "q3_sz = int(3*df_rendeles['szallitas '].count()/4)\n",
    "\n",
    "print('Range of szallitas: {:,.2f} - {:,.2f}'.format(df_rendeles['szallitas '].min(), df_rendeles['szallitas '].max()))\n",
    "print('Interquartile range of szallitas: {:,.2f} - {:,.2f}'.format(df_rendeles['szallitas '].iloc[q1_sz], df_rendeles['szallitas '].iloc[q3_sz]))"
   ]
  },
  {
   "cell_type": "markdown",
   "metadata": {},
   "source": [
    "### nagyker"
   ]
  },
  {
   "cell_type": "code",
   "execution_count": null,
   "metadata": {},
   "outputs": [],
   "source": [
    "df_rendeles['nagyker '].value_counts()"
   ]
  },
  {
   "cell_type": "markdown",
   "metadata": {},
   "source": [
    "## Rendelések"
   ]
  },
  {
   "cell_type": "code",
   "execution_count": 5,
   "metadata": {},
   "outputs": [],
   "source": [
    "shops_list = ['akh', 'archive', 'gumiflex', 'ihle', 'marso', 'olahgumi', 'vandenban']\n",
    "\n",
    "df_orders = pd.DataFrame(columns=['webshop', 'api_azon', 'api_hiba_kod', 'api_hiba_text', 'sku', 'netto_ar', 'menny',\n",
    "       'ossz', 'shipto', 'billto', 'kezbesit', 'bt_irsz', 'bt_city',\n",
    "       'erkezett', 'mod', 'status', 'shop', 'order_in', 'prod_name', 'up_user',\n",
    "       'mod_user', 'fizetendo', 'szallitas', 'fizetendo_feed', 'nagyker',\n",
    "       'athelyezve', 'aff_id', 'arukereso', 'tyretest', 'sendmail',\n",
    "       'kerszamla', 'csavarszett', 'csavar_netto_ar', 'zarol_user',\n",
    "       'zarol_ido'])"
   ]
  },
  {
   "cell_type": "code",
   "execution_count": 6,
   "metadata": {},
   "outputs": [
    {
     "name": "stdout",
     "output_type": "stream",
     "text": [
      "Reading `akh` containing 8,637 records and 36 features.\n"
     ]
    },
    {
     "name": "stderr",
     "output_type": "stream",
     "text": [
      "/opt/conda/lib/python3.6/site-packages/IPython/core/interactiveshell.py:3020: DtypeWarning: Columns (0) have mixed types. Specify dtype option on import or set low_memory=False.\n",
      "  interactivity=interactivity, compiler=compiler, result=result)\n"
     ]
    },
    {
     "name": "stdout",
     "output_type": "stream",
     "text": [
      "Reading `archive` containing 50,145 records and 36 features.\n",
      "Reading `gumiflex` containing 2,990 records and 36 features.\n",
      "Reading `ihle` containing 561 records and 36 features.\n",
      "Reading `marso` containing 4,084 records and 36 features.\n",
      "Reading `olahgumi` containing 412 records and 36 features.\n",
      "Reading `vandenban` containing 259 records and 36 features.\n"
     ]
    }
   ],
   "source": [
    "for i in shops_list:\n",
    "    df_order = pd.read_csv('input/bhpadmin_{:}_hu_orders.csv'.format(i), sep=';', dtype=\n",
    "        {\n",
    "            'webshop': 'object',\n",
    "            'api_azon': 'object',\n",
    "            'api_hiba_kod': 'int',\n",
    "            'api_hiba_text': 'object',\n",
    "            'sku': 'object',\n",
    "            'netto_ar': 'object',\n",
    "            'menny': 'object',\n",
    "            'ossz': 'object',\n",
    "            'shipto': 'category',\n",
    "            'billto': 'category',\n",
    "            'kezbesit': 'object',\n",
    "            'bt_irsz': 'int',\n",
    "            'bt_city': 'object',\n",
    "            'erkezett': 'object',\n",
    "            'mod': 'object',\n",
    "            'status': 'object',\n",
    "            'shop': 'object',\n",
    "            'order_in': 'category',\n",
    "            'prod_name': 'object',\n",
    "            'up_user': 'object',\n",
    "            'mod_user': 'object',\n",
    "            'fizetendo': 'object',\n",
    "            'szallitas': 'float64',\n",
    "            'fizetendo_feed': 'object',\n",
    "            'nagyker': 'object',\n",
    "            'athelyezve': 'object',\n",
    "            'aff_id': 'object',\n",
    "            'arukereso': 'object',\n",
    "            'tyretest': 'object',\n",
    "            'sendmail': 'object',\n",
    "            'kerszamla': 'object',\n",
    "            'csavarszett': 'object',\n",
    "            'csavar_netto_ar': 'object',\n",
    "            'zarol_user': 'object',\n",
    "            'zarol_ido': 'object'\n",
    "        }\n",
    "    )\n",
    "    df_order['webshop'] = i\n",
    "\n",
    "    print('Reading `{}` containing {:,} records and {:} features.'.format(i, df_order.shape[0], df_order.shape[1]))\n",
    "    df_orders = df_orders.append(df_order, ignore_index=True, sort=True)"
   ]
  },
  {
   "cell_type": "code",
   "execution_count": 7,
   "metadata": {},
   "outputs": [
    {
     "data": {
      "text/plain": [
       "(67088, 70)"
      ]
     },
     "execution_count": 7,
     "metadata": {},
     "output_type": "execute_result"
    }
   ],
   "source": [
    "df_orders.shape"
   ]
  },
  {
   "cell_type": "code",
   "execution_count": 8,
   "metadata": {},
   "outputs": [
    {
     "data": {
      "text/html": [
       "<div>\n",
       "<style scoped>\n",
       "    .dataframe tbody tr th:only-of-type {\n",
       "        vertical-align: middle;\n",
       "    }\n",
       "\n",
       "    .dataframe tbody tr th {\n",
       "        vertical-align: top;\n",
       "    }\n",
       "\n",
       "    .dataframe thead th {\n",
       "        text-align: right;\n",
       "    }\n",
       "</style>\n",
       "<table border=\"1\" class=\"dataframe\">\n",
       "  <thead>\n",
       "    <tr style=\"text-align: right;\">\n",
       "      <th></th>\n",
       "      <th>aff_id</th>\n",
       "      <th>aff_id</th>\n",
       "      <th>api_azon</th>\n",
       "      <th>api_azon</th>\n",
       "      <th>api_hiba_kod</th>\n",
       "      <th>api_hiba_kod</th>\n",
       "      <th>api_hiba_text</th>\n",
       "      <th>api_hiba_text</th>\n",
       "      <th>arukereso</th>\n",
       "      <th>arukereso</th>\n",
       "      <th>...</th>\n",
       "      <th>szallitas</th>\n",
       "      <th>szallitas</th>\n",
       "      <th>tyretest</th>\n",
       "      <th>tyretest</th>\n",
       "      <th>up_user</th>\n",
       "      <th>up_user</th>\n",
       "      <th>webshop</th>\n",
       "      <th>zarol_ido</th>\n",
       "      <th>zarol_user</th>\n",
       "      <th>zarol_user</th>\n",
       "    </tr>\n",
       "  </thead>\n",
       "  <tbody>\n",
       "    <tr>\n",
       "      <th>0</th>\n",
       "      <td>0</td>\n",
       "      <td>NaN</td>\n",
       "      <td>IR17-166188</td>\n",
       "      <td>NaN</td>\n",
       "      <td>0</td>\n",
       "      <td>NaN</td>\n",
       "      <td>NaN</td>\n",
       "      <td>NaN</td>\n",
       "      <td>1</td>\n",
       "      <td>NaN</td>\n",
       "      <td>...</td>\n",
       "      <td>1158.0</td>\n",
       "      <td>NaN</td>\n",
       "      <td>2018.01.02</td>\n",
       "      <td>NaN</td>\n",
       "      <td>auto</td>\n",
       "      <td>NaN</td>\n",
       "      <td>akh</td>\n",
       "      <td>NaN</td>\n",
       "      <td>NaN</td>\n",
       "      <td>NaN</td>\n",
       "    </tr>\n",
       "    <tr>\n",
       "      <th>1</th>\n",
       "      <td>0</td>\n",
       "      <td>NaN</td>\n",
       "      <td>IR17-166189</td>\n",
       "      <td>NaN</td>\n",
       "      <td>0</td>\n",
       "      <td>NaN</td>\n",
       "      <td>NaN</td>\n",
       "      <td>NaN</td>\n",
       "      <td>1</td>\n",
       "      <td>NaN</td>\n",
       "      <td>...</td>\n",
       "      <td>2316.0</td>\n",
       "      <td>NaN</td>\n",
       "      <td>2018.01.04</td>\n",
       "      <td>NaN</td>\n",
       "      <td>auto</td>\n",
       "      <td>NaN</td>\n",
       "      <td>akh</td>\n",
       "      <td>NaN</td>\n",
       "      <td>NaN</td>\n",
       "      <td>NaN</td>\n",
       "    </tr>\n",
       "    <tr>\n",
       "      <th>2</th>\n",
       "      <td>0</td>\n",
       "      <td>NaN</td>\n",
       "      <td>IR17-166202</td>\n",
       "      <td>NaN</td>\n",
       "      <td>0</td>\n",
       "      <td>NaN</td>\n",
       "      <td>NaN</td>\n",
       "      <td>NaN</td>\n",
       "      <td>0</td>\n",
       "      <td>NaN</td>\n",
       "      <td>...</td>\n",
       "      <td>2316.0</td>\n",
       "      <td>NaN</td>\n",
       "      <td>2018.01.04</td>\n",
       "      <td>NaN</td>\n",
       "      <td>tothdavid960521@gmail.com</td>\n",
       "      <td>NaN</td>\n",
       "      <td>akh</td>\n",
       "      <td>NaN</td>\n",
       "      <td>NaN</td>\n",
       "      <td>NaN</td>\n",
       "    </tr>\n",
       "    <tr>\n",
       "      <th>3</th>\n",
       "      <td>0</td>\n",
       "      <td>NaN</td>\n",
       "      <td>IR17-166215</td>\n",
       "      <td>NaN</td>\n",
       "      <td>0</td>\n",
       "      <td>NaN</td>\n",
       "      <td>NaN</td>\n",
       "      <td>NaN</td>\n",
       "      <td>1</td>\n",
       "      <td>NaN</td>\n",
       "      <td>...</td>\n",
       "      <td>1158.0</td>\n",
       "      <td>NaN</td>\n",
       "      <td>2018.01.09</td>\n",
       "      <td>NaN</td>\n",
       "      <td>auto</td>\n",
       "      <td>NaN</td>\n",
       "      <td>akh</td>\n",
       "      <td>NaN</td>\n",
       "      <td>NaN</td>\n",
       "      <td>NaN</td>\n",
       "    </tr>\n",
       "    <tr>\n",
       "      <th>4</th>\n",
       "      <td>0</td>\n",
       "      <td>NaN</td>\n",
       "      <td>IR17-166257</td>\n",
       "      <td>NaN</td>\n",
       "      <td>0</td>\n",
       "      <td>NaN</td>\n",
       "      <td>NaN</td>\n",
       "      <td>NaN</td>\n",
       "      <td>1</td>\n",
       "      <td>NaN</td>\n",
       "      <td>...</td>\n",
       "      <td>1158.0</td>\n",
       "      <td>NaN</td>\n",
       "      <td>2018.01.09</td>\n",
       "      <td>NaN</td>\n",
       "      <td>auto</td>\n",
       "      <td>NaN</td>\n",
       "      <td>akh</td>\n",
       "      <td>NaN</td>\n",
       "      <td>NaN</td>\n",
       "      <td>NaN</td>\n",
       "    </tr>\n",
       "  </tbody>\n",
       "</table>\n",
       "<p>5 rows × 70 columns</p>\n",
       "</div>"
      ],
      "text/plain": [
       "  aff_id  aff_id      api_azon api_azon  api_hiba_kod  api_hiba_kod   \\\n",
       "0      0      NaN  IR17-166188       NaN            0            NaN   \n",
       "1      0      NaN  IR17-166189       NaN            0            NaN   \n",
       "2      0      NaN  IR17-166202       NaN            0            NaN   \n",
       "3      0      NaN  IR17-166215       NaN            0            NaN   \n",
       "4      0      NaN  IR17-166257       NaN            0            NaN   \n",
       "\n",
       "  api_hiba_text api_hiba_text  arukereso arukereso   ... szallitas szallitas   \\\n",
       "0           NaN            NaN         1        NaN  ...    1158.0        NaN   \n",
       "1           NaN            NaN         1        NaN  ...    2316.0        NaN   \n",
       "2           NaN            NaN         0        NaN  ...    2316.0        NaN   \n",
       "3           NaN            NaN         1        NaN  ...    1158.0        NaN   \n",
       "4           NaN            NaN         1        NaN  ...    1158.0        NaN   \n",
       "\n",
       "     tyretest tyretest                     up_user up_user  webshop  \\\n",
       "0  2018.01.02       NaN                       auto      NaN     akh   \n",
       "1  2018.01.04       NaN                       auto      NaN     akh   \n",
       "2  2018.01.04       NaN  tothdavid960521@gmail.com      NaN     akh   \n",
       "3  2018.01.09       NaN                       auto      NaN     akh   \n",
       "4  2018.01.09       NaN                       auto      NaN     akh   \n",
       "\n",
       "   zarol_ido zarol_user  zarol_user   \n",
       "0        NaN        NaN          NaN  \n",
       "1        NaN        NaN          NaN  \n",
       "2        NaN        NaN          NaN  \n",
       "3        NaN        NaN          NaN  \n",
       "4        NaN        NaN          NaN  \n",
       "\n",
       "[5 rows x 70 columns]"
      ]
     },
     "execution_count": 8,
     "metadata": {},
     "output_type": "execute_result"
    }
   ],
   "source": [
    "df_orders[:5]"
   ]
  },
  {
   "cell_type": "code",
   "execution_count": null,
   "metadata": {},
   "outputs": [],
   "source": [
    "df_orders['ossz'].unique()"
   ]
  },
  {
   "cell_type": "code",
   "execution_count": null,
   "metadata": {},
   "outputs": [],
   "source": [
    "df_orders['ossz'][df_orders['webshop'] == 'akh'][:5]"
   ]
  },
  {
   "cell_type": "code",
   "execution_count": 9,
   "metadata": {},
   "outputs": [],
   "source": [
    "def draw_histogram(df_values, title, q1, q3):\n",
    "    sns.set(rc={'figure.figsize':(15, 6)})\n",
    "    sns.distplot(df_values.values, bins=100, norm_hist=False)\n",
    "\n",
    "    plt.title('`{}` hisztogram'.format(title))\n",
    "    plt.xlabel(title)\n",
    "    plt.ylabel('Gyakoriság')\n",
    "    plt.axvline(df_values.iloc[q1], color=\"k\", linestyle=\"--\", linewidth=1)\n",
    "    plt.axvline(df_values.iloc[q3], color=\"k\", linestyle=\"--\", linewidth=1)\n",
    "    plt.show()"
   ]
  },
  {
   "cell_type": "code",
   "execution_count": 10,
   "metadata": {
    "scrolled": false
   },
   "outputs": [
    {
     "name": "stdout",
     "output_type": "stream",
     "text": [
      "\u001b[4mMennyiség (menny)\u001b[0m\n",
      "\n",
      "Terjedelem: 0.00 - 48.00\n",
      "Interkvartilis tartomány: 2.00 - 4.00\n"
     ]
    },
    {
     "data": {
      "image/png": "[encoded data removed]",
      "text/plain": [
       "<matplotlib.figure.Figure at 0x7f1ccc925588>"
      ]
     },
     "metadata": {},
     "output_type": "display_data"
    },
    {
     "name": "stdout",
     "output_type": "stream",
     "text": [
      "\u001b[4mNettó ár (netto_ar)\u001b[0m\n",
      "\n",
      "Terjedelem: 0.00 - 10,380,550.00\n",
      "Terjedelem (utolsó 10% nélkül): 0.00 - 23,342.00\n",
      "Interkvartilis tartomány (utolsó 10% nélkül): 8,138.00 - 13,605.00\n"
     ]
    },
    {
     "data": {
      "image/png": "[encoded data removed]",
      "text/plain": [
       "<matplotlib.figure.Figure at 0x7f1c95971048>"
      ]
     },
     "metadata": {},
     "output_type": "display_data"
    },
    {
     "name": "stdout",
     "output_type": "stream",
     "text": [
      "\u001b[4mÖsszesen (ossz)\u001b[0m\n",
      "\n",
      "Terjedelem: 0.00 - 83,044,402.00\n",
      "Terjedelem (utolsó 10% nélkül): 0.00 - 82,415.00\n",
      "Interkvartilis tartomány (utolsó 10% nélkül): 18,785.00 - 47,510.00\n"
     ]
    },
    {
     "data": {
      "image/png": "[encoded data removed]",
      "text/plain": [
       "<matplotlib.figure.Figure at 0x7f1cd5473e48>"
      ]
     },
     "metadata": {},
     "output_type": "display_data"
    },
    {
     "name": "stdout",
     "output_type": "stream",
     "text": [
      "\u001b[4mFizetendő (fizetendo)\u001b[0m\n",
      "\n",
      "Terjedelem: -26,351.00 - 80,000,000.00\n",
      "Terjedelem (utolsó 10% nélkül): -26,351.00 - 67,160.00\n",
      "Interkvartilis tartomány (utolsó 10% nélkül): 0.00 - 39,160.00\n"
     ]
    },
    {
     "data": {
      "image/png": "[encoded data removed]",
      "text/plain": [
       "<matplotlib.figure.Figure at 0x7f1c957533c8>"
      ]
     },
     "metadata": {},
     "output_type": "display_data"
    },
    {
     "name": "stdout",
     "output_type": "stream",
     "text": [
      "\u001b[4mSzállítási díj (szallitas)\u001b[0m\n",
      "\n",
      "Terjedelem: 0.00 - 67,560.00\n",
      "Terjedelem (utolsó 10% nélkül): 0.00 - 2,516.00\n",
      "Interkvartilis tartomány (utolsó 10% nélkül): 0.00 - 1,560.00\n"
     ]
    },
    {
     "data": {
      "image/png": "[encoded data removed]",
      "text/plain": [
       "<matplotlib.figure.Figure at 0x7f1c96fe6160>"
      ]
     },
     "metadata": {},
     "output_type": "display_data"
    }
   ],
   "source": [
    "col2hist_dict = [\n",
    "    {'id': 'menny', 'title': 'Mennyiség', 'type': 'numeric', 'remove_last_10_percent': False},\n",
    "    {'id': 'netto_ar', 'title': 'Nettó ár', 'type': 'numeric', 'remove_last_10_percent': True},\n",
    "    {'id': 'ossz', 'title': 'Összesen', 'type': 'numeric', 'remove_last_10_percent': True},\n",
    "    {'id': 'fizetendo', 'title': 'Fizetendő', 'type': 'numeric', 'remove_last_10_percent': True},\n",
    "    {'id': 'szallitas', 'title': 'Szállítási díj', 'type': 'numeric', 'remove_last_10_percent': True}\n",
    "]\n",
    "\n",
    "for i in col2hist_dict:\n",
    "    print(\"\\033[4m{} ({})\\033[0m\\n\".format(i['title'], i['id']))\n",
    "\n",
    "    if i['type'] == 'numeric':\n",
    "        df_orders[i['id']] = pd.to_numeric(df_orders[i['id']], errors='coerce').fillna(0).astype(np.int64)\n",
    "    \n",
    "    df_orders.sort_values(by=i['id'], ascending=True, inplace=True)\n",
    "\n",
    "    if i['remove_last_10_percent']:\n",
    "        df_clipped = df_orders[:-int(df_orders[i['id']].count()/10)].copy()\n",
    "    else:\n",
    "        df_clipped = df_orders.copy()\n",
    "\n",
    "    q1 = int(df_clipped[i['id']].count()/4)\n",
    "    q3 = int(3*df_clipped[i['id']].count()/4)\n",
    "\n",
    "    print('Terjedelem: {:,.2f} - {:,.2f}'.format(df_orders[i['id']].min(), df_orders[i['id']].max()))\n",
    "    if i['remove_last_10_percent']:\n",
    "        print('Terjedelem (utolsó 10% nélkül): {:,.2f} - {:,.2f}'.format(df_clipped[i['id']].min(), df_clipped[i['id']].max()))\n",
    "    \n",
    "    if i['remove_last_10_percent']:\n",
    "        print('Interkvartilis tartomány (utolsó 10% nélkül): {:,.2f} - {:,.2f}'.format(df_clipped[i['id']].iloc[q1], df_clipped[i['id']].iloc[q3]))\n",
    "    else:\n",
    "        print('Interkvartilis tartomány: {:,.2f} - {:,.2f}'.format(df_clipped[i['id']].iloc[q1], df_clipped[i['id']].iloc[q3]))\n",
    "\n",
    "    draw_histogram(df_clipped[i['id']], i['title'], q1, q3)"
   ]
  },
  {
   "cell_type": "markdown",
   "metadata": {},
   "source": [
    "## Classification"
   ]
  },
  {
   "cell_type": "code",
   "execution_count": 11,
   "metadata": {},
   "outputs": [],
   "source": [
    "target = df_orders['prod_name'].copy()\n",
    "target = pd.get_dummies(target, prefix=['prod'])"
   ]
  },
  {
   "cell_type": "code",
   "execution_count": 12,
   "metadata": {},
   "outputs": [],
   "source": [
    "df_train_columns = ['netto_ar', 'menny', 'bt_irsz', 'order_in']\n",
    "df_train = df_orders[df_train_columns].copy()"
   ]
  },
  {
   "cell_type": "code",
   "execution_count": 13,
   "metadata": {},
   "outputs": [],
   "source": [
    "df_train = pd.get_dummies(df_train, columns = ['bt_irsz', 'order_in'])"
   ]
  },
  {
   "cell_type": "markdown",
   "metadata": {},
   "source": [
    "### DecisionTree"
   ]
  },
  {
   "cell_type": "code",
   "execution_count": 14,
   "metadata": {},
   "outputs": [],
   "source": [
    "X_train, X_test, y_train, y_test = train_test_split(df_train, target, test_size=0.3, random_state=1)"
   ]
  },
  {
   "cell_type": "code",
   "execution_count": null,
   "metadata": {},
   "outputs": [],
   "source": [
    "clf = DecisionTreeClassifier()\n",
    "clf = clf.fit(X_train, y_train)\n",
    "\n",
    "y_pred = clf.predict(X_test)"
   ]
  },
  {
   "cell_type": "code",
   "execution_count": null,
   "metadata": {},
   "outputs": [],
   "source": [
    "print(\"Accuracy:\", metrics.accuracy_score(y_test, y_pred))"
   ]
  },
  {
   "cell_type": "code",
   "execution_count": null,
   "metadata": {},
   "outputs": [],
   "source": [
    "from sklearn.tree import export_graphviz\n",
    "from sklearn.externals.six import StringIO  \n",
    "from IPython.display import Image  \n",
    "import pydotplus\n",
    "\n",
    "dot_data = StringIO()\n",
    "export_graphviz(clf, out_file=dot_data,  \n",
    "                filled=True, rounded=True,\n",
    "                special_characters=True,feature_names = feature_cols,class_names=['0','1'])\n",
    "graph = pydotplus.graph_from_dot_data(dot_data.getvalue())  \n",
    "graph.write_png('diabetes.png')\n",
    "Image(graph.create_png())"
   ]
  },
  {
   "cell_type": "markdown",
   "metadata": {},
   "source": [
    "### LightGBM"
   ]
  },
  {
   "cell_type": "code",
   "execution_count": null,
   "metadata": {},
   "outputs": [],
   "source": [
    "df_train.reset_index(inplace=True, drop=True)\n",
    "df_train[:5]"
   ]
  },
  {
   "cell_type": "code",
   "execution_count": null,
   "metadata": {},
   "outputs": [],
   "source": [
    "%%time\n",
    "param = {\n",
    "    \"bagging_freq\": 1,\n",
    "    \"bagging_fraction\": 0.9,\n",
    "    \"bagging_seed\": 11,\n",
    "    \"boosting\": \"gbdt\",\n",
    "\n",
    "    \"feature_fraction\": 0.9,\n",
    "    #\"feature_fraction_seed\": 1,\n",
    "\n",
    "    \"lambda_l1\": 0.1,\n",
    "    \"learning_rate\": 0.01,\n",
    "\n",
    "    #\"max_bin\": 5,\n",
    "    'max_depth': -1,\n",
    "    \"metric\": \"rmse\",\n",
    "    #\"min_data_in_leaf\": 30,\n",
    "    #\"min_gain_to_split\": 0.1,\n",
    "    \"min_child_samples\": 20,\n",
    "    #\"num_boost_round\": 100,\n",
    "    \"num_leaves\": 31,\n",
    "    \"nthread\": -1,\n",
    "\n",
    "    \"objective\": \"multiclass\",\n",
    "\n",
    "    \"random_state\": 402,\n",
    "    \"verbosity\": -1\n",
    "}\n",
    "\n",
    "folds = KFold(n_splits=5, shuffle=True, random_state=402)\n",
    "oof_lgbm = np.zeros(len(df_train))\n",
    "#predictions_lgbm = np.zeros(len(df_test))\n",
    "feature_importance_lgbm = pd.DataFrame()\n",
    "\n",
    "for fold_, (trn_idx, val_idx) in enumerate(folds.split(df_train)):\n",
    "    print(\"\\nFold {}.\".format(fold_+1))\n",
    "    trn_data = lgb.Dataset(df_train.iloc[trn_idx], label=target.iloc[trn_idx])\n",
    "    #val_data = lgb.Dataset(df_train.iloc[val_idx], label=target.iloc[val_idx])\n",
    "\n",
    "    #model_lgbm = lgb.train(param, trn_data, 10000, valid_sets = [trn_data, val_data], verbose_eval=100, early_stopping_rounds=100)\n",
    "    #oof_lgbm[val_idx] = model_lgbm.predict(df_train.iloc[val_idx][df_train_columns], num_iteration=model_lgbm.best_iteration)\n",
    "    \n",
    "    #fold_importance_df = pd.DataFrame()\n",
    "    #fold_importance_df[\"feature\"] = df_train_columns\n",
    "    #fold_importance_df[\"importance\"] = model_lgbm.feature_importance()\n",
    "    #fold_importance_df[\"fold\"] = fold_ + 1\n",
    "    #feature_importance_lgbm = pd.concat([feature_importance_lgbm, fold_importance_df], axis=0)\n",
    "    \n",
    "    #predictions_lgbm += model_lgbm.predict(df_test[df_train_columns], num_iteration=model_lgbm.best_iteration) / folds.n_splits"
   ]
  },
  {
   "cell_type": "code",
   "execution_count": null,
   "metadata": {},
   "outputs": [],
   "source": []
  }
 ],
 "metadata": {
  "kernelspec": {
   "display_name": "Python 3",
   "language": "python",
   "name": "python3"
  },
  "language_info": {
   "codemirror_mode": {
    "name": "ipython",
    "version": 3
   },
   "file_extension": ".py",
   "mimetype": "text/x-python",
   "name": "python",
   "nbconvert_exporter": "python",
   "pygments_lexer": "ipython3",
   "version": "3.6.0"
  },
  "toc": {
   "base_numbering": 1,
   "nav_menu": {},
   "number_sections": true,
   "sideBar": true,
   "skip_h1_title": false,
   "title_cell": "Table of Contents",
   "title_sidebar": "Contents",
   "toc_cell": false,
   "toc_position": {
    "height": "calc(100% - 180px)",
    "left": "10px",
    "top": "150px",
    "width": "307.2px"
   },
   "toc_section_display": true,
   "toc_window_display": false
  }
 },
 "nbformat": 4,
 "nbformat_minor": 2
}
