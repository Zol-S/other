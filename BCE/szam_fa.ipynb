{
 "cells": [
  {
   "cell_type": "markdown",
   "id": "3bf9016f",
   "metadata": {},
   "source": [
    "# Szám fa feladat\n",
    "Last update: _2021.11.04_\n",
    "![A feladat](task2.jpg \"Feladat\")"
   ]
  },
  {
   "cell_type": "code",
   "execution_count": 1,
   "id": "4a34bc8d",
   "metadata": {},
   "outputs": [],
   "source": [
    "import math\n",
    "import time\n",
    "import numpy as np\n",
    "\n",
    "from tqdm import tqdm"
   ]
  },
  {
   "cell_type": "raw",
   "id": "ffa7cf4a",
   "metadata": {},
   "source": [
    "nr      tree\n",
    "0         1\n",
    "1        2  3\n",
    "2       4  5  6\n",
    "3      7  8  9 10\n",
    "4    11 12 13 14 15\n",
    "5  16 17 18 19 20 21\n",
    "6 22 23 24 25 26 27 28\n",
    "\n",
    "Starting numbers:\n",
    "0 1\n",
    "1 2\n",
    "2 4\n",
    "3 7\n",
    "4 11\n",
    "5 16\n",
    "6 22"
   ]
  },
  {
   "cell_type": "code",
   "execution_count": 2,
   "id": "bd6d6f76",
   "metadata": {},
   "outputs": [
    {
     "data": {
      "text/plain": [
       "(1, 2, 4, 7, 11)"
      ]
     },
     "execution_count": 2,
     "metadata": {},
     "output_type": "execute_result"
    }
   ],
   "source": [
    "def tree_row_start(row_nr):\n",
    "    if row_nr == 0:\n",
    "        return 1\n",
    "    else:\n",
    "        return tree_row_start(row_nr-1) + row_nr\n",
    "\n",
    "tree_row_start(0), tree_row_start(1), tree_row_start(2), tree_row_start(3), tree_row_start(4)"
   ]
  },
  {
   "cell_type": "code",
   "execution_count": 3,
   "id": "59d7b2d4",
   "metadata": {},
   "outputs": [
    {
     "name": "stdout",
     "output_type": "stream",
     "text": [
      "6. row has 7 elements, starting with 22\n"
     ]
    },
    {
     "data": {
      "text/plain": [
       "array([22, 23, 24, 25, 26, 27, 28])"
      ]
     },
     "execution_count": 3,
     "metadata": {},
     "output_type": "execute_result"
    }
   ],
   "source": [
    "def counter_tree_row(row_nr, verbose=False):\n",
    "    start = tree_row_start(row_nr)\n",
    "    if verbose:\n",
    "        print('{:}. row has {:} elements, starting with {:}'.format(row_nr, row_nr+1, start))\n",
    "\n",
    "    return np.arange(start, start+row_nr+1)\n",
    "\n",
    "counter_tree_row(6, verbose=True)\n",
    "\n",
    "#counter_tree_row(0), counter_tree_row(1), counter_tree_row(2)\n",
    "#, counter_tree_row(3), counter_tree_row(4), counter_tree_row(5), counter_tree_row(6), counter_tree_row(7)"
   ]
  },
  {
   "cell_type": "code",
   "execution_count": 4,
   "id": "1908f1ba",
   "metadata": {},
   "outputs": [],
   "source": [
    "row_indices = []\n",
    "for i in range(0, 25):\n",
    "    row_indices.append(int(math.pow(2, i)))"
   ]
  },
  {
   "cell_type": "code",
   "execution_count": 5,
   "id": "5299fd63",
   "metadata": {},
   "outputs": [
    {
     "name": "stdout",
     "output_type": "stream",
     "text": [
      "Az index számok összege: 33,554,431\n"
     ]
    }
   ],
   "source": [
    "print('Az index számok összege: {:,.0f}'.format(math.fsum(row_indices)))"
   ]
  },
  {
   "cell_type": "code",
   "execution_count": 6,
   "id": "d890db21",
   "metadata": {},
   "outputs": [],
   "source": [
    "def sum_tree_rows(row_indices, verbose=False):\n",
    "    start_time = time.time()\n",
    "    \n",
    "    row_sums = 0\n",
    "    for i in row_indices:\n",
    "        row_sums+= math.fsum(counter_tree_row(i))\n",
    "    \n",
    "    end_time = time.time()\n",
    "    m, s = divmod(end_time-start_time, 60)\n",
    "    h, m = divmod(m, 60)\n",
    "    \n",
    "    if verbose:\n",
    "        print('A kijelölt sorokban található számok összege: {:,.0f}\\nFelhasznált idő: {:d}:{:02d}:{:02d} ({:})'.format(\n",
    "            row_sums,\n",
    "            int(h),\n",
    "            int(m),\n",
    "            int(s),\n",
    "            (end_time-start_time)\n",
    "        ))\n",
    "    \n",
    "    return int(row_sums)"
   ]
  },
  {
   "cell_type": "code",
   "execution_count": 7,
   "id": "16682c00",
   "metadata": {},
   "outputs": [
    {
     "name": "stdout",
     "output_type": "stream",
     "text": [
      "A kijelölt sorokban található számok összege: 77,222,188\n",
      "Felhasznált idő: 0:00:00 (0.0010333061218261719)\n"
     ]
    },
    {
     "data": {
      "text/plain": [
       "77222188"
      ]
     },
     "execution_count": 7,
     "metadata": {},
     "output_type": "execute_result"
    }
   ],
   "source": [
    "sum_tree_rows(row_indices[:10], verbose=True)"
   ]
  },
  {
   "cell_type": "code",
   "execution_count": 8,
   "id": "c614b34b",
   "metadata": {},
   "outputs": [
    {
     "name": "stdout",
     "output_type": "stream",
     "text": [
      "A kijelölt sorokban található számok összege: 4,916,930,862\n",
      "Felhasznált idő: 0:00:00 (0.002000570297241211)\n"
     ]
    },
    {
     "data": {
      "text/plain": [
       "4916930862"
      ]
     },
     "execution_count": 8,
     "metadata": {},
     "output_type": "execute_result"
    }
   ],
   "source": [
    "sum_tree_rows(row_indices[:12], verbose=True)"
   ]
  },
  {
   "cell_type": "code",
   "execution_count": null,
   "id": "142504ed",
   "metadata": {},
   "outputs": [],
   "source": [
    "sum_tree_rows(row_indices[:13], verbose=True)"
   ]
  },
  {
   "cell_type": "code",
   "execution_count": null,
   "id": "8dc41e46",
   "metadata": {},
   "outputs": [],
   "source": []
  }
 ],
 "metadata": {
  "kernelspec": {
   "display_name": "Python 3 (ipykernel)",
   "language": "python",
   "name": "python3"
  },
  "language_info": {
   "codemirror_mode": {
    "name": "ipython",
    "version": 3
   },
   "file_extension": ".py",
   "mimetype": "text/x-python",
   "name": "python",
   "nbconvert_exporter": "python",
   "pygments_lexer": "ipython3",
   "version": "3.9.6"
  }
 },
 "nbformat": 4,
 "nbformat_minor": 5
}
