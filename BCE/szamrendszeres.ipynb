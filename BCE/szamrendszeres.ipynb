{
 "cells": [
  {
   "cell_type": "markdown",
   "id": "8e10a67e",
   "metadata": {},
   "source": [
    "# Számrendszeres feladat\n",
    "Last update: _2021.11.01_\n",
    "![A feladat](task.jpg \"Feladat\")"
   ]
  },
  {
   "cell_type": "code",
   "execution_count": 1,
   "id": "a2708dd0",
   "metadata": {},
   "outputs": [],
   "source": [
    "input_number = \"m42a8221\"\n",
    "output_number = \"21mpd95h\""
   ]
  },
  {
   "cell_type": "code",
   "execution_count": 5,
   "id": "d1d43a9f",
   "metadata": {},
   "outputs": [],
   "source": [
    "import string\n",
    "\n",
    "conversion_a2n = {}\n",
    "for i in range(10):\n",
    "    conversion_a2n[str(i)] = i\n",
    "\n",
    "for i in range(len(string.ascii_lowercase)):\n",
    "    conversion_a2n[string.ascii_lowercase[i]] = i+10\n",
    "    \n",
    "conversion_n2a = dict((v ,k) for k,v in conversion_a2n.items())"
   ]
  },
  {
   "cell_type": "code",
   "execution_count": 7,
   "id": "23f44f8a",
   "metadata": {},
   "outputs": [
    {
     "data": {
      "text/plain": [
       "8190"
      ]
     },
     "execution_count": 7,
     "metadata": {},
     "output_type": "execute_result"
    }
   ],
   "source": [
    "import math\n",
    "\n",
    "def convert2decimal(input_string, base):\n",
    "    input_str_rev = input_string[::-1]\n",
    "    output = 0\n",
    "    for i in range(len(input_str_rev)):\n",
    "        output+= conversion_a2n[input_str_rev[i]]*math.pow(base, i)\n",
    "\n",
    "    return int(output)\n",
    "\n",
    "convert2decimal('1ffe', 16)"
   ]
  },
  {
   "cell_type": "code",
   "execution_count": 8,
   "id": "7165162c",
   "metadata": {},
   "outputs": [
    {
     "data": {
      "text/plain": [
       "(22, 25)"
      ]
     },
     "execution_count": 8,
     "metadata": {},
     "output_type": "execute_result"
    }
   ],
   "source": [
    "conversion_a2n['m'], conversion_a2n['p']"
   ]
  },
  {
   "cell_type": "markdown",
   "id": "83c2632c",
   "metadata": {},
   "source": [
    "Az első szám minimum 23-as számrendszerbeli, míg a második szám minimum 26-os számrendszerbeli. Első körben élek azzal az egyszerűsítéssel, hogy max 35-ös számrendszerig számolok."
   ]
  },
  {
   "cell_type": "code",
   "execution_count": 9,
   "id": "35861cfc",
   "metadata": {},
   "outputs": [
    {
     "name": "stdout",
     "output_type": "stream",
     "text": [
      "22|m42a8221 = 10|55,342,129,173\n",
      "23|m42a8221 = 10|75,514,072,927\n",
      "24|m42a8221 = 10|101,686,138,033\n",
      "25|m42a8221 = 10|135,277,470,051\n",
      "26|m42a8221 = 10|177,963,961,501\n",
      "27|m42a8221 = 10|231,711,623,623\n",
      "28|m42a8221 = 10|298,812,733,017\n",
      "29|m42a8221 = 10|381,924,864,043\n",
      "30|m42a8221 = 10|484,112,917,861\n",
      "31|m42a8221 = 10|608,894,258,991\n",
      "32|m42a8221 = 10|760,287,070,273\n",
      "33|m42a8221 = 10|942,862,037,107\n",
      "34|m42a8221 = 10|1,161,797,471,853\n",
      "35|m42a8221 = 10|1,422,937,989,271\n"
     ]
    }
   ],
   "source": [
    "input_numbers_list = []\n",
    "for i in range(22, 36):\n",
    "    print('{:}|{:} = 10|{:,}'.format(i, input_number, convert2decimal(input_number, i)))\n",
    "    input_numbers_list.append(convert2decimal(input_number, i))"
   ]
  },
  {
   "cell_type": "code",
   "execution_count": 10,
   "id": "8d7a227d",
   "metadata": {},
   "outputs": [
    {
     "name": "stdout",
     "output_type": "stream",
     "text": [
      "25|21mpd95h = 10|12,675,990,142\n",
      "26|21mpd95h = 10|16,645,585,519\n",
      "27|21mpd95h = 10|21,637,351,466\n",
      "28|21mpd95h = 10|27,862,034,413\n",
      "29|21mpd95h = 10|35,563,828,030\n",
      "30|21mpd95h = 10|45,024,209,267\n",
      "31|21mpd95h = 10|56,566,057,354\n",
      "32|21mpd95h = 10|70,558,065,841\n",
      "33|21mpd95h = 10|87,419,457,758\n",
      "34|21mpd95h = 10|107,625,013,975\n",
      "35|21mpd95h = 10|131,710,424,842\n"
     ]
    }
   ],
   "source": [
    "output_numbers_list = []\n",
    "for i in range(25, 36):\n",
    "    print('{:}|{:} = 10|{:,}'.format(i, output_number, convert2decimal(output_number, i)))\n",
    "    output_numbers_list.append(convert2decimal(output_number, i))"
   ]
  },
  {
   "cell_type": "markdown",
   "id": "ad1617be",
   "metadata": {},
   "source": [
    "Az első számok halmazából egy számból levonunk egy ismeretlen számot, a második számok halmazából valamelyiket kapjuk. Az ismeretlen számról annyit tudunk, hogy az elemei balról-jobbra egy számtani sor elemei. A negatív számokat kiszűrom, mert azok nem lehetnek tagjai a számtani sorozatnak.(?)"
   ]
  },
  {
   "cell_type": "code",
   "execution_count": 11,
   "id": "d1fcf52f",
   "metadata": {},
   "outputs": [],
   "source": [
    "possible_answers = []\n",
    "for i in input_numbers_list:\n",
    "    for j in output_numbers_list:\n",
    "        # Keep positive numbers only\n",
    "        if (i-j) > 0:\n",
    "            possible_answers.append(i-j)\n",
    "\n",
    "possible_answers.sort()"
   ]
  },
  {
   "cell_type": "code",
   "execution_count": 12,
   "id": "95fbbc3d",
   "metadata": {},
   "outputs": [
    {
     "data": {
      "text/plain": [
       "144"
      ]
     },
     "execution_count": 12,
     "metadata": {},
     "output_type": "execute_result"
    }
   ],
   "source": [
    "len(possible_answers)"
   ]
  },
  {
   "cell_type": "code",
   "execution_count": 14,
   "id": "5c4274c8",
   "metadata": {
    "scrolled": false
   },
   "outputs": [
    {
     "data": {
      "text/plain": [
       "[3567045209, 4956007086, 10317919906, 14266680275, 18948015573]"
      ]
     },
     "execution_count": 14,
     "metadata": {},
     "output_type": "execute_result"
    }
   ],
   "source": [
    "possible_answers[:5]"
   ]
  },
  {
   "cell_type": "code",
   "execution_count": 15,
   "id": "ff7ac05d",
   "metadata": {},
   "outputs": [],
   "source": [
    "def encode(n):\n",
    "    try:\n",
    "        return \"0123456789abcdefghijklmnopqrstuvwxyz\"[n]\n",
    "    except IndexError:\n",
    "        raise Exception (\"cannot encode: %s\" % n)\n",
    "\n",
    "def dec_to_base(dec = 0, base = 16):\n",
    "    if dec < base:\n",
    "        return encode(dec)\n",
    "    else:\n",
    "        return dec_to_base(dec // base, base) + encode (dec % base)"
   ]
  },
  {
   "cell_type": "code",
   "execution_count": 44,
   "id": "c325e983",
   "metadata": {},
   "outputs": [],
   "source": [
    "def number2list(input_string):\n",
    "    output = []\n",
    "    for i in input_string:\n",
    "        output.append(conversion_a2n[i])\n",
    "    \n",
    "    return output"
   ]
  },
  {
   "cell_type": "code",
   "execution_count": 54,
   "id": "20d235a4",
   "metadata": {},
   "outputs": [
    {
     "name": "stdout",
     "output_type": "stream",
     "text": [
      "usqomki [30, 28, 26, 24, 22, 20, 18] 34\n"
     ]
    }
   ],
   "source": [
    "import numpy as np\n",
    "\n",
    "for k in possible_answers:\n",
    "    for i in range(10, 36):\n",
    "        conv_number = dec_to_base(k, i)\n",
    "        if (not np.any(np.diff(number2list(conv_number), 2))):\n",
    "            print(conv_number, number2list(conv_number), i)"
   ]
  },
  {
   "cell_type": "code",
   "execution_count": 66,
   "id": "26040543",
   "metadata": {},
   "outputs": [
    {
     "data": {
      "text/plain": [
       "'929a6a3216'"
      ]
     },
     "execution_count": 66,
     "metadata": {},
     "output_type": "execute_result"
    }
   ],
   "source": [
    "dec_to_base(convert2decimal('usqomki', 34), 12)"
   ]
  },
  {
   "cell_type": "code",
   "execution_count": null,
   "id": "e5e0f4c2",
   "metadata": {},
   "outputs": [],
   "source": []
  }
 ],
 "metadata": {
  "kernelspec": {
   "display_name": "Python 3 (ipykernel)",
   "language": "python",
   "name": "python3"
  },
  "language_info": {
   "codemirror_mode": {
    "name": "ipython",
    "version": 3
   },
   "file_extension": ".py",
   "mimetype": "text/x-python",
   "name": "python",
   "nbconvert_exporter": "python",
   "pygments_lexer": "ipython3",
   "version": "3.9.6"
  }
 },
 "nbformat": 4,
 "nbformat_minor": 5
}
