{
 "cells": [
  {
   "cell_type": "markdown",
   "id": "de344495",
   "metadata": {},
   "source": [
    "# Számrendszeres feladat\n",
    "Last update: _2021.11.01_\n",
    "![A feladat](task.jpg \"Feladat\")"
   ]
  },
  {
   "cell_type": "code",
   "execution_count": 1,
   "id": "d0be0ae6",
   "metadata": {},
   "outputs": [],
   "source": [
    "input_number = \"m42a8221\"\n",
    "output_number = \"21mpd95h\""
   ]
  },
  {
   "cell_type": "code",
   "execution_count": 2,
   "id": "820936be",
   "metadata": {},
   "outputs": [],
   "source": [
    "import string\n",
    "\n",
    "conversion_a2n = {}\n",
    "for i in range(len(string.ascii_lowercase)):\n",
    "    conversion_a2n[string.ascii_lowercase[i]] = i+10\n",
    "    \n",
    "conversion_n2a = dict((v ,k) for k,v in conversion_a2n.items())"
   ]
  },
  {
   "cell_type": "code",
   "execution_count": 41,
   "id": "8dad5b72",
   "metadata": {},
   "outputs": [
    {
     "data": {
      "text/plain": [
       "8190"
      ]
     },
     "execution_count": 41,
     "metadata": {},
     "output_type": "execute_result"
    }
   ],
   "source": [
    "import math\n",
    "\n",
    "def convert2decimal(input_string, base):\n",
    "    input_str_rev = input_string[::-1]\n",
    "    output = 0\n",
    "    for i in range(len(input_str_rev)):\n",
    "        if input_str_rev[i] in conversion_a2n.keys():\n",
    "            output+= conversion_a2n[input_str_rev[i]]*math.pow(base, i)\n",
    "        else:\n",
    "            output+= int(input_str_rev[i])*math.pow(base, i)\n",
    "\n",
    "    return int(output)\n",
    "\n",
    "convert2decimal('1ffe', 16)"
   ]
  },
  {
   "cell_type": "code",
   "execution_count": 7,
   "id": "a75dfce6",
   "metadata": {},
   "outputs": [
    {
     "data": {
      "text/plain": [
       "(22, 25)"
      ]
     },
     "execution_count": 7,
     "metadata": {},
     "output_type": "execute_result"
    }
   ],
   "source": [
    "conversion_a2n['m'], conversion_a2n['p']"
   ]
  },
  {
   "cell_type": "markdown",
   "id": "5c755e2b",
   "metadata": {},
   "source": [
    "Az első szám minimum 23-as számrendszerbeli, míg a második szám minimum 26-os számrendszerbeli. Első körben élek azzal az egyszerűsítéssel, hogy max 35-ös számrendszerig számolok."
   ]
  },
  {
   "cell_type": "code",
   "execution_count": 10,
   "id": "1d305999",
   "metadata": {},
   "outputs": [
    {
     "name": "stdout",
     "output_type": "stream",
     "text": [
      "22|m42a8221 = 10|55,342,129,173\n",
      "23|m42a8221 = 10|75,514,072,927\n",
      "24|m42a8221 = 10|101,686,138,033\n",
      "25|m42a8221 = 10|135,277,470,051\n",
      "26|m42a8221 = 10|177,963,961,501\n",
      "27|m42a8221 = 10|231,711,623,623\n",
      "28|m42a8221 = 10|298,812,733,017\n",
      "29|m42a8221 = 10|381,924,864,043\n",
      "30|m42a8221 = 10|484,112,917,861\n",
      "31|m42a8221 = 10|608,894,258,991\n",
      "32|m42a8221 = 10|760,287,070,273\n",
      "33|m42a8221 = 10|942,862,037,107\n",
      "34|m42a8221 = 10|1,161,797,471,853\n",
      "35|m42a8221 = 10|1,422,937,989,271\n"
     ]
    }
   ],
   "source": [
    "input_numbers_list = []\n",
    "for i in range(22, 36):\n",
    "    print('{:}|{:} = 10|{:,}'.format(i, input_number, convert2decimal(input_number, i)))\n",
    "    input_numbers_list.append(convert2decimal(input_number, i))"
   ]
  },
  {
   "cell_type": "code",
   "execution_count": 11,
   "id": "ef1c9693",
   "metadata": {},
   "outputs": [
    {
     "name": "stdout",
     "output_type": "stream",
     "text": [
      "25|21mpd95h = 10|12,675,990,142\n",
      "26|21mpd95h = 10|16,645,585,519\n",
      "27|21mpd95h = 10|21,637,351,466\n",
      "28|21mpd95h = 10|27,862,034,413\n",
      "29|21mpd95h = 10|35,563,828,030\n",
      "30|21mpd95h = 10|45,024,209,267\n",
      "31|21mpd95h = 10|56,566,057,354\n",
      "32|21mpd95h = 10|70,558,065,841\n",
      "33|21mpd95h = 10|87,419,457,758\n",
      "34|21mpd95h = 10|107,625,013,975\n",
      "35|21mpd95h = 10|131,710,424,842\n"
     ]
    }
   ],
   "source": [
    "output_numbers_list = []\n",
    "for i in range(25, 36):\n",
    "    print('{:}|{:} = 10|{:,}'.format(i, output_number, convert2decimal(output_number, i)))\n",
    "    output_numbers_list.append(convert2decimal(output_number, i))"
   ]
  },
  {
   "cell_type": "markdown",
   "id": "422a1c1b",
   "metadata": {},
   "source": [
    "Az első számok halmazából egy számból levonunk egy ismeretlen számot, a második számok halmazából valamelyiket kapjuk. Az ismeretlen számról annyit tudunk, hogy az elemei balról-jobbra egy számtani sor elemei. A negatív számokat kiszűrom, mert azok nem lehetnek tagjai a számtani sorozatnak.(?)"
   ]
  },
  {
   "cell_type": "code",
   "execution_count": 42,
   "id": "1a123a99",
   "metadata": {},
   "outputs": [],
   "source": [
    "possible_answers = []\n",
    "for i in input_numbers_list:\n",
    "    for j in output_numbers_list:\n",
    "        # Keep positive numbers only\n",
    "        if (i-j) > 0:\n",
    "            # Keep number where the first 2 digits are in ascending order\n",
    "            #if int(str(i-j)[0]) < int(str(i-j)[1]):\n",
    "            # Keep number where the sencond digit can be divided with the first one\n",
    "            #if int(str(i-j)[1])%int(str(i-j)[0]) == 0: \n",
    "            #print('{:,}'.format(i-j))\n",
    "            possible_answers.append(i-j)\n",
    "\n",
    "possible_answers.sort()"
   ]
  },
  {
   "cell_type": "code",
   "execution_count": 43,
   "id": "f512626d",
   "metadata": {},
   "outputs": [
    {
     "data": {
      "text/plain": [
       "144"
      ]
     },
     "execution_count": 43,
     "metadata": {},
     "output_type": "execute_result"
    }
   ],
   "source": [
    "len(possible_answers)"
   ]
  },
  {
   "cell_type": "code",
   "execution_count": 44,
   "id": "e1346374",
   "metadata": {
    "scrolled": false
   },
   "outputs": [
    {
     "data": {
      "text/plain": [
       "[3567045209,\n",
       " 4956007086,\n",
       " 10317919906,\n",
       " 14266680275,\n",
       " 18948015573,\n",
       " 19778301143,\n",
       " 27480094760,\n",
       " 27652456076,\n",
       " 30489863660,\n",
       " 31128072192,\n",
       " 33704777707,\n",
       " 38696543654,\n",
       " 39950244897,\n",
       " 42666139031,\n",
       " 45120080679,\n",
       " 46253536659,\n",
       " 47652038514,\n",
       " 47858012293,\n",
       " 53876721461,\n",
       " 56661928766,\n",
       " 58868487408,\n",
       " 62838082785,\n",
       " 64719404210,\n",
       " 66122310003,\n",
       " 70338947526,\n",
       " 73824103620,\n",
       " 78711412697,\n",
       " 80048786567,\n",
       " 85040552514,\n",
       " 89010147891,\n",
       " 90253260784,\n",
       " 90544503743,\n",
       " 99713642021,\n",
       " 100001198781,\n",
       " 107405895660,\n",
       " 107415435638,\n",
       " 113640118585,\n",
       " 118631884532,\n",
       " 121397904147,\n",
       " 122601479909,\n",
       " 124086609648,\n",
       " 132939752234,\n",
       " 142400133471,\n",
       " 144292165865,\n",
       " 150101927088,\n",
       " 156326610035,\n",
       " 161153557782,\n",
       " 161318375982,\n",
       " 165287971359,\n",
       " 167102308175,\n",
       " 175145566269,\n",
       " 186687414356,\n",
       " 191187719042,\n",
       " 196147795593,\n",
       " 203849589210,\n",
       " 210074272157,\n",
       " 211393275259,\n",
       " 215066038104,\n",
       " 219035633481,\n",
       " 228254667176,\n",
       " 242246675663,\n",
       " 250214439201,\n",
       " 253788523750,\n",
       " 263248904987,\n",
       " 270950698604,\n",
       " 274299850068,\n",
       " 277175381551,\n",
       " 282167147498,\n",
       " 286136742875,\n",
       " 294505406285,\n",
       " 311366798202,\n",
       " 325358806689,\n",
       " 336900654776,\n",
       " 346361036013,\n",
       " 352402493019,\n",
       " 354062829630,\n",
       " 360287512577,\n",
       " 365279278524,\n",
       " 369248873901,\n",
       " 376487903886,\n",
       " 396693460103,\n",
       " 413554852020,\n",
       " 427546860507,\n",
       " 439088708594,\n",
       " 448549089831,\n",
       " 456250883448,\n",
       " 462475566395,\n",
       " 467467332342,\n",
       " 471436927719,\n",
       " 477183834149,\n",
       " 501269245016,\n",
       " 521474801233,\n",
       " 538336193150,\n",
       " 552328201637,\n",
       " 563870049724,\n",
       " 573330430961,\n",
       " 581032224578,\n",
       " 587256907525,\n",
       " 592248673472,\n",
       " 596218268849,\n",
       " 628576645431,\n",
       " 652662056298,\n",
       " 672867612515,\n",
       " 689729004432,\n",
       " 703721012919,\n",
       " 715262861006,\n",
       " 724723242243,\n",
       " 732425035860,\n",
       " 738649718807,\n",
       " 743641484754,\n",
       " 747611080131,\n",
       " 811151612265,\n",
       " 835237023132,\n",
       " 855442579349,\n",
       " 872303971266,\n",
       " 886295979753,\n",
       " 897837827840,\n",
       " 907298209077,\n",
       " 915000002694,\n",
       " 921224685641,\n",
       " 926216451588,\n",
       " 930186046965,\n",
       " 1030087047011,\n",
       " 1054172457878,\n",
       " 1074378014095,\n",
       " 1091239406012,\n",
       " 1105231414499,\n",
       " 1116773262586,\n",
       " 1126233643823,\n",
       " 1133935437440,\n",
       " 1140160120387,\n",
       " 1145151886334,\n",
       " 1149121481711,\n",
       " 1291227564429,\n",
       " 1315312975296,\n",
       " 1335518531513,\n",
       " 1352379923430,\n",
       " 1366371931917,\n",
       " 1377913780004,\n",
       " 1387374161241,\n",
       " 1395075954858,\n",
       " 1401300637805,\n",
       " 1406292403752,\n",
       " 1410261999129]"
      ]
     },
     "execution_count": 44,
     "metadata": {},
     "output_type": "execute_result"
    }
   ],
   "source": [
    "possible_answers"
   ]
  },
  {
   "cell_type": "code",
   "execution_count": null,
   "id": "05e9b654",
   "metadata": {},
   "outputs": [],
   "source": [
    "import math\n",
    "def convert(number, number_base, output_base):\n",
    "    number = str(number)\n",
    "    output = ''\n",
    "    decimal_input = 0\n",
    "    index = len(number)-1\n",
    "    for char in number:\n",
    "        decimal_input += number_base.index(char)*(len(number_base)**index)\n",
    "        index -= 1  \n",
    "    index = math.ceil(math.sqrt(decimal_input / len(output_base)))\n",
    "    while index >= 0:\n",
    "        if not (len(output) == 0 and decimal_input // len(output_base)**index == 0):\n",
    "            output += output_base[decimal_input // len(output_base)**index]\n",
    "        decimal_input %= len(output_base)**index\n",
    "        index -= 1\n",
    "    return output"
   ]
  },
  {
   "cell_type": "code",
   "execution_count": null,
   "id": "9be25d93",
   "metadata": {},
   "outputs": [],
   "source": []
  }
 ],
 "metadata": {
  "kernelspec": {
   "display_name": "Python 3 (ipykernel)",
   "language": "python",
   "name": "python3"
  },
  "language_info": {
   "codemirror_mode": {
    "name": "ipython",
    "version": 3
   },
   "file_extension": ".py",
   "mimetype": "text/x-python",
   "name": "python",
   "nbconvert_exporter": "python",
   "pygments_lexer": "ipython3",
   "version": "3.9.6"
  }
 },
 "nbformat": 4,
 "nbformat_minor": 5
}
