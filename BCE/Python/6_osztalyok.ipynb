{
 "cells": [
  {
   "cell_type": "markdown",
   "id": "46017ef9",
   "metadata": {},
   "source": [
    "# 6. Osztályok, filekezelés\n",
    "_2021.08.29_\n",
    "\n",
    "Az órán ...\n",
    "\n",
    "Tartalom:\n",
    "- Osztályok\n",
    "- Package\n",
    "- Fájlkezelés (alapértelmezett)\n",
    "- Hibakezelés"
   ]
  },
  {
   "cell_type": "code",
   "execution_count": 1,
   "id": "fe0127d6",
   "metadata": {},
   "outputs": [
    {
     "data": {
      "text/html": [
       "<style>.container { width:100% !important; }</style>"
      ],
      "text/plain": [
       "<IPython.core.display.HTML object>"
      ]
     },
     "metadata": {},
     "output_type": "display_data"
    }
   ],
   "source": [
    "from IPython.core.display import display, HTML\n",
    "display(HTML(\"<style>.container { width:100% !important; }</style>\"))"
   ]
  },
  {
   "cell_type": "markdown",
   "id": "4c12e367",
   "metadata": {},
   "source": [
    "## 6.1 Scope, namespaces"
   ]
  },
  {
   "cell_type": "code",
   "execution_count": 2,
   "id": "b8c40d00",
   "metadata": {},
   "outputs": [
    {
     "name": "stdout",
     "output_type": "stream",
     "text": [
      "After local assignment: test spam\n",
      "After nonlocal assignment: nonlocal spam\n",
      "After global assignment: nonlocal spam\n",
      "In global scope: global spam\n"
     ]
    }
   ],
   "source": [
    "def scope_test():\n",
    "    def do_local():\n",
    "        spam = \"local spam\"\n",
    "\n",
    "    def do_nonlocal():\n",
    "        nonlocal spam\n",
    "        spam = \"nonlocal spam\"\n",
    "\n",
    "    def do_global():\n",
    "        global spam\n",
    "        spam = \"global spam\"\n",
    "\n",
    "    spam = \"test spam\"\n",
    "    do_local()\n",
    "    print(\"After local assignment:\", spam)\n",
    "    do_nonlocal()\n",
    "    print(\"After nonlocal assignment:\", spam)\n",
    "    do_global()\n",
    "    print(\"After global assignment:\", spam)\n",
    "\n",
    "scope_test()\n",
    "print(\"In global scope:\", spam)"
   ]
  },
  {
   "cell_type": "markdown",
   "id": "2f09554a",
   "metadata": {},
   "source": [
    "## 6.2 Classes"
   ]
  },
  {
   "cell_type": "code",
   "execution_count": 3,
   "id": "33be8fea",
   "metadata": {},
   "outputs": [],
   "source": [
    "class MyClass:\n",
    "    my_var = 12345\n",
    "\n",
    "    def my_func(self):\n",
    "        return 'test'"
   ]
  },
  {
   "cell_type": "code",
   "execution_count": 4,
   "id": "23219fa3",
   "metadata": {},
   "outputs": [],
   "source": [
    "x = MyClass()"
   ]
  },
  {
   "cell_type": "code",
   "execution_count": 5,
   "id": "416d3e4c",
   "metadata": {},
   "outputs": [
    {
     "data": {
      "text/plain": [
       "12345"
      ]
     },
     "execution_count": 5,
     "metadata": {},
     "output_type": "execute_result"
    }
   ],
   "source": [
    "x.my_var"
   ]
  },
  {
   "cell_type": "code",
   "execution_count": 6,
   "id": "855a91db",
   "metadata": {},
   "outputs": [
    {
     "data": {
      "text/plain": [
       "'test'"
      ]
     },
     "execution_count": 6,
     "metadata": {},
     "output_type": "execute_result"
    }
   ],
   "source": [
    "x.my_func()"
   ]
  },
  {
   "cell_type": "markdown",
   "id": "f9916488",
   "metadata": {},
   "source": [
    "## 6.3 Instatiation"
   ]
  },
  {
   "cell_type": "code",
   "execution_count": 7,
   "id": "9d148380",
   "metadata": {},
   "outputs": [],
   "source": [
    "class MyClass:\n",
    "    my_var = 12345\n",
    "    def __init__(self):\n",
    "        print('__init__ function called')\n",
    "        self.my_var = 54321\n",
    "\n",
    "    def my_func(self):\n",
    "        return 'test'"
   ]
  },
  {
   "cell_type": "code",
   "execution_count": 8,
   "id": "bee6e086",
   "metadata": {},
   "outputs": [
    {
     "name": "stdout",
     "output_type": "stream",
     "text": [
      "__init__ function called\n"
     ]
    }
   ],
   "source": [
    "x = MyClass()"
   ]
  },
  {
   "cell_type": "code",
   "execution_count": 9,
   "id": "f32d0be2",
   "metadata": {},
   "outputs": [
    {
     "data": {
      "text/plain": [
       "54321"
      ]
     },
     "execution_count": 9,
     "metadata": {},
     "output_type": "execute_result"
    }
   ],
   "source": [
    "x.my_var"
   ]
  },
  {
   "cell_type": "markdown",
   "id": "b6521168",
   "metadata": {},
   "source": [
    "## 6.4 Class & instance variables"
   ]
  },
  {
   "cell_type": "code",
   "execution_count": 12,
   "id": "0d1f8ba0",
   "metadata": {},
   "outputs": [],
   "source": [
    "class Kutya:\n",
    "    fajta = 'kutya' # osztályváltozó\n",
    "\n",
    "    def __init__(self, nev):\n",
    "        self.nev = nev    # példányváltozó"
   ]
  },
  {
   "cell_type": "code",
   "execution_count": 13,
   "id": "ddaf91d9",
   "metadata": {},
   "outputs": [],
   "source": [
    "d = Kutya('Buksi')\n",
    "e = Kutya('Blöki')"
   ]
  },
  {
   "cell_type": "code",
   "execution_count": 14,
   "id": "7007a1b1",
   "metadata": {},
   "outputs": [
    {
     "data": {
      "text/plain": [
       "('kutya', 'Buksi')"
      ]
     },
     "execution_count": 14,
     "metadata": {},
     "output_type": "execute_result"
    }
   ],
   "source": [
    "d.fajta, d.nev"
   ]
  },
  {
   "cell_type": "code",
   "execution_count": 15,
   "id": "20216a0e",
   "metadata": {},
   "outputs": [
    {
     "data": {
      "text/plain": [
       "('kutya', 'Blöki')"
      ]
     },
     "execution_count": 15,
     "metadata": {},
     "output_type": "execute_result"
    }
   ],
   "source": [
    "e.fajta, e.nev"
   ]
  },
  {
   "cell_type": "markdown",
   "id": "1ddbb012",
   "metadata": {},
   "source": [
    "> **1. feladat**: Egészítsd ki a Kutya osztályt egy tanul_trukk függvénnyel, amely a paraméterként átadott trükköt hozzáadja az adott kutya megtanult trükkjei közé!"
   ]
  },
  {
   "cell_type": "markdown",
   "id": "a9961344",
   "metadata": {},
   "source": [
    "Rossz megoldás"
   ]
  },
  {
   "cell_type": "code",
   "execution_count": 16,
   "id": "35c6b4e7",
   "metadata": {},
   "outputs": [],
   "source": [
    "class Kutya:\n",
    "    fajta = 'kutya' # osztályváltozó\n",
    "    trukkok = []\n",
    "\n",
    "    def __init__(self, nev):\n",
    "        self.nev = nev    # példányváltozó\n",
    "\n",
    "    def tanul_trukk(self, trukk):\n",
    "        self.trukkok.append(trukk)"
   ]
  },
  {
   "cell_type": "code",
   "execution_count": 17,
   "id": "7c4fd567",
   "metadata": {},
   "outputs": [],
   "source": [
    "d = Kutya('Fido')\n",
    "e = Kutya('Mancika')\n",
    "d.tanul_trukk('ül')\n",
    "d.tanul_trukk('forog')"
   ]
  },
  {
   "cell_type": "code",
   "execution_count": 18,
   "id": "ba8f3cb3",
   "metadata": {},
   "outputs": [
    {
     "data": {
      "text/plain": [
       "['ül', 'forog']"
      ]
     },
     "execution_count": 18,
     "metadata": {},
     "output_type": "execute_result"
    }
   ],
   "source": [
    "d.trukkok"
   ]
  },
  {
   "cell_type": "code",
   "execution_count": 19,
   "id": "02e6427a",
   "metadata": {},
   "outputs": [
    {
     "data": {
      "text/plain": [
       "['ül', 'forog']"
      ]
     },
     "execution_count": 19,
     "metadata": {},
     "output_type": "execute_result"
    }
   ],
   "source": [
    "e.trukkok"
   ]
  },
  {
   "cell_type": "markdown",
   "id": "da0e9769",
   "metadata": {},
   "source": [
    "Jó megoldás"
   ]
  },
  {
   "cell_type": "code",
   "execution_count": 20,
   "id": "20f06442",
   "metadata": {},
   "outputs": [],
   "source": [
    "class Kutya:\n",
    "    fajta = 'kutya' # osztályváltozó\n",
    "\n",
    "    def __init__(self, nev):\n",
    "        self.nev = nev    # példányváltozó\n",
    "        self.trukkok = []\n",
    "\n",
    "    def tanul_trukk(self, trukk):\n",
    "        self.trukkok.append(trukk)"
   ]
  },
  {
   "cell_type": "code",
   "execution_count": 21,
   "id": "38b00b91",
   "metadata": {},
   "outputs": [],
   "source": [
    "d = Kutya('Fido')\n",
    "e = Kutya('Mancika')\n",
    "d.tanul_trukk('ül')\n",
    "d.tanul_trukk('forog')"
   ]
  },
  {
   "cell_type": "code",
   "execution_count": 22,
   "id": "4bcd47c3",
   "metadata": {},
   "outputs": [
    {
     "data": {
      "text/plain": [
       "['ül', 'forog']"
      ]
     },
     "execution_count": 22,
     "metadata": {},
     "output_type": "execute_result"
    }
   ],
   "source": [
    "d.trukkok"
   ]
  },
  {
   "cell_type": "code",
   "execution_count": 23,
   "id": "07d2993f",
   "metadata": {},
   "outputs": [
    {
     "data": {
      "text/plain": [
       "[]"
      ]
     },
     "execution_count": 23,
     "metadata": {},
     "output_type": "execute_result"
    }
   ],
   "source": [
    "e.trukkok"
   ]
  },
  {
   "cell_type": "markdown",
   "id": "d696dff7",
   "metadata": {},
   "source": [
    "## 6.5 Inheritance"
   ]
  },
  {
   "cell_type": "code",
   "execution_count": 29,
   "id": "d32314a8",
   "metadata": {},
   "outputs": [],
   "source": [
    "class Jarmu:\n",
    "    def __init__(self, szin):\n",
    "        self.szin = szin\n",
    "    \n",
    "    def megjelenit(self):\n",
    "        print('A jármű színe: {:}'.format(self.szin))"
   ]
  },
  {
   "cell_type": "code",
   "execution_count": 30,
   "id": "78e91a24",
   "metadata": {},
   "outputs": [
    {
     "name": "stdout",
     "output_type": "stream",
     "text": [
      "A jármű színe: piros\n"
     ]
    }
   ],
   "source": [
    "j = Jarmu('piros')\n",
    "j.megjelenit()"
   ]
  },
  {
   "cell_type": "code",
   "execution_count": 66,
   "id": "3c3d6e20",
   "metadata": {},
   "outputs": [],
   "source": [
    "class Auto(Jarmu):\n",
    "    def __init__(self, szin, kerekek_szama):\n",
    "        Jarmu.__init__(self, szin)\n",
    "        #super().__init__(szin)\n",
    "        \n",
    "        self.kerekek_szama = kerekek_szama\n",
    "\n",
    "    def megjelenit(self):\n",
    "        print('A jármű színe: {:}\\nKerekeinek száma: {:}'.format(self.szin, self.kerekek_szama))\n",
    "\n",
    "class Repulo(Jarmu):\n",
    "    pass"
   ]
  },
  {
   "cell_type": "code",
   "execution_count": 63,
   "id": "66f6af9c",
   "metadata": {},
   "outputs": [],
   "source": [
    "a = Auto('kek', 4)"
   ]
  },
  {
   "cell_type": "code",
   "execution_count": 64,
   "id": "a2d9925f",
   "metadata": {},
   "outputs": [
    {
     "name": "stdout",
     "output_type": "stream",
     "text": [
      "A jármű színe: kek\n",
      "Kerekeinek száma: 4\n"
     ]
    }
   ],
   "source": [
    "a.megjelenit()"
   ]
  },
  {
   "cell_type": "markdown",
   "id": "b35fe1c6",
   "metadata": {},
   "source": [
    "> **2. feladat**: Fejezd be a Repulo osztályt, paraméterként adj hozzá egy Boolean típusú változót, amely azt tárolja, hogy a repülőgép futóműve behúzható-e!"
   ]
  },
  {
   "cell_type": "code",
   "execution_count": 67,
   "id": "1ca24783",
   "metadata": {},
   "outputs": [],
   "source": [
    "class Repulo(Jarmu):\n",
    "    def __init__(self, szin, behuzhato):\n",
    "        super().__init__(szin)\n",
    "        \n",
    "        self.behuzhato = behuzhato\n",
    "\n",
    "    def megjelenit(self):\n",
    "        print('A jármű színe: {:}\\nFutómű behúzható: {:}'.format(self.szin, self.behuzhato))"
   ]
  },
  {
   "cell_type": "code",
   "execution_count": 68,
   "id": "30b95e4e",
   "metadata": {},
   "outputs": [
    {
     "name": "stdout",
     "output_type": "stream",
     "text": [
      "A jármű színe: zöld\n",
      "Futómű behúzható: False\n"
     ]
    }
   ],
   "source": [
    "r = Repulo('zöld', False)\n",
    "r.megjelenit()"
   ]
  },
  {
   "cell_type": "code",
   "execution_count": null,
   "id": "099a26ea",
   "metadata": {},
   "outputs": [],
   "source": []
  }
 ],
 "metadata": {
  "kernelspec": {
   "display_name": "Python 3 (ipykernel)",
   "language": "python",
   "name": "python3"
  },
  "language_info": {
   "codemirror_mode": {
    "name": "ipython",
    "version": 3
   },
   "file_extension": ".py",
   "mimetype": "text/x-python",
   "name": "python",
   "nbconvert_exporter": "python",
   "pygments_lexer": "ipython3",
   "version": "3.9.6"
  }
 },
 "nbformat": 4,
 "nbformat_minor": 5
}
