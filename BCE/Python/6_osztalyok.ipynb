{
 "cells": [
  {
   "cell_type": "markdown",
   "id": "46017ef9",
   "metadata": {},
   "source": [
    "# 6. Osztályok, filekezelés\n",
    "_2021.10.14_\n",
    "\n",
    "Tartalom:\n",
    "- Tipikus hibák\n",
    "- Osztályok\n",
    "- Package/module készítése\n",
    "- Fájlkezelés (alapértelmezett)\n",
    "- Hibakezelés\n",
    "- Datetime"
   ]
  },
  {
   "cell_type": "code",
   "execution_count": 1,
   "id": "fe0127d6",
   "metadata": {},
   "outputs": [
    {
     "data": {
      "text/html": [
       "<style>.container { width:100% !important; }</style>"
      ],
      "text/plain": [
       "<IPython.core.display.HTML object>"
      ]
     },
     "metadata": {},
     "output_type": "display_data"
    }
   ],
   "source": [
    "from IPython.core.display import display, HTML\n",
    "display(HTML(\"<style>.container { width:100% !important; }</style>\"))"
   ]
  },
  {
   "cell_type": "markdown",
   "id": "a5275975",
   "metadata": {},
   "source": [
    "## 6.1 Tipikus hibák\n",
    "- Nem célszerű `reserved word` változóneveket használni, pl: list, filter stb.\n",
    "- A tanult sorbarendező eljárások csak listák sorbarendezésére alkalmasak, objektumok sorbarendezésére nem\n",
    "- Jupyter notebook használatábal célszerű szétszedni az alkalmazást, így az egyes elemek külön is futtathatóak\n",
    "- Nem ajánlatos nemzetiségi karaktereket használni a változók és függvények nevében\n",
    "- A függvények és változók neve legyen beszédes (pl: ne fuggveny1, hanem file_beolvas)\n",
    "- Néha érdemes a kernelt resetelni, így biztosítható, hogy a kód fut"
   ]
  },
  {
   "cell_type": "markdown",
   "id": "4c12e367",
   "metadata": {},
   "source": [
    "## 6.2 Osztályok, öröklődés\n",
    "Nagyobb alkalmazások fejlesztése során célszerű az egybe tartozó részeket osztályokba szervezni.\n",
    "### 6.2.1 Scope, namespaces\n",
    "A programunk logikailag egymáshoz tartozó részét egy __namespace__ (névtér alá) célszerű elhelyezni. A __scope__ (magyarul láthatóság) a változók és függvények láthatóságára utal. A függvényen vagy osztályon kívül definiált változóknak és függvényeknek globális a láthatóságuk. A __global__ kulcsszóval tudjuk elérni a globális változókat függvényen belülről. A __nonlocal__ kulcsszóval el tudjuk értni a nem globális és nem lokális változókat."
   ]
  },
  {
   "cell_type": "code",
   "execution_count": 2,
   "id": "b8c40d00",
   "metadata": {},
   "outputs": [
    {
     "name": "stdout",
     "output_type": "stream",
     "text": [
      "After local assignment: test spam\n",
      "After nonlocal assignment: nonlocal spam\n",
      "After global assignment: nonlocal spam\n",
      "In global scope: global spam\n"
     ]
    }
   ],
   "source": [
    "def scope_test():\n",
    "    def do_local():\n",
    "        spam = \"local spam\"\n",
    "\n",
    "    def do_nonlocal():\n",
    "        nonlocal spam\n",
    "        spam = \"nonlocal spam\"\n",
    "\n",
    "    def do_global():\n",
    "        global spam\n",
    "        spam = \"global spam\"\n",
    "\n",
    "    spam = \"test spam\"\n",
    "    do_local()\n",
    "    print(\"After local assignment:\", spam)\n",
    "    do_nonlocal()\n",
    "    print(\"After nonlocal assignment:\", spam)\n",
    "    do_global()\n",
    "    print(\"After global assignment:\", spam)\n",
    "\n",
    "scope_test()\n",
    "print(\"In global scope:\", spam)"
   ]
  },
  {
   "cell_type": "markdown",
   "id": "2f09554a",
   "metadata": {},
   "source": [
    "### 6.2.2 Classes\n",
    "Az osztályok fogják össze a funkcionálisan egybe tartozó változókat és függvényeket. Általánosságban az osztályok példányosíthatók és más osztályok származtathatók belőlük. Az osztályhoz tartozó függvények első paramétere _self_ kell legyen, ugyanis ezen keresztül érhető el a példányosított osztály változói és függvényei."
   ]
  },
  {
   "cell_type": "code",
   "execution_count": 3,
   "id": "33be8fea",
   "metadata": {},
   "outputs": [],
   "source": [
    "class MyClass:\n",
    "    my_var = 12345\n",
    "\n",
    "    def my_func(self):\n",
    "        return 'test'"
   ]
  },
  {
   "cell_type": "code",
   "execution_count": 10,
   "id": "23219fa3",
   "metadata": {},
   "outputs": [
    {
     "name": "stdout",
     "output_type": "stream",
     "text": [
      "__init__ function called\n"
     ]
    }
   ],
   "source": [
    "# a MyClass osztály példányosítása\n",
    "# az x változó a MyClass egy példányára mutat\n",
    "x = MyClass()"
   ]
  },
  {
   "cell_type": "code",
   "execution_count": 5,
   "id": "416d3e4c",
   "metadata": {},
   "outputs": [
    {
     "data": {
      "text/plain": [
       "12345"
      ]
     },
     "execution_count": 5,
     "metadata": {},
     "output_type": "execute_result"
    }
   ],
   "source": [
    "# osztályváltozó elérése\n",
    "x.my_var"
   ]
  },
  {
   "cell_type": "code",
   "execution_count": 6,
   "id": "855a91db",
   "metadata": {},
   "outputs": [
    {
     "data": {
      "text/plain": [
       "'test'"
      ]
     },
     "execution_count": 6,
     "metadata": {},
     "output_type": "execute_result"
    }
   ],
   "source": [
    "x.my_func()"
   ]
  },
  {
   "cell_type": "markdown",
   "id": "f9916488",
   "metadata": {},
   "source": [
    "### 6.2.3 Instantiation\n",
    "A példányosítás során az osztályról készítünk egy másolatot, amelyet eltérő adatokkal tölthetünk fel."
   ]
  },
  {
   "cell_type": "code",
   "execution_count": 7,
   "id": "9d148380",
   "metadata": {},
   "outputs": [],
   "source": [
    "class MyClass:\n",
    "    my_var = 12345\n",
    "    def __init__(self):\n",
    "        print('__init__ function called')\n",
    "        self.my_var = 54321\n",
    "\n",
    "    def my_func(self):\n",
    "        return 'test'"
   ]
  },
  {
   "cell_type": "code",
   "execution_count": 8,
   "id": "bee6e086",
   "metadata": {},
   "outputs": [
    {
     "name": "stdout",
     "output_type": "stream",
     "text": [
      "__init__ function called\n"
     ]
    }
   ],
   "source": [
    "x = MyClass()"
   ]
  },
  {
   "cell_type": "code",
   "execution_count": 9,
   "id": "f32d0be2",
   "metadata": {},
   "outputs": [
    {
     "data": {
      "text/plain": [
       "54321"
      ]
     },
     "execution_count": 9,
     "metadata": {},
     "output_type": "execute_result"
    }
   ],
   "source": [
    "x.my_var"
   ]
  },
  {
   "cell_type": "markdown",
   "id": "b6521168",
   "metadata": {},
   "source": [
    "### 6.2.4 Osztály & példány változók\n",
    "Az osztályváltozók az osztályhoz köthető, a példányváltozók pedig a példányokból érhetők el"
   ]
  },
  {
   "cell_type": "code",
   "execution_count": 1,
   "id": "0d1f8ba0",
   "metadata": {},
   "outputs": [],
   "source": [
    "class Kutya:\n",
    "    fajta = 'kutya' # osztályváltozó\n",
    "\n",
    "    def __init__(self, nev):\n",
    "        self.nev = nev    # példányváltozó"
   ]
  },
  {
   "cell_type": "code",
   "execution_count": 2,
   "id": "ddaf91d9",
   "metadata": {},
   "outputs": [],
   "source": [
    "d = Kutya('Buksi')\n",
    "e = Kutya('Blöki')"
   ]
  },
  {
   "cell_type": "code",
   "execution_count": 3,
   "id": "7007a1b1",
   "metadata": {},
   "outputs": [
    {
     "data": {
      "text/plain": [
       "('kutya', 'Buksi')"
      ]
     },
     "execution_count": 3,
     "metadata": {},
     "output_type": "execute_result"
    }
   ],
   "source": [
    "d.fajta, d.nev"
   ]
  },
  {
   "cell_type": "code",
   "execution_count": 5,
   "id": "20216a0e",
   "metadata": {},
   "outputs": [
    {
     "data": {
      "text/plain": [
       "('kutya', 'Blöki')"
      ]
     },
     "execution_count": 5,
     "metadata": {},
     "output_type": "execute_result"
    }
   ],
   "source": [
    "# a fajta ugyanaz marad, a név változik\n",
    "e.fajta, e.nev"
   ]
  },
  {
   "cell_type": "markdown",
   "id": "1ddbb012",
   "metadata": {},
   "source": [
    "> **1. feladat**: Egészítsd ki a Kutya osztályt egy tanul_trukk függvénnyel, amely a paraméterként átadott trükköt hozzáadja az adott kutya megtanult trükkjei közé!"
   ]
  },
  {
   "cell_type": "markdown",
   "id": "a9961344",
   "metadata": {},
   "source": [
    "Rossz megoldás"
   ]
  },
  {
   "cell_type": "code",
   "execution_count": 6,
   "id": "35c6b4e7",
   "metadata": {},
   "outputs": [],
   "source": [
    "class Kutya:\n",
    "    fajta = 'kutya' # osztályváltozó\n",
    "    trukkok = []\n",
    "\n",
    "    def __init__(self, nev):\n",
    "        self.nev = nev    # példányváltozó\n",
    "\n",
    "    def tanul_trukk(self, trukk):\n",
    "        self.trukkok.append(trukk)"
   ]
  },
  {
   "cell_type": "code",
   "execution_count": 7,
   "id": "7c4fd567",
   "metadata": {},
   "outputs": [],
   "source": [
    "d = Kutya('Fido')\n",
    "e = Kutya('Mancika')\n",
    "d.tanul_trukk('ül')\n",
    "d.tanul_trukk('forog')"
   ]
  },
  {
   "cell_type": "code",
   "execution_count": 8,
   "id": "ba8f3cb3",
   "metadata": {},
   "outputs": [
    {
     "data": {
      "text/plain": [
       "['ül', 'forog']"
      ]
     },
     "execution_count": 8,
     "metadata": {},
     "output_type": "execute_result"
    }
   ],
   "source": [
    "d.trukkok"
   ]
  },
  {
   "cell_type": "code",
   "execution_count": 9,
   "id": "02e6427a",
   "metadata": {},
   "outputs": [
    {
     "data": {
      "text/plain": [
       "['ül', 'forog']"
      ]
     },
     "execution_count": 9,
     "metadata": {},
     "output_type": "execute_result"
    }
   ],
   "source": [
    "e.trukkok"
   ]
  },
  {
   "cell_type": "markdown",
   "id": "da0e9769",
   "metadata": {},
   "source": [
    "Jó megoldás"
   ]
  },
  {
   "cell_type": "code",
   "execution_count": 10,
   "id": "20f06442",
   "metadata": {},
   "outputs": [],
   "source": [
    "# A trukkok listát a Kutya osztály konstruktorában hozzuk létre példányváltozóként\n",
    "class Kutya:\n",
    "    fajta = 'kutya' # osztályváltozó\n",
    "\n",
    "    def __init__(self, nev):\n",
    "        self.nev = nev    # példányváltozó\n",
    "        self.trukkok = []\n",
    "\n",
    "    def tanul_trukk(self, trukk):\n",
    "        self.trukkok.append(trukk)"
   ]
  },
  {
   "cell_type": "code",
   "execution_count": 11,
   "id": "38b00b91",
   "metadata": {},
   "outputs": [],
   "source": [
    "d = Kutya('Fido')\n",
    "e = Kutya('Mancika')\n",
    "d.tanul_trukk('ül')\n",
    "d.tanul_trukk('forog')"
   ]
  },
  {
   "cell_type": "code",
   "execution_count": 12,
   "id": "4bcd47c3",
   "metadata": {},
   "outputs": [
    {
     "data": {
      "text/plain": [
       "['ül', 'forog']"
      ]
     },
     "execution_count": 12,
     "metadata": {},
     "output_type": "execute_result"
    }
   ],
   "source": [
    "d.trukkok"
   ]
  },
  {
   "cell_type": "code",
   "execution_count": 13,
   "id": "07d2993f",
   "metadata": {},
   "outputs": [
    {
     "data": {
      "text/plain": [
       "[]"
      ]
     },
     "execution_count": 13,
     "metadata": {},
     "output_type": "execute_result"
    }
   ],
   "source": [
    "e.trukkok"
   ]
  },
  {
   "cell_type": "markdown",
   "id": "d696dff7",
   "metadata": {},
   "source": [
    "### 6.2.5 Öröklődés\n",
    "Az osztályokból más osztályok származtathatóak, amelyek öröklik az ősosztály változóit és függvényeit"
   ]
  },
  {
   "cell_type": "code",
   "execution_count": 14,
   "id": "d32314a8",
   "metadata": {},
   "outputs": [],
   "source": [
    "# Ősosztály\n",
    "class Jarmu:\n",
    "    def __init__(self, szin):\n",
    "        self.szin = szin\n",
    "\n",
    "    def megjelenit(self):\n",
    "        print('A jármű színe: {:}'.format(self.szin))"
   ]
  },
  {
   "cell_type": "code",
   "execution_count": 15,
   "id": "78e91a24",
   "metadata": {},
   "outputs": [
    {
     "name": "stdout",
     "output_type": "stream",
     "text": [
      "A jármű színe: piros\n"
     ]
    }
   ],
   "source": [
    "j = Jarmu('piros')\n",
    "j.megjelenit()"
   ]
  },
  {
   "cell_type": "code",
   "execution_count": 16,
   "id": "3c3d6e20",
   "metadata": {},
   "outputs": [],
   "source": [
    "# Az Auto osztályt a Jarmu osztályból származtatjuk\n",
    "class Auto(Jarmu):\n",
    "    def __init__(self, szin, kerekek_szama):\n",
    "        # Az ősosztály konstruktorának meghívása\n",
    "        Jarmu.__init__(self, szin)\n",
    "        #super().__init__(szin)\n",
    "        \n",
    "        self.kerekek_szama = kerekek_szama\n",
    "\n",
    "    # a megjelenit függvényt felülírjuk\n",
    "    def megjelenit(self):\n",
    "        print('A jármű színe: {:}\\nKerekeinek száma: {:}'.format(self.szin, self.kerekek_szama))\n",
    "\n",
    "class Repulo(Jarmu):\n",
    "    pass"
   ]
  },
  {
   "cell_type": "code",
   "execution_count": 17,
   "id": "66f6af9c",
   "metadata": {},
   "outputs": [],
   "source": [
    "a = Auto('kek', 4)"
   ]
  },
  {
   "cell_type": "code",
   "execution_count": 18,
   "id": "a2d9925f",
   "metadata": {},
   "outputs": [
    {
     "name": "stdout",
     "output_type": "stream",
     "text": [
      "A jármű színe: kek\n",
      "Kerekeinek száma: 4\n"
     ]
    }
   ],
   "source": [
    "a.megjelenit()"
   ]
  },
  {
   "cell_type": "markdown",
   "id": "b35fe1c6",
   "metadata": {},
   "source": [
    "> **2. feladat**: Fejezd be a Repulo osztályt, paraméterként adj hozzá egy Boolean típusú változót, amely azt tárolja, hogy a repülőgép futóműve behúzható-e!"
   ]
  },
  {
   "cell_type": "code",
   "execution_count": 19,
   "id": "1ca24783",
   "metadata": {},
   "outputs": [],
   "source": [
    "class Repulo(Jarmu):\n",
    "    def __init__(self, szin, behuzhato):\n",
    "        super().__init__(szin)\n",
    "        \n",
    "        self.behuzhato = behuzhato\n",
    "\n",
    "    def megjelenit(self):\n",
    "        print('A jármű színe: {:}\\nFutómű behúzható: {:}'.format(self.szin, self.behuzhato))"
   ]
  },
  {
   "cell_type": "code",
   "execution_count": 20,
   "id": "30b95e4e",
   "metadata": {},
   "outputs": [
    {
     "name": "stdout",
     "output_type": "stream",
     "text": [
      "A jármű színe: zöld\n",
      "Futómű behúzható: False\n"
     ]
    }
   ],
   "source": [
    "r = Repulo('zöld', False)\n",
    "r.megjelenit()"
   ]
  },
  {
   "cell_type": "markdown",
   "id": "ddf34af9",
   "metadata": {},
   "source": [
    "## 6.3 Filekezelés\n",
    "Olvassuk be a 6.2_airtravel.csv file tartalmát, amely a havi transzatlanti polgári repülések számát tartalmazza. Az egyes számok ezer utast jelentenek. A file-ok megnyitására az **open(filenév, mód)** parancs használható, ahol a\n",
    "- _filenév_: a megnyitni kívánt file neve\n",
    "- _mód_:\n",
    "    - r: reading, megnyitás olvasásra (alapértelmezett)\n",
    "    - w: writing: megnyitás írásra\n",
    "    - a: append: megnyitás hozzáfűzésre\n",
    "    - r+: megnyitás olvasásra és írásra"
   ]
  },
  {
   "cell_type": "code",
   "execution_count": 21,
   "id": "62bb3bcb",
   "metadata": {},
   "outputs": [],
   "source": [
    "file = open('6.2_airtravel.csv', 'r')"
   ]
  },
  {
   "cell_type": "code",
   "execution_count": 22,
   "id": "c8c97942",
   "metadata": {},
   "outputs": [
    {
     "name": "stdout",
     "output_type": "stream",
     "text": [
      "\"Month\", \"1958\", \"1959\", \"1960\"\n",
      "\"JAN\",  340,  360,  417\n",
      "\"FEB\",  318,  342,  391\n",
      "\"MAR\",  362,  406,  419\n",
      "\"APR\",  348,  396,  461\n",
      "\"MAY\",  363,  420,  472\n",
      "\"JUN\",  435,  472,  535\n",
      "\"JUL\",  491,  548,  622\n",
      "\"AUG\",  505,  559,  606\n",
      "\"SEP\",  404,  463,  508\n",
      "\"OCT\",  359,  407,  461\n",
      "\"NOV\",  310,  362,  390\n",
      "\"DEC\",  337,  405,  432\n",
      "\n",
      "\n"
     ]
    }
   ],
   "source": [
    "print (file.read())"
   ]
  },
  {
   "cell_type": "code",
   "execution_count": 23,
   "id": "ff998216",
   "metadata": {},
   "outputs": [],
   "source": [
    "for each in file:\n",
    "    print (each)"
   ]
  },
  {
   "cell_type": "code",
   "execution_count": 24,
   "id": "b6506ab1",
   "metadata": {},
   "outputs": [],
   "source": [
    "file = open('test.txt', 'w', encoding='utf-8')\n",
    "file.write(\"Szöveg írása fileba\")\n",
    "file.close()"
   ]
  },
  {
   "cell_type": "code",
   "execution_count": 25,
   "id": "98e8f5ce",
   "metadata": {},
   "outputs": [],
   "source": [
    "file = open('test.txt', 'a', encoding='utf-8')\n",
    "file.write(\"\\nMég egy sor\")\n",
    "file.close()"
   ]
  },
  {
   "cell_type": "markdown",
   "id": "c9a99b4e",
   "metadata": {},
   "source": [
    "A with parancs használatával nem szükséges lezárni a file-t, mivel az automatikusan lezáródik."
   ]
  },
  {
   "cell_type": "code",
   "execution_count": 26,
   "id": "c8524c0e",
   "metadata": {},
   "outputs": [],
   "source": [
    "with open(\"test.txt\", encoding = 'utf-8') as file:  \n",
    "    data = file.read()"
   ]
  },
  {
   "cell_type": "code",
   "execution_count": 27,
   "id": "4570841e",
   "metadata": {},
   "outputs": [
    {
     "data": {
      "text/plain": [
       "'Szöveg írása fileba\\nMég egy sor'"
      ]
     },
     "execution_count": 27,
     "metadata": {},
     "output_type": "execute_result"
    }
   ],
   "source": [
    "data"
   ]
  },
  {
   "cell_type": "code",
   "execution_count": 28,
   "id": "46b6d6c0",
   "metadata": {},
   "outputs": [],
   "source": [
    "f = open(\"test.txt\", encoding = 'utf-8')"
   ]
  },
  {
   "cell_type": "code",
   "execution_count": 29,
   "id": "fa0a90b5",
   "metadata": {},
   "outputs": [
    {
     "data": {
      "text/plain": [
       "'Szöveg'"
      ]
     },
     "execution_count": 29,
     "metadata": {},
     "output_type": "execute_result"
    }
   ],
   "source": [
    "f.read(6)"
   ]
  },
  {
   "cell_type": "code",
   "execution_count": 30,
   "id": "37ead3c7",
   "metadata": {},
   "outputs": [
    {
     "data": {
      "text/plain": [
       "' írása '"
      ]
     },
     "execution_count": 30,
     "metadata": {},
     "output_type": "execute_result"
    }
   ],
   "source": [
    "f.read(7)"
   ]
  },
  {
   "cell_type": "code",
   "execution_count": 31,
   "id": "58918a22",
   "metadata": {},
   "outputs": [
    {
     "data": {
      "text/plain": [
       "16"
      ]
     },
     "execution_count": 31,
     "metadata": {},
     "output_type": "execute_result"
    }
   ],
   "source": [
    "f.tell()"
   ]
  },
  {
   "cell_type": "code",
   "execution_count": 32,
   "id": "8a43825f",
   "metadata": {},
   "outputs": [
    {
     "data": {
      "text/plain": [
       "'fileba\\nMég egy sor'"
      ]
     },
     "execution_count": 32,
     "metadata": {},
     "output_type": "execute_result"
    }
   ],
   "source": [
    "f.read()"
   ]
  },
  {
   "cell_type": "code",
   "execution_count": 33,
   "id": "f837731d",
   "metadata": {},
   "outputs": [
    {
     "data": {
      "text/plain": [
       "36"
      ]
     },
     "execution_count": 33,
     "metadata": {},
     "output_type": "execute_result"
    }
   ],
   "source": [
    "f.tell()"
   ]
  },
  {
   "cell_type": "code",
   "execution_count": 34,
   "id": "e1f1ee2c",
   "metadata": {},
   "outputs": [
    {
     "data": {
      "text/plain": [
       "0"
      ]
     },
     "execution_count": 34,
     "metadata": {},
     "output_type": "execute_result"
    }
   ],
   "source": [
    "f.seek(0)"
   ]
  },
  {
   "cell_type": "code",
   "execution_count": 35,
   "id": "79f007f6",
   "metadata": {},
   "outputs": [
    {
     "data": {
      "text/plain": [
       "'Szöveg írása '"
      ]
     },
     "execution_count": 35,
     "metadata": {},
     "output_type": "execute_result"
    }
   ],
   "source": [
    "f.read(13)"
   ]
  },
  {
   "cell_type": "code",
   "execution_count": 36,
   "id": "112524ff",
   "metadata": {},
   "outputs": [
    {
     "data": {
      "text/plain": [
       "0"
      ]
     },
     "execution_count": 36,
     "metadata": {},
     "output_type": "execute_result"
    }
   ],
   "source": [
    "f.seek(0)"
   ]
  },
  {
   "cell_type": "code",
   "execution_count": 37,
   "id": "fd3b204e",
   "metadata": {},
   "outputs": [
    {
     "data": {
      "text/plain": [
       "'Szöveg írása fileba\\n'"
      ]
     },
     "execution_count": 37,
     "metadata": {},
     "output_type": "execute_result"
    }
   ],
   "source": [
    "f.readline()"
   ]
  },
  {
   "cell_type": "code",
   "execution_count": 38,
   "id": "590ed824",
   "metadata": {},
   "outputs": [
    {
     "data": {
      "text/plain": [
       "'Még egy sor'"
      ]
     },
     "execution_count": 38,
     "metadata": {},
     "output_type": "execute_result"
    }
   ],
   "source": [
    "f.readline()"
   ]
  },
  {
   "cell_type": "code",
   "execution_count": 39,
   "id": "1a02ffd8",
   "metadata": {},
   "outputs": [
    {
     "data": {
      "text/plain": [
       "0"
      ]
     },
     "execution_count": 39,
     "metadata": {},
     "output_type": "execute_result"
    }
   ],
   "source": [
    "f.seek(0)"
   ]
  },
  {
   "cell_type": "code",
   "execution_count": 40,
   "id": "d82fbb55",
   "metadata": {},
   "outputs": [
    {
     "data": {
      "text/plain": [
       "['Szöveg írása fileba\\n', 'Még egy sor']"
      ]
     },
     "execution_count": 40,
     "metadata": {},
     "output_type": "execute_result"
    }
   ],
   "source": [
    "f.readlines()"
   ]
  },
  {
   "cell_type": "markdown",
   "id": "e2df95b0",
   "metadata": {},
   "source": [
    "## 6.4 Hibakezelés"
   ]
  },
  {
   "cell_type": "code",
   "execution_count": 41,
   "id": "fdecc080",
   "metadata": {},
   "outputs": [
    {
     "ename": "ZeroDivisionError",
     "evalue": "division by zero",
     "output_type": "error",
     "traceback": [
      "\u001b[1;31m---------------------------------------------------------------------------\u001b[0m",
      "\u001b[1;31mZeroDivisionError\u001b[0m                         Traceback (most recent call last)",
      "\u001b[1;32m~\\AppData\\Local\\Temp/ipykernel_11236/530406163.py\u001b[0m in \u001b[0;36m<module>\u001b[1;34m\u001b[0m\n\u001b[1;32m----> 1\u001b[1;33m \u001b[1;36m10\u001b[0m\u001b[1;33m/\u001b[0m\u001b[1;36m0\u001b[0m\u001b[1;33m\u001b[0m\u001b[1;33m\u001b[0m\u001b[0m\n\u001b[0m",
      "\u001b[1;31mZeroDivisionError\u001b[0m: division by zero"
     ]
    }
   ],
   "source": [
    "10/0"
   ]
  },
  {
   "cell_type": "code",
   "execution_count": 42,
   "id": "f704c0ab",
   "metadata": {},
   "outputs": [
    {
     "name": "stdout",
     "output_type": "stream",
     "text": [
      "Véletlenül 0-val osztottunk\n"
     ]
    }
   ],
   "source": [
    "try:\n",
    "    print(10/0)\n",
    "except ZeroDivisionError:\n",
    "    print(\"Véletlenül 0-val osztottunk\")"
   ]
  },
  {
   "cell_type": "code",
   "execution_count": 43,
   "id": "6623434f",
   "metadata": {},
   "outputs": [
    {
     "ename": "NameError",
     "evalue": "Hello",
     "output_type": "error",
     "traceback": [
      "\u001b[1;31m---------------------------------------------------------------------------\u001b[0m",
      "\u001b[1;31mNameError\u001b[0m                                 Traceback (most recent call last)",
      "\u001b[1;32m~\\AppData\\Local\\Temp/ipykernel_11236/2327143687.py\u001b[0m in \u001b[0;36m<module>\u001b[1;34m\u001b[0m\n\u001b[1;32m----> 1\u001b[1;33m \u001b[1;32mraise\u001b[0m \u001b[0mNameError\u001b[0m\u001b[1;33m(\u001b[0m\u001b[1;34m'Hello'\u001b[0m\u001b[1;33m)\u001b[0m\u001b[1;33m\u001b[0m\u001b[1;33m\u001b[0m\u001b[0m\n\u001b[0m",
      "\u001b[1;31mNameError\u001b[0m: Hello"
     ]
    }
   ],
   "source": [
    "raise NameError('Hello')"
   ]
  },
  {
   "cell_type": "code",
   "execution_count": 44,
   "id": "c5fc3f92",
   "metadata": {},
   "outputs": [],
   "source": [
    "def divide(x, y):\n",
    "    try:\n",
    "        result = x / y\n",
    "    except ZeroDivisionError:\n",
    "        print(\"Nullával nem lehet osztani!\")\n",
    "    else:\n",
    "        print(\"Az eredmény: \", result)\n",
    "    finally:\n",
    "        print(\"Finally\")"
   ]
  },
  {
   "cell_type": "code",
   "execution_count": 45,
   "id": "eadcb645",
   "metadata": {},
   "outputs": [
    {
     "name": "stdout",
     "output_type": "stream",
     "text": [
      "Az eredmény:  2.0\n",
      "Finally\n"
     ]
    }
   ],
   "source": [
    "divide(2, 1)"
   ]
  },
  {
   "cell_type": "code",
   "execution_count": 46,
   "id": "3d18b59c",
   "metadata": {},
   "outputs": [
    {
     "name": "stdout",
     "output_type": "stream",
     "text": [
      "Nullával nem lehet osztani!\n",
      "Finally\n"
     ]
    }
   ],
   "source": [
    "divide(2, 0)"
   ]
  },
  {
   "cell_type": "code",
   "execution_count": 47,
   "id": "a54e8da7",
   "metadata": {},
   "outputs": [
    {
     "name": "stdout",
     "output_type": "stream",
     "text": [
      "Finally\n"
     ]
    },
    {
     "ename": "TypeError",
     "evalue": "unsupported operand type(s) for /: 'str' and 'str'",
     "output_type": "error",
     "traceback": [
      "\u001b[1;31m---------------------------------------------------------------------------\u001b[0m",
      "\u001b[1;31mTypeError\u001b[0m                                 Traceback (most recent call last)",
      "\u001b[1;32m~\\AppData\\Local\\Temp/ipykernel_11236/1759864827.py\u001b[0m in \u001b[0;36m<module>\u001b[1;34m\u001b[0m\n\u001b[1;32m----> 1\u001b[1;33m \u001b[0mdivide\u001b[0m\u001b[1;33m(\u001b[0m\u001b[1;34m\"2\"\u001b[0m\u001b[1;33m,\u001b[0m \u001b[1;34m\"1\"\u001b[0m\u001b[1;33m)\u001b[0m\u001b[1;33m\u001b[0m\u001b[1;33m\u001b[0m\u001b[0m\n\u001b[0m",
      "\u001b[1;32m~\\AppData\\Local\\Temp/ipykernel_11236/2650830245.py\u001b[0m in \u001b[0;36mdivide\u001b[1;34m(x, y)\u001b[0m\n\u001b[0;32m      1\u001b[0m \u001b[1;32mdef\u001b[0m \u001b[0mdivide\u001b[0m\u001b[1;33m(\u001b[0m\u001b[0mx\u001b[0m\u001b[1;33m,\u001b[0m \u001b[0my\u001b[0m\u001b[1;33m)\u001b[0m\u001b[1;33m:\u001b[0m\u001b[1;33m\u001b[0m\u001b[1;33m\u001b[0m\u001b[0m\n\u001b[0;32m      2\u001b[0m     \u001b[1;32mtry\u001b[0m\u001b[1;33m:\u001b[0m\u001b[1;33m\u001b[0m\u001b[1;33m\u001b[0m\u001b[0m\n\u001b[1;32m----> 3\u001b[1;33m         \u001b[0mresult\u001b[0m \u001b[1;33m=\u001b[0m \u001b[0mx\u001b[0m \u001b[1;33m/\u001b[0m \u001b[0my\u001b[0m\u001b[1;33m\u001b[0m\u001b[1;33m\u001b[0m\u001b[0m\n\u001b[0m\u001b[0;32m      4\u001b[0m     \u001b[1;32mexcept\u001b[0m \u001b[0mZeroDivisionError\u001b[0m\u001b[1;33m:\u001b[0m\u001b[1;33m\u001b[0m\u001b[1;33m\u001b[0m\u001b[0m\n\u001b[0;32m      5\u001b[0m         \u001b[0mprint\u001b[0m\u001b[1;33m(\u001b[0m\u001b[1;34m\"Nullával nem lehet osztani!\"\u001b[0m\u001b[1;33m)\u001b[0m\u001b[1;33m\u001b[0m\u001b[1;33m\u001b[0m\u001b[0m\n",
      "\u001b[1;31mTypeError\u001b[0m: unsupported operand type(s) for /: 'str' and 'str'"
     ]
    }
   ],
   "source": [
    "divide(\"2\", \"1\")"
   ]
  },
  {
   "cell_type": "markdown",
   "id": "27583a3b",
   "metadata": {},
   "source": [
    "> **3. feladat**: Egészítsd ki a divide függvényt, hogy helytelen típusú input esetén is dobjon kivételt!"
   ]
  },
  {
   "cell_type": "code",
   "execution_count": 48,
   "id": "4870a2b6",
   "metadata": {},
   "outputs": [],
   "source": [
    "def divide(x, y):\n",
    "    try:\n",
    "        result = x / y\n",
    "    except TypeError:\n",
    "        print(\"Az input paraméterek típusa vagy float vagy integer kell legyen.\")\n",
    "    except ZeroDivisionError:\n",
    "        print(\"Nullával nem lehet osztani!\")\n",
    "    else:\n",
    "        print(\"Az eredmény: \", result)\n",
    "    finally:\n",
    "        print(\"Finally\")"
   ]
  },
  {
   "cell_type": "code",
   "execution_count": 49,
   "id": "4a6783ff",
   "metadata": {},
   "outputs": [
    {
     "name": "stdout",
     "output_type": "stream",
     "text": [
      "Az input paraméterek típusa vagy float vagy integer kell legyen.\n",
      "Finally\n"
     ]
    }
   ],
   "source": [
    "divide(\"2\", \"1\")"
   ]
  },
  {
   "cell_type": "markdown",
   "id": "d0a574c6",
   "metadata": {},
   "source": [
    "## 6.5 Dátumkezelés"
   ]
  },
  {
   "cell_type": "markdown",
   "id": "d4ebfd5d",
   "metadata": {},
   "source": [
    "### 6.5.1 Date\n",
    "A dátumkezelő függvények használata esetén a date-t kell importálni a datetime module-ból."
   ]
  },
  {
   "cell_type": "code",
   "execution_count": 50,
   "id": "5237ae97",
   "metadata": {},
   "outputs": [],
   "source": [
    "from datetime import date"
   ]
  },
  {
   "cell_type": "code",
   "execution_count": 52,
   "id": "0324c49c",
   "metadata": {},
   "outputs": [
    {
     "data": {
      "text/plain": [
       "datetime.date(2021, 10, 16)"
      ]
     },
     "execution_count": 52,
     "metadata": {},
     "output_type": "execute_result"
    }
   ],
   "source": [
    "date.today()"
   ]
  },
  {
   "cell_type": "code",
   "execution_count": 53,
   "id": "600761da",
   "metadata": {},
   "outputs": [
    {
     "name": "stdout",
     "output_type": "stream",
     "text": [
      "2019-04-13\n"
     ]
    }
   ],
   "source": [
    "a = date(2019, 4, 13)\n",
    "print(a)"
   ]
  },
  {
   "cell_type": "markdown",
   "id": "064123aa",
   "metadata": {},
   "source": [
    "### 6.5.2 Time\n",
    "Az időkezelő függvények használata esetén a datetime-t kell importálni a datetime module-ból."
   ]
  },
  {
   "cell_type": "code",
   "execution_count": 59,
   "id": "183b6f25",
   "metadata": {},
   "outputs": [],
   "source": [
    "from datetime import datetime"
   ]
  },
  {
   "cell_type": "code",
   "execution_count": 60,
   "id": "72b3807d",
   "metadata": {},
   "outputs": [
    {
     "name": "stdout",
     "output_type": "stream",
     "text": [
      "10:36:01.632524\n"
     ]
    }
   ],
   "source": [
    "a = datetime.now().time()\n",
    "print(a)"
   ]
  },
  {
   "cell_type": "code",
   "execution_count": 61,
   "id": "a9ceb99e",
   "metadata": {},
   "outputs": [
    {
     "data": {
      "text/plain": [
       "(10, 36, 1, 632524)"
      ]
     },
     "execution_count": 61,
     "metadata": {},
     "output_type": "execute_result"
    }
   ],
   "source": [
    "a.hour, a.minute, a.second, a.microsecond"
   ]
  },
  {
   "cell_type": "markdown",
   "id": "d5c584d9",
   "metadata": {},
   "source": [
    "### 6.5.3 Datetime"
   ]
  },
  {
   "cell_type": "code",
   "execution_count": 62,
   "id": "6a8826c2",
   "metadata": {},
   "outputs": [],
   "source": [
    "import datetime\n",
    "\n",
    "x = datetime.datetime.now()"
   ]
  },
  {
   "cell_type": "code",
   "execution_count": 63,
   "id": "d02fc2c7",
   "metadata": {},
   "outputs": [
    {
     "data": {
      "text/plain": [
       "datetime.datetime(2021, 10, 16, 10, 36, 19, 619533)"
      ]
     },
     "execution_count": 63,
     "metadata": {},
     "output_type": "execute_result"
    }
   ],
   "source": [
    "x"
   ]
  },
  {
   "cell_type": "code",
   "execution_count": 64,
   "id": "300798c8",
   "metadata": {},
   "outputs": [
    {
     "data": {
      "text/plain": [
       "2021"
      ]
     },
     "execution_count": 64,
     "metadata": {},
     "output_type": "execute_result"
    }
   ],
   "source": [
    "x.year"
   ]
  },
  {
   "cell_type": "code",
   "execution_count": 65,
   "id": "1afe2822",
   "metadata": {},
   "outputs": [
    {
     "data": {
      "text/plain": [
       "'Saturday'"
      ]
     },
     "execution_count": 65,
     "metadata": {},
     "output_type": "execute_result"
    }
   ],
   "source": [
    "x.strftime(\"%A\")"
   ]
  },
  {
   "cell_type": "code",
   "execution_count": 66,
   "id": "28e85e00",
   "metadata": {},
   "outputs": [
    {
     "data": {
      "text/plain": [
       "'2021-10-16 10:36:19'"
      ]
     },
     "execution_count": 66,
     "metadata": {},
     "output_type": "execute_result"
    }
   ],
   "source": [
    "x.strftime(\"%Y-%m-%d %H:%M:%S\")"
   ]
  },
  {
   "cell_type": "code",
   "execution_count": 95,
   "id": "42db9a02",
   "metadata": {},
   "outputs": [
    {
     "data": {
      "text/plain": [
       "datetime.datetime(2018, 6, 21, 0, 0)"
      ]
     },
     "execution_count": 95,
     "metadata": {},
     "output_type": "execute_result"
    }
   ],
   "source": [
    "date_string = \"21 June, 2021\"\n",
    "datetime.strptime(date_string, \"%d %B, %Y\")"
   ]
  },
  {
   "cell_type": "code",
   "execution_count": 97,
   "id": "69410ea2",
   "metadata": {},
   "outputs": [
    {
     "data": {
      "text/plain": [
       "datetime.datetime(2021, 10, 16, 0, 0)"
      ]
     },
     "execution_count": 97,
     "metadata": {},
     "output_type": "execute_result"
    }
   ],
   "source": [
    "date_string = \"2021-10-16\"\n",
    "datetime.strptime(date_string, \"%Y-%m-%d\")"
   ]
  },
  {
   "cell_type": "markdown",
   "id": "2670e46a",
   "metadata": {},
   "source": [
    "### 6.5.4 Timestamp\n",
    "A dátumot és az időt időbélyegként is eltárolhatjuk, amely float típusú és időzónát nem tárol el. A datetime és time típusú adatformátumok az időzónát is eltárolják.\n",
    "[epochconverter.com](epochconverter)"
   ]
  },
  {
   "cell_type": "code",
   "execution_count": 68,
   "id": "b1fb1505",
   "metadata": {},
   "outputs": [
    {
     "name": "stdout",
     "output_type": "stream",
     "text": [
      "1634373870.2188792\n"
     ]
    }
   ],
   "source": [
    "import time\n",
    "\n",
    "print(time.time())"
   ]
  },
  {
   "cell_type": "code",
   "execution_count": null,
   "id": "566bab0d",
   "metadata": {},
   "outputs": [],
   "source": [
    "timestamp = 1634142950\n",
    "datetime.datetime.fromtimestamp(timestamp)"
   ]
  },
  {
   "cell_type": "markdown",
   "id": "539afa59",
   "metadata": {},
   "source": [
    "### 6.5.5 Timedelta\n",
    "Dátumokkal való műveletek elvégézése esetén hasznos."
   ]
  },
  {
   "cell_type": "code",
   "execution_count": 70,
   "id": "2469c48f",
   "metadata": {},
   "outputs": [],
   "source": [
    "from datetime import datetime, date, timedelta"
   ]
  },
  {
   "cell_type": "code",
   "execution_count": 71,
   "id": "65b18097",
   "metadata": {},
   "outputs": [],
   "source": [
    "t1 = date(year = 2021, month = 7, day = 12)\n",
    "t2 = date(year = 2020, month = 12, day = 23)\n",
    "t3 = t1 - t2"
   ]
  },
  {
   "cell_type": "code",
   "execution_count": 72,
   "id": "42d349e0",
   "metadata": {},
   "outputs": [
    {
     "data": {
      "text/plain": [
       "(datetime.timedelta(days=201), 201)"
      ]
     },
     "execution_count": 72,
     "metadata": {},
     "output_type": "execute_result"
    }
   ],
   "source": [
    "t3, t3.days"
   ]
  },
  {
   "cell_type": "code",
   "execution_count": 73,
   "id": "5feb3053",
   "metadata": {},
   "outputs": [],
   "source": [
    "t1 = datetime.now()\n",
    "t2 = timedelta(days = 14)\n",
    "t3 = t1 - t2"
   ]
  },
  {
   "cell_type": "code",
   "execution_count": 74,
   "id": "07bea6ee",
   "metadata": {},
   "outputs": [
    {
     "data": {
      "text/plain": [
       "datetime.datetime(2021, 10, 2, 10, 46, 59, 146879)"
      ]
     },
     "execution_count": 74,
     "metadata": {},
     "output_type": "execute_result"
    }
   ],
   "source": [
    "t3"
   ]
  },
  {
   "cell_type": "code",
   "execution_count": 75,
   "id": "613a6a20",
   "metadata": {},
   "outputs": [
    {
     "data": {
      "text/plain": [
       "1209600.0"
      ]
     },
     "execution_count": 75,
     "metadata": {},
     "output_type": "execute_result"
    }
   ],
   "source": [
    "t2.total_seconds()"
   ]
  },
  {
   "cell_type": "markdown",
   "id": "d24afe9e",
   "metadata": {},
   "source": [
    "## 6.6 Package\n",
    "[Python Modules and Packages – An Introduction](https://realpython.com/python-modules-packages/)"
   ]
  },
  {
   "cell_type": "markdown",
   "id": "8be438d1",
   "metadata": {},
   "source": [
    "A moduláris programozás egy nagy, nehézkes programozási feladatot különálló, kisebb, jobban kezelhető részfeladatokká vagy modulokra való bontásának folyamatát jelenti.\n",
    "\n",
    "Számos előnye van a modulok használatának az alkalmazásfejlesztés során:\n",
    "- __Egyszerűség__: Ahelyett, hogy a teljes problémára összpontosítana, egy modul jellemzően a probléma egy viszonylag kis részére összpontosít, így kisebb a hibalehetőség.\n",
    "- __Karbantarthatóság__: A modulokat általában úgy tervezték, hogy logikai határokat érvényesítsenek a különböző problématerületek között. Ha a modulok úgy íródnak, hogy minimálisra csökkentsék az egymásrautaltságot, csökken annak valószínűsége, hogy egyetlen modul módosításai hatással lesznek a program más részeire.\n",
    "- __Láthatóság/scoping__: A modulok általában külön névteret határoznak meg, amely segít elkerülni a névütközést.\n",
    "- __Újrafelhasználhatóság__: Az egyetlen modulban meghatározott funkcionalitást az alkalmazás más részei könnyen újra felhasználhatják (egy megfelelően meghatározott interfészen keresztül). Ez kiküszöböli a kód ismétlődésének szükségességét.\n",
    "\n",
    "Pythonban az alábbi módokon lehetséges modulokat írni:\n",
    "- __Python nyelven__\n",
    "- __C nyelven__ megírni, majd futásidőben betölteni (pl: regex modul)\n",
    "- __Beépített__ modulok, amelyeket az interpreter értelmez (pl: itertools)\n",
    "\n",
    "Mindhárom esetben az import paranccsal importáljuk a modelokat.\n",
    "\n",
    "Ha saját modult szeretnénk írni nincs másra szükségünk, mint egy .py kiterjesztésű file-ra, amely érvényes Python kódot tartalmaz."
   ]
  },
  {
   "cell_type": "code",
   "execution_count": null,
   "id": "90311a40",
   "metadata": {},
   "outputs": [],
   "source": [
    "# module.py\n",
    "a = \"Not great, not terrible\"\n",
    "b = [1, 2, 3]\n",
    "\n",
    "def c(p):\n",
    "    print('A kapott paraméter: {:}'.format(p))\n",
    "\n",
    "class d:\n",
    "    pass"
   ]
  },
  {
   "cell_type": "code",
   "execution_count": 76,
   "id": "044b5635",
   "metadata": {},
   "outputs": [],
   "source": [
    "import module"
   ]
  },
  {
   "cell_type": "code",
   "execution_count": 79,
   "id": "b53fec84",
   "metadata": {},
   "outputs": [
    {
     "data": {
      "text/plain": [
       "('Not great, not terrible', [1, 2, 3])"
      ]
     },
     "execution_count": 79,
     "metadata": {},
     "output_type": "execute_result"
    }
   ],
   "source": [
    "module.a, module.b"
   ]
  },
  {
   "cell_type": "code",
   "execution_count": 80,
   "id": "591f42da",
   "metadata": {},
   "outputs": [
    {
     "name": "stdout",
     "output_type": "stream",
     "text": [
      "A kapott paraméter: hello\n"
     ]
    }
   ],
   "source": [
    "module.c('hello')"
   ]
  },
  {
   "cell_type": "code",
   "execution_count": 81,
   "id": "431e9511",
   "metadata": {},
   "outputs": [
    {
     "data": {
      "text/plain": [
       "module.d"
      ]
     },
     "execution_count": 81,
     "metadata": {},
     "output_type": "execute_result"
    }
   ],
   "source": [
    "module.d"
   ]
  },
  {
   "cell_type": "markdown",
   "id": "96472fbe",
   "metadata": {},
   "source": [
    "Az interpreter a betöltendő modulokat az alábbi sorrendben keresi:\n",
    "- az aktuális könyvtárban\n",
    "- A PYTHONPATH környezeti változóban megadott könyvtárakban (import os;os.getenv('PYTHONPATH'))\n",
    "- A Python telepítésekor beállított könyvtárak (import sys;sys.path)"
   ]
  },
  {
   "cell_type": "code",
   "execution_count": 87,
   "id": "dd4b2ce4",
   "metadata": {},
   "outputs": [
    {
     "data": {
      "text/plain": [
       "'C:\\\\Zol\\\\BCE\\\\Python\\\\module.py'"
      ]
     },
     "execution_count": 87,
     "metadata": {},
     "output_type": "execute_result"
    }
   ],
   "source": [
    "# a module-t tartalmazó állomány helye\n",
    "module.__file__"
   ]
  },
  {
   "cell_type": "code",
   "execution_count": 88,
   "id": "85c0605f",
   "metadata": {},
   "outputs": [
    {
     "data": {
      "text/plain": [
       "'c:\\\\python39\\\\lib\\\\re.py'"
      ]
     },
     "execution_count": 88,
     "metadata": {},
     "output_type": "execute_result"
    }
   ],
   "source": [
    "import re\n",
    "re.__file__"
   ]
  },
  {
   "cell_type": "markdown",
   "id": "0d475133",
   "metadata": {},
   "source": [
    "## 6.6.1 import utasítás\n",
    "Egy vagy több modul importálása:\n",
    "```\n",
    "import <osztály neve>[, <osztály neve> ...]\n",
    "```\n",
    "Egy modulból egy objektum importálása:\n",
    "```\n",
    "from <modul neve> import <név>\n",
    "```\n",
    "Egy modul importálása más néven:\n",
    "```\n",
    "import <modul neve> as <név>\n",
    "```\n",
    "Egy objektum importálása egy modulból más néven:\n",
    "```\n",
    "from <modul neve> import <név> as <név>\n",
    "```\n",
    "Egy modul objektumainak listázása:\n",
    "```\n",
    "dir(modul)\n",
    "```"
   ]
  },
  {
   "cell_type": "code",
   "execution_count": 89,
   "id": "493aa860",
   "metadata": {},
   "outputs": [
    {
     "data": {
      "text/plain": [
       "['__builtins__',\n",
       " '__cached__',\n",
       " '__doc__',\n",
       " '__file__',\n",
       " '__loader__',\n",
       " '__name__',\n",
       " '__package__',\n",
       " '__spec__',\n",
       " 'a',\n",
       " 'b',\n",
       " 'c',\n",
       " 'd']"
      ]
     },
     "execution_count": 89,
     "metadata": {},
     "output_type": "execute_result"
    }
   ],
   "source": [
    "dir(module)"
   ]
  },
  {
   "cell_type": "markdown",
   "id": "3ce8267b",
   "metadata": {},
   "source": [
    "A **__name__** változó tartalmazza az aktuális modul nevét vagy **\\_\\_main\\_\\_**, ha nem modulként fut."
   ]
  },
  {
   "cell_type": "code",
   "execution_count": null,
   "id": "6bb19b6c",
   "metadata": {},
   "outputs": [],
   "source": [
    "# fact.py tartalma\n",
    "# Futtatható standaloneként és modulként is.\n",
    "def fact(n):\n",
    "    return 1 if n == 1 else n * fact(n-1)\n",
    "\n",
    "if (__name__ == '__main__'):\n",
    "    import sys\n",
    "    if len(sys.argv) > 1:\n",
    "        print(fact(int(sys.argv[1])))"
   ]
  },
  {
   "cell_type": "code",
   "execution_count": null,
   "id": "54c0c7bb",
   "metadata": {},
   "outputs": [],
   "source": [
    "from fact import fact\n",
    "fact(6)"
   ]
  },
  {
   "cell_type": "markdown",
   "id": "e907e338",
   "metadata": {},
   "source": [
    "> **4. feladat**: Írj egy modult, amely egy `Datumkezelo` osztályt tartalmaz. Az osztály konstruktorának 1 string paramétere van. A dátumot yyyy-mm-dd formátumban kell megadni, ha nem így érkezik, akkor dobjon hibát. Legyen egy `megjelenit` osztály, amely kiírja a példányhoz tartozó dátumot és legyen egy `hozzaad_nap` függvény, amely paraméterként kapott napok számát hozzáadja a példányváltozóhoz. Minden függvényhez készíts hibakezelést, példányosítsd az osztályt, add át neki a mai napot a kívánt formátumban, irasd ki példányváltozó tartalmát, adj hozzá 5 napot és ismételten irasd ki a példányváltozó tartalmát."
   ]
  },
  {
   "cell_type": "code",
   "execution_count": 114,
   "id": "8a3a9dd0",
   "metadata": {},
   "outputs": [],
   "source": [
    "class Datumkezelo():\n",
    "    def __init__(self, date_string):\n",
    "        try:\n",
    "            self.date = datetime.strptime(date_string, \"%Y-%m-%d\")\n",
    "        except ValueError:\n",
    "            print(\"A dátumot yyyy-mm-dd formátumban kell megadni.\")\n",
    "\n",
    "    def megjelenit(self):\n",
    "        print('Dátum: {:}'.format(self.date))\n",
    "\n",
    "    def hozzaad_nap(self, nap):\n",
    "        try:\n",
    "            self.date = self.date + timedelta(days = nap)\n",
    "        except TypeError:\n",
    "            print('A megadott napok száma egész típusú kell legyen')"
   ]
  },
  {
   "cell_type": "code",
   "execution_count": 115,
   "id": "bc1ef315",
   "metadata": {},
   "outputs": [
    {
     "name": "stdout",
     "output_type": "stream",
     "text": [
      "A dátumot yyyy-mm-dd formátumban kell megadni.\n"
     ]
    }
   ],
   "source": [
    "e = Datumkezelo('21-10-16')"
   ]
  },
  {
   "cell_type": "code",
   "execution_count": 118,
   "id": "f17640de",
   "metadata": {},
   "outputs": [
    {
     "name": "stdout",
     "output_type": "stream",
     "text": [
      "Dátum: 2021-10-16 00:00:00\n",
      "A megadott napok száma egész típusú kell legyen\n",
      "Dátum: 2021-10-20 00:00:00\n"
     ]
    }
   ],
   "source": [
    "d = Datumkezelo(datetime.now().strftime('%Y-%m-%d'))\n",
    "d.megjelenit()\n",
    "d.hozzaad_nap('5')\n",
    "d.hozzaad_nap(4)\n",
    "d.megjelenit()"
   ]
  },
  {
   "cell_type": "markdown",
   "id": "9fa9ded0",
   "metadata": {},
   "source": [
    "> **5. feladat**: Készíts egy `Person` osztályt, amely a konstruktorában átadott `name` változót betölti egy példányváltozóba. Származtass belőle egy `Student` osztályt, amelynek legyen egy `add_grade` függvénye, amely a paraméterként kapott jegyet hozzáadja egy példányváltozó listához. Készíts egy `mean` függvényt, amely a beírt jegyekből átlagot számol. Kezeld le azt az esetet, amikor a `mean` függvényt a jegyek beírása előtt hívjuk meg!"
   ]
  },
  {
   "cell_type": "code",
   "execution_count": null,
   "id": "115c59a3",
   "metadata": {},
   "outputs": [],
   "source": []
  }
 ],
 "metadata": {
  "kernelspec": {
   "display_name": "Python 3 (ipykernel)",
   "language": "python",
   "name": "python3"
  },
  "language_info": {
   "codemirror_mode": {
    "name": "ipython",
    "version": 3
   },
   "file_extension": ".py",
   "mimetype": "text/x-python",
   "name": "python",
   "nbconvert_exporter": "python",
   "pygments_lexer": "ipython3",
   "version": "3.9.6"
  }
 },
 "nbformat": 4,
 "nbformat_minor": 5
}
