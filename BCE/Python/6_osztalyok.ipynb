{
 "cells": [
  {
   "cell_type": "markdown",
   "id": "46017ef9",
   "metadata": {},
   "source": [
    "# 6. Osztályok, filekezelés\n",
    "_2021.08.29_\n",
    "\n",
    "Az órán ...\n",
    "\n",
    "Tartalom:\n",
    "- Osztályok\n",
    "- Fájlkezelés (alapértelmezett)\n",
    "- Hibakezelés"
   ]
  },
  {
   "cell_type": "code",
   "execution_count": 1,
   "id": "fe0127d6",
   "metadata": {},
   "outputs": [
    {
     "data": {
      "text/html": [
       "<style>.container { width:100% !important; }</style>"
      ],
      "text/plain": [
       "<IPython.core.display.HTML object>"
      ]
     },
     "metadata": {},
     "output_type": "display_data"
    }
   ],
   "source": [
    "from IPython.core.display import display, HTML\n",
    "display(HTML(\"<style>.container { width:100% !important; }</style>\"))"
   ]
  },
  {
   "cell_type": "markdown",
   "id": "4c12e367",
   "metadata": {},
   "source": [
    "## 6.1 Osztályok, öröklődés\n",
    "### 6.1.1 Scope, namespaces"
   ]
  },
  {
   "cell_type": "code",
   "execution_count": 2,
   "id": "b8c40d00",
   "metadata": {},
   "outputs": [
    {
     "name": "stdout",
     "output_type": "stream",
     "text": [
      "After local assignment: test spam\n",
      "After nonlocal assignment: nonlocal spam\n",
      "After global assignment: nonlocal spam\n",
      "In global scope: global spam\n"
     ]
    }
   ],
   "source": [
    "def scope_test():\n",
    "    def do_local():\n",
    "        spam = \"local spam\"\n",
    "\n",
    "    def do_nonlocal():\n",
    "        nonlocal spam\n",
    "        spam = \"nonlocal spam\"\n",
    "\n",
    "    def do_global():\n",
    "        global spam\n",
    "        spam = \"global spam\"\n",
    "\n",
    "    spam = \"test spam\"\n",
    "    do_local()\n",
    "    print(\"After local assignment:\", spam)\n",
    "    do_nonlocal()\n",
    "    print(\"After nonlocal assignment:\", spam)\n",
    "    do_global()\n",
    "    print(\"After global assignment:\", spam)\n",
    "\n",
    "scope_test()\n",
    "print(\"In global scope:\", spam)"
   ]
  },
  {
   "cell_type": "markdown",
   "id": "2f09554a",
   "metadata": {},
   "source": [
    "### 6.1.2 Classes"
   ]
  },
  {
   "cell_type": "code",
   "execution_count": 3,
   "id": "33be8fea",
   "metadata": {},
   "outputs": [],
   "source": [
    "class MyClass:\n",
    "    my_var = 12345\n",
    "\n",
    "    def my_func(self):\n",
    "        return 'test'"
   ]
  },
  {
   "cell_type": "code",
   "execution_count": 4,
   "id": "23219fa3",
   "metadata": {},
   "outputs": [],
   "source": [
    "x = MyClass()"
   ]
  },
  {
   "cell_type": "code",
   "execution_count": 5,
   "id": "416d3e4c",
   "metadata": {},
   "outputs": [
    {
     "data": {
      "text/plain": [
       "12345"
      ]
     },
     "execution_count": 5,
     "metadata": {},
     "output_type": "execute_result"
    }
   ],
   "source": [
    "x.my_var"
   ]
  },
  {
   "cell_type": "code",
   "execution_count": 6,
   "id": "855a91db",
   "metadata": {},
   "outputs": [
    {
     "data": {
      "text/plain": [
       "'test'"
      ]
     },
     "execution_count": 6,
     "metadata": {},
     "output_type": "execute_result"
    }
   ],
   "source": [
    "x.my_func()"
   ]
  },
  {
   "cell_type": "markdown",
   "id": "f9916488",
   "metadata": {},
   "source": [
    "### 6.1.3 Instatiation"
   ]
  },
  {
   "cell_type": "code",
   "execution_count": 7,
   "id": "9d148380",
   "metadata": {},
   "outputs": [],
   "source": [
    "class MyClass:\n",
    "    my_var = 12345\n",
    "    def __init__(self):\n",
    "        print('__init__ function called')\n",
    "        self.my_var = 54321\n",
    "\n",
    "    def my_func(self):\n",
    "        return 'test'"
   ]
  },
  {
   "cell_type": "code",
   "execution_count": 8,
   "id": "bee6e086",
   "metadata": {},
   "outputs": [
    {
     "name": "stdout",
     "output_type": "stream",
     "text": [
      "__init__ function called\n"
     ]
    }
   ],
   "source": [
    "x = MyClass()"
   ]
  },
  {
   "cell_type": "code",
   "execution_count": 9,
   "id": "f32d0be2",
   "metadata": {},
   "outputs": [
    {
     "data": {
      "text/plain": [
       "54321"
      ]
     },
     "execution_count": 9,
     "metadata": {},
     "output_type": "execute_result"
    }
   ],
   "source": [
    "x.my_var"
   ]
  },
  {
   "cell_type": "markdown",
   "id": "b6521168",
   "metadata": {},
   "source": [
    "### 6.1.4 Class & instance variables"
   ]
  },
  {
   "cell_type": "code",
   "execution_count": 10,
   "id": "0d1f8ba0",
   "metadata": {},
   "outputs": [],
   "source": [
    "class Kutya:\n",
    "    fajta = 'kutya' # osztályváltozó\n",
    "\n",
    "    def __init__(self, nev):\n",
    "        self.nev = nev    # példányváltozó"
   ]
  },
  {
   "cell_type": "code",
   "execution_count": 11,
   "id": "ddaf91d9",
   "metadata": {},
   "outputs": [],
   "source": [
    "d = Kutya('Buksi')\n",
    "e = Kutya('Blöki')"
   ]
  },
  {
   "cell_type": "code",
   "execution_count": 12,
   "id": "7007a1b1",
   "metadata": {},
   "outputs": [
    {
     "data": {
      "text/plain": [
       "('kutya', 'Buksi')"
      ]
     },
     "execution_count": 12,
     "metadata": {},
     "output_type": "execute_result"
    }
   ],
   "source": [
    "d.fajta, d.nev"
   ]
  },
  {
   "cell_type": "code",
   "execution_count": 13,
   "id": "20216a0e",
   "metadata": {},
   "outputs": [
    {
     "data": {
      "text/plain": [
       "('kutya', 'Blöki')"
      ]
     },
     "execution_count": 13,
     "metadata": {},
     "output_type": "execute_result"
    }
   ],
   "source": [
    "e.fajta, e.nev"
   ]
  },
  {
   "cell_type": "markdown",
   "id": "1ddbb012",
   "metadata": {},
   "source": [
    "> **1. feladat**: Egészítsd ki a Kutya osztályt egy tanul_trukk függvénnyel, amely a paraméterként átadott trükköt hozzáadja az adott kutya megtanult trükkjei közé!"
   ]
  },
  {
   "cell_type": "markdown",
   "id": "a9961344",
   "metadata": {},
   "source": [
    "Rossz megoldás"
   ]
  },
  {
   "cell_type": "code",
   "execution_count": 14,
   "id": "35c6b4e7",
   "metadata": {},
   "outputs": [],
   "source": [
    "class Kutya:\n",
    "    fajta = 'kutya' # osztályváltozó\n",
    "    trukkok = []\n",
    "\n",
    "    def __init__(self, nev):\n",
    "        self.nev = nev    # példányváltozó\n",
    "\n",
    "    def tanul_trukk(self, trukk):\n",
    "        self.trukkok.append(trukk)"
   ]
  },
  {
   "cell_type": "code",
   "execution_count": 15,
   "id": "7c4fd567",
   "metadata": {},
   "outputs": [],
   "source": [
    "d = Kutya('Fido')\n",
    "e = Kutya('Mancika')\n",
    "d.tanul_trukk('ül')\n",
    "d.tanul_trukk('forog')"
   ]
  },
  {
   "cell_type": "code",
   "execution_count": 16,
   "id": "ba8f3cb3",
   "metadata": {},
   "outputs": [
    {
     "data": {
      "text/plain": [
       "['ül', 'forog']"
      ]
     },
     "execution_count": 16,
     "metadata": {},
     "output_type": "execute_result"
    }
   ],
   "source": [
    "d.trukkok"
   ]
  },
  {
   "cell_type": "code",
   "execution_count": 17,
   "id": "02e6427a",
   "metadata": {},
   "outputs": [
    {
     "data": {
      "text/plain": [
       "['ül', 'forog']"
      ]
     },
     "execution_count": 17,
     "metadata": {},
     "output_type": "execute_result"
    }
   ],
   "source": [
    "e.trukkok"
   ]
  },
  {
   "cell_type": "markdown",
   "id": "da0e9769",
   "metadata": {},
   "source": [
    "Jó megoldás"
   ]
  },
  {
   "cell_type": "code",
   "execution_count": 18,
   "id": "20f06442",
   "metadata": {},
   "outputs": [],
   "source": [
    "class Kutya:\n",
    "    fajta = 'kutya' # osztályváltozó\n",
    "\n",
    "    def __init__(self, nev):\n",
    "        self.nev = nev    # példányváltozó\n",
    "        self.trukkok = []\n",
    "\n",
    "    def tanul_trukk(self, trukk):\n",
    "        self.trukkok.append(trukk)"
   ]
  },
  {
   "cell_type": "code",
   "execution_count": 19,
   "id": "38b00b91",
   "metadata": {},
   "outputs": [],
   "source": [
    "d = Kutya('Fido')\n",
    "e = Kutya('Mancika')\n",
    "d.tanul_trukk('ül')\n",
    "d.tanul_trukk('forog')"
   ]
  },
  {
   "cell_type": "code",
   "execution_count": 20,
   "id": "4bcd47c3",
   "metadata": {},
   "outputs": [
    {
     "data": {
      "text/plain": [
       "['ül', 'forog']"
      ]
     },
     "execution_count": 20,
     "metadata": {},
     "output_type": "execute_result"
    }
   ],
   "source": [
    "d.trukkok"
   ]
  },
  {
   "cell_type": "code",
   "execution_count": 21,
   "id": "07d2993f",
   "metadata": {},
   "outputs": [
    {
     "data": {
      "text/plain": [
       "[]"
      ]
     },
     "execution_count": 21,
     "metadata": {},
     "output_type": "execute_result"
    }
   ],
   "source": [
    "e.trukkok"
   ]
  },
  {
   "cell_type": "markdown",
   "id": "d696dff7",
   "metadata": {},
   "source": [
    "### 6.1.5 Inheritance"
   ]
  },
  {
   "cell_type": "code",
   "execution_count": 22,
   "id": "d32314a8",
   "metadata": {},
   "outputs": [],
   "source": [
    "class Jarmu:\n",
    "    def __init__(self, szin):\n",
    "        self.szin = szin\n",
    "    \n",
    "    def megjelenit(self):\n",
    "        print('A jármű színe: {:}'.format(self.szin))"
   ]
  },
  {
   "cell_type": "code",
   "execution_count": 23,
   "id": "78e91a24",
   "metadata": {},
   "outputs": [
    {
     "name": "stdout",
     "output_type": "stream",
     "text": [
      "A jármű színe: piros\n"
     ]
    }
   ],
   "source": [
    "j = Jarmu('piros')\n",
    "j.megjelenit()"
   ]
  },
  {
   "cell_type": "code",
   "execution_count": 24,
   "id": "3c3d6e20",
   "metadata": {},
   "outputs": [],
   "source": [
    "class Auto(Jarmu):\n",
    "    def __init__(self, szin, kerekek_szama):\n",
    "        Jarmu.__init__(self, szin)\n",
    "        #super().__init__(szin)\n",
    "        \n",
    "        self.kerekek_szama = kerekek_szama\n",
    "\n",
    "    def megjelenit(self):\n",
    "        print('A jármű színe: {:}\\nKerekeinek száma: {:}'.format(self.szin, self.kerekek_szama))\n",
    "\n",
    "class Repulo(Jarmu):\n",
    "    pass"
   ]
  },
  {
   "cell_type": "code",
   "execution_count": 25,
   "id": "66f6af9c",
   "metadata": {},
   "outputs": [],
   "source": [
    "a = Auto('kek', 4)"
   ]
  },
  {
   "cell_type": "code",
   "execution_count": 26,
   "id": "a2d9925f",
   "metadata": {},
   "outputs": [
    {
     "name": "stdout",
     "output_type": "stream",
     "text": [
      "A jármű színe: kek\n",
      "Kerekeinek száma: 4\n"
     ]
    }
   ],
   "source": [
    "a.megjelenit()"
   ]
  },
  {
   "cell_type": "markdown",
   "id": "b35fe1c6",
   "metadata": {},
   "source": [
    "> **2. feladat**: Fejezd be a Repulo osztályt, paraméterként adj hozzá egy Boolean típusú változót, amely azt tárolja, hogy a repülőgép futóműve behúzható-e!"
   ]
  },
  {
   "cell_type": "code",
   "execution_count": 27,
   "id": "1ca24783",
   "metadata": {},
   "outputs": [],
   "source": [
    "class Repulo(Jarmu):\n",
    "    def __init__(self, szin, behuzhato):\n",
    "        super().__init__(szin)\n",
    "        \n",
    "        self.behuzhato = behuzhato\n",
    "\n",
    "    def megjelenit(self):\n",
    "        print('A jármű színe: {:}\\nFutómű behúzható: {:}'.format(self.szin, self.behuzhato))"
   ]
  },
  {
   "cell_type": "code",
   "execution_count": 28,
   "id": "30b95e4e",
   "metadata": {},
   "outputs": [
    {
     "name": "stdout",
     "output_type": "stream",
     "text": [
      "A jármű színe: zöld\n",
      "Futómű behúzható: False\n"
     ]
    }
   ],
   "source": [
    "r = Repulo('zöld', False)\n",
    "r.megjelenit()"
   ]
  },
  {
   "cell_type": "markdown",
   "id": "ddf34af9",
   "metadata": {},
   "source": [
    "## 6.2 Filekezelés\n",
    "Olvassuk be a 6.2_airtravel.csv file tartalmát, amely a havi transzatlanti polgári repülések számát tartalmazza. Az egyes számok ezer utast jelentenek. A file-ok megnyitására az **open(filenév, mód)** parancs használható, ahol a\n",
    "- _filenév_: a megnyitni kívánt file neve\n",
    "- _mód_:\n",
    "    - r: reading, megnyitás olvasásra (alapértelmezett)\n",
    "    - w: writing: megnyitás írásra\n",
    "    - a: append: megnyitás hozzáfűzésre\n",
    "    - r+: megnyitás olvasásra és írásra"
   ]
  },
  {
   "cell_type": "code",
   "execution_count": 34,
   "id": "62bb3bcb",
   "metadata": {},
   "outputs": [],
   "source": [
    "file = open('6.2_airtravel.csv', 'r')"
   ]
  },
  {
   "cell_type": "code",
   "execution_count": 32,
   "id": "c8c97942",
   "metadata": {},
   "outputs": [
    {
     "name": "stdout",
     "output_type": "stream",
     "text": [
      "\"Month\", \"1958\", \"1959\", \"1960\"\n",
      "\"JAN\",  340,  360,  417\n",
      "\"FEB\",  318,  342,  391\n",
      "\"MAR\",  362,  406,  419\n",
      "\"APR\",  348,  396,  461\n",
      "\"MAY\",  363,  420,  472\n",
      "\"JUN\",  435,  472,  535\n",
      "\"JUL\",  491,  548,  622\n",
      "\"AUG\",  505,  559,  606\n",
      "\"SEP\",  404,  463,  508\n",
      "\"OCT\",  359,  407,  461\n",
      "\"NOV\",  310,  362,  390\n",
      "\"DEC\",  337,  405,  432\n",
      "\n",
      "\n"
     ]
    }
   ],
   "source": [
    "print (file.read())"
   ]
  },
  {
   "cell_type": "code",
   "execution_count": 35,
   "id": "ff998216",
   "metadata": {},
   "outputs": [
    {
     "name": "stdout",
     "output_type": "stream",
     "text": [
      "\"Month\", \"1958\", \"1959\", \"1960\"\n",
      "\n",
      "\"JAN\",  340,  360,  417\n",
      "\n",
      "\"FEB\",  318,  342,  391\n",
      "\n",
      "\"MAR\",  362,  406,  419\n",
      "\n",
      "\"APR\",  348,  396,  461\n",
      "\n",
      "\"MAY\",  363,  420,  472\n",
      "\n",
      "\"JUN\",  435,  472,  535\n",
      "\n",
      "\"JUL\",  491,  548,  622\n",
      "\n",
      "\"AUG\",  505,  559,  606\n",
      "\n",
      "\"SEP\",  404,  463,  508\n",
      "\n",
      "\"OCT\",  359,  407,  461\n",
      "\n",
      "\"NOV\",  310,  362,  390\n",
      "\n",
      "\"DEC\",  337,  405,  432\n",
      "\n",
      "\n",
      "\n"
     ]
    }
   ],
   "source": [
    "for each in file:\n",
    "    print (each)"
   ]
  },
  {
   "cell_type": "code",
   "execution_count": 55,
   "id": "b6506ab1",
   "metadata": {},
   "outputs": [],
   "source": [
    "file = open('test.txt', 'w', encoding='utf-8')\n",
    "file.write(\"Szöveg írása fileba\")\n",
    "file.close()"
   ]
  },
  {
   "cell_type": "code",
   "execution_count": 56,
   "id": "98e8f5ce",
   "metadata": {},
   "outputs": [],
   "source": [
    "file = open('test.txt', 'a', encoding='utf-8')\n",
    "file.write(\"\\nMég egy sor\")\n",
    "file.close()"
   ]
  },
  {
   "cell_type": "markdown",
   "id": "c9a99b4e",
   "metadata": {},
   "source": [
    "A with parancs használatával nem szükséges lezárni a file-t, mivel az automatikusan lezáródik."
   ]
  },
  {
   "cell_type": "code",
   "execution_count": 59,
   "id": "c8524c0e",
   "metadata": {},
   "outputs": [],
   "source": [
    "with open(\"test.txt\", encoding = 'utf-8') as file:  \n",
    "    data = file.read()"
   ]
  },
  {
   "cell_type": "code",
   "execution_count": 60,
   "id": "4570841e",
   "metadata": {},
   "outputs": [
    {
     "data": {
      "text/plain": [
       "'Szöveg írása fileba\\nMég egy sor'"
      ]
     },
     "execution_count": 60,
     "metadata": {},
     "output_type": "execute_result"
    }
   ],
   "source": [
    "data"
   ]
  },
  {
   "cell_type": "code",
   "execution_count": 68,
   "id": "46b6d6c0",
   "metadata": {},
   "outputs": [],
   "source": [
    "f = open(\"test.txt\", encoding = 'utf-8')"
   ]
  },
  {
   "cell_type": "code",
   "execution_count": 69,
   "id": "fa0a90b5",
   "metadata": {},
   "outputs": [
    {
     "data": {
      "text/plain": [
       "'Szöveg'"
      ]
     },
     "execution_count": 69,
     "metadata": {},
     "output_type": "execute_result"
    }
   ],
   "source": [
    "f.read(6)"
   ]
  },
  {
   "cell_type": "code",
   "execution_count": 70,
   "id": "37ead3c7",
   "metadata": {},
   "outputs": [
    {
     "data": {
      "text/plain": [
       "' írása '"
      ]
     },
     "execution_count": 70,
     "metadata": {},
     "output_type": "execute_result"
    }
   ],
   "source": [
    "f.read(7)"
   ]
  },
  {
   "cell_type": "code",
   "execution_count": 71,
   "id": "58918a22",
   "metadata": {},
   "outputs": [
    {
     "data": {
      "text/plain": [
       "16"
      ]
     },
     "execution_count": 71,
     "metadata": {},
     "output_type": "execute_result"
    }
   ],
   "source": [
    "f.tell()"
   ]
  },
  {
   "cell_type": "code",
   "execution_count": 72,
   "id": "8a43825f",
   "metadata": {},
   "outputs": [
    {
     "data": {
      "text/plain": [
       "'fileba\\nMég egy sor'"
      ]
     },
     "execution_count": 72,
     "metadata": {},
     "output_type": "execute_result"
    }
   ],
   "source": [
    "f.read()"
   ]
  },
  {
   "cell_type": "code",
   "execution_count": 73,
   "id": "f837731d",
   "metadata": {},
   "outputs": [
    {
     "data": {
      "text/plain": [
       "36"
      ]
     },
     "execution_count": 73,
     "metadata": {},
     "output_type": "execute_result"
    }
   ],
   "source": [
    "f.tell()"
   ]
  },
  {
   "cell_type": "code",
   "execution_count": 74,
   "id": "e1f1ee2c",
   "metadata": {},
   "outputs": [
    {
     "data": {
      "text/plain": [
       "0"
      ]
     },
     "execution_count": 74,
     "metadata": {},
     "output_type": "execute_result"
    }
   ],
   "source": [
    "f.seek(0)"
   ]
  },
  {
   "cell_type": "code",
   "execution_count": 75,
   "id": "79f007f6",
   "metadata": {},
   "outputs": [
    {
     "data": {
      "text/plain": [
       "'Szöveg írása '"
      ]
     },
     "execution_count": 75,
     "metadata": {},
     "output_type": "execute_result"
    }
   ],
   "source": [
    "f.read(13)"
   ]
  },
  {
   "cell_type": "code",
   "execution_count": 76,
   "id": "112524ff",
   "metadata": {},
   "outputs": [
    {
     "data": {
      "text/plain": [
       "0"
      ]
     },
     "execution_count": 76,
     "metadata": {},
     "output_type": "execute_result"
    }
   ],
   "source": [
    "f.seek(0)"
   ]
  },
  {
   "cell_type": "code",
   "execution_count": 77,
   "id": "fd3b204e",
   "metadata": {},
   "outputs": [
    {
     "data": {
      "text/plain": [
       "'Szöveg írása fileba\\n'"
      ]
     },
     "execution_count": 77,
     "metadata": {},
     "output_type": "execute_result"
    }
   ],
   "source": [
    "f.readline()"
   ]
  },
  {
   "cell_type": "code",
   "execution_count": 78,
   "id": "590ed824",
   "metadata": {},
   "outputs": [
    {
     "data": {
      "text/plain": [
       "'Még egy sor'"
      ]
     },
     "execution_count": 78,
     "metadata": {},
     "output_type": "execute_result"
    }
   ],
   "source": [
    "f.readline()"
   ]
  },
  {
   "cell_type": "code",
   "execution_count": 79,
   "id": "1a02ffd8",
   "metadata": {},
   "outputs": [
    {
     "data": {
      "text/plain": [
       "0"
      ]
     },
     "execution_count": 79,
     "metadata": {},
     "output_type": "execute_result"
    }
   ],
   "source": [
    "f.seek(0)"
   ]
  },
  {
   "cell_type": "code",
   "execution_count": 80,
   "id": "d82fbb55",
   "metadata": {},
   "outputs": [
    {
     "data": {
      "text/plain": [
       "['Szöveg írása fileba\\n', 'Még egy sor']"
      ]
     },
     "execution_count": 80,
     "metadata": {},
     "output_type": "execute_result"
    }
   ],
   "source": [
    "f.readlines()"
   ]
  },
  {
   "cell_type": "markdown",
   "id": "e2df95b0",
   "metadata": {},
   "source": [
    "## 6.3 Hibakezelés"
   ]
  },
  {
   "cell_type": "code",
   "execution_count": 81,
   "id": "fdecc080",
   "metadata": {},
   "outputs": [
    {
     "ename": "ZeroDivisionError",
     "evalue": "division by zero",
     "output_type": "error",
     "traceback": [
      "\u001b[1;31m---------------------------------------------------------------------------\u001b[0m",
      "\u001b[1;31mZeroDivisionError\u001b[0m                         Traceback (most recent call last)",
      "\u001b[1;32m~\\AppData\\Local\\Temp/ipykernel_14972/530406163.py\u001b[0m in \u001b[0;36m<module>\u001b[1;34m\u001b[0m\n\u001b[1;32m----> 1\u001b[1;33m \u001b[1;36m10\u001b[0m\u001b[1;33m/\u001b[0m\u001b[1;36m0\u001b[0m\u001b[1;33m\u001b[0m\u001b[1;33m\u001b[0m\u001b[0m\n\u001b[0m",
      "\u001b[1;31mZeroDivisionError\u001b[0m: division by zero"
     ]
    }
   ],
   "source": [
    "10/0"
   ]
  },
  {
   "cell_type": "code",
   "execution_count": 82,
   "id": "f704c0ab",
   "metadata": {},
   "outputs": [
    {
     "name": "stdout",
     "output_type": "stream",
     "text": [
      "Véletlenül 0-val osztottunk\n"
     ]
    }
   ],
   "source": [
    "try:\n",
    "    print(10/0)\n",
    "except ZeroDivisionError:\n",
    "    print(\"Véletlenül 0-val osztottunk\")"
   ]
  },
  {
   "cell_type": "code",
   "execution_count": 83,
   "id": "6623434f",
   "metadata": {},
   "outputs": [
    {
     "ename": "NameError",
     "evalue": "Hello",
     "output_type": "error",
     "traceback": [
      "\u001b[1;31m---------------------------------------------------------------------------\u001b[0m",
      "\u001b[1;31mNameError\u001b[0m                                 Traceback (most recent call last)",
      "\u001b[1;32m~\\AppData\\Local\\Temp/ipykernel_14972/2327143687.py\u001b[0m in \u001b[0;36m<module>\u001b[1;34m\u001b[0m\n\u001b[1;32m----> 1\u001b[1;33m \u001b[1;32mraise\u001b[0m \u001b[0mNameError\u001b[0m\u001b[1;33m(\u001b[0m\u001b[1;34m'Hello'\u001b[0m\u001b[1;33m)\u001b[0m\u001b[1;33m\u001b[0m\u001b[1;33m\u001b[0m\u001b[0m\n\u001b[0m",
      "\u001b[1;31mNameError\u001b[0m: Hello"
     ]
    }
   ],
   "source": [
    "raise NameError('Hello')"
   ]
  },
  {
   "cell_type": "code",
   "execution_count": 93,
   "id": "c5fc3f92",
   "metadata": {},
   "outputs": [],
   "source": [
    "def divide(x, y):\n",
    "    try:\n",
    "        result = x / y\n",
    "    except ZeroDivisionError:\n",
    "        print(\"Nullával nem lehet osztani!\")\n",
    "    else:\n",
    "        print(\"Az eredmény: \", result)\n",
    "    finally:\n",
    "        print(\"Finally\")"
   ]
  },
  {
   "cell_type": "code",
   "execution_count": 87,
   "id": "eadcb645",
   "metadata": {},
   "outputs": [
    {
     "name": "stdout",
     "output_type": "stream",
     "text": [
      "Az eredmény:  2.0\n",
      "Finally\n"
     ]
    }
   ],
   "source": [
    "divide(2, 1)"
   ]
  },
  {
   "cell_type": "code",
   "execution_count": 88,
   "id": "3d18b59c",
   "metadata": {},
   "outputs": [
    {
     "name": "stdout",
     "output_type": "stream",
     "text": [
      "Nullával nem lehet osztani!\n",
      "Finally\n"
     ]
    }
   ],
   "source": [
    "divide(2, 0)"
   ]
  },
  {
   "cell_type": "code",
   "execution_count": 94,
   "id": "a54e8da7",
   "metadata": {},
   "outputs": [
    {
     "name": "stdout",
     "output_type": "stream",
     "text": [
      "Finally\n"
     ]
    },
    {
     "ename": "TypeError",
     "evalue": "unsupported operand type(s) for /: 'str' and 'str'",
     "output_type": "error",
     "traceback": [
      "\u001b[1;31m---------------------------------------------------------------------------\u001b[0m",
      "\u001b[1;31mTypeError\u001b[0m                                 Traceback (most recent call last)",
      "\u001b[1;32m~\\AppData\\Local\\Temp/ipykernel_14972/1759864827.py\u001b[0m in \u001b[0;36m<module>\u001b[1;34m\u001b[0m\n\u001b[1;32m----> 1\u001b[1;33m \u001b[0mdivide\u001b[0m\u001b[1;33m(\u001b[0m\u001b[1;34m\"2\"\u001b[0m\u001b[1;33m,\u001b[0m \u001b[1;34m\"1\"\u001b[0m\u001b[1;33m)\u001b[0m\u001b[1;33m\u001b[0m\u001b[1;33m\u001b[0m\u001b[0m\n\u001b[0m",
      "\u001b[1;32m~\\AppData\\Local\\Temp/ipykernel_14972/2650830245.py\u001b[0m in \u001b[0;36mdivide\u001b[1;34m(x, y)\u001b[0m\n\u001b[0;32m      1\u001b[0m \u001b[1;32mdef\u001b[0m \u001b[0mdivide\u001b[0m\u001b[1;33m(\u001b[0m\u001b[0mx\u001b[0m\u001b[1;33m,\u001b[0m \u001b[0my\u001b[0m\u001b[1;33m)\u001b[0m\u001b[1;33m:\u001b[0m\u001b[1;33m\u001b[0m\u001b[1;33m\u001b[0m\u001b[0m\n\u001b[0;32m      2\u001b[0m     \u001b[1;32mtry\u001b[0m\u001b[1;33m:\u001b[0m\u001b[1;33m\u001b[0m\u001b[1;33m\u001b[0m\u001b[0m\n\u001b[1;32m----> 3\u001b[1;33m         \u001b[0mresult\u001b[0m \u001b[1;33m=\u001b[0m \u001b[0mx\u001b[0m \u001b[1;33m/\u001b[0m \u001b[0my\u001b[0m\u001b[1;33m\u001b[0m\u001b[1;33m\u001b[0m\u001b[0m\n\u001b[0m\u001b[0;32m      4\u001b[0m     \u001b[1;32mexcept\u001b[0m \u001b[0mZeroDivisionError\u001b[0m\u001b[1;33m:\u001b[0m\u001b[1;33m\u001b[0m\u001b[1;33m\u001b[0m\u001b[0m\n\u001b[0;32m      5\u001b[0m         \u001b[0mprint\u001b[0m\u001b[1;33m(\u001b[0m\u001b[1;34m\"Nullával nem lehet osztani!\"\u001b[0m\u001b[1;33m)\u001b[0m\u001b[1;33m\u001b[0m\u001b[1;33m\u001b[0m\u001b[0m\n",
      "\u001b[1;31mTypeError\u001b[0m: unsupported operand type(s) for /: 'str' and 'str'"
     ]
    }
   ],
   "source": [
    "divide(\"2\", \"1\")"
   ]
  },
  {
   "cell_type": "markdown",
   "id": "27583a3b",
   "metadata": {},
   "source": [
    "> **1. feladat**: Egészítsd ki a divide függvényt, hogy helytelen típusú input esetén is dobjon kivételt!"
   ]
  },
  {
   "cell_type": "code",
   "execution_count": 96,
   "id": "4870a2b6",
   "metadata": {},
   "outputs": [],
   "source": [
    "def divide(x, y):\n",
    "    try:\n",
    "        result = x / y\n",
    "    except TypeError:\n",
    "        print(\"Az input paraméterek típusa vagy float vagy integer kell legyen.\")\n",
    "    except ZeroDivisionError:\n",
    "        print(\"Nullával nem lehet osztani!\")\n",
    "    else:\n",
    "        print(\"Az eredmény: \", result)\n",
    "    finally:\n",
    "        print(\"Finally\")"
   ]
  },
  {
   "cell_type": "code",
   "execution_count": null,
   "id": "f36b900a",
   "metadata": {},
   "outputs": [],
   "source": []
  }
 ],
 "metadata": {
  "kernelspec": {
   "display_name": "Python 3 (ipykernel)",
   "language": "python",
   "name": "python3"
  },
  "language_info": {
   "codemirror_mode": {
    "name": "ipython",
    "version": 3
   },
   "file_extension": ".py",
   "mimetype": "text/x-python",
   "name": "python",
   "nbconvert_exporter": "python",
   "pygments_lexer": "ipython3",
   "version": "3.9.6"
  }
 },
 "nbformat": 4,
 "nbformat_minor": 5
}
