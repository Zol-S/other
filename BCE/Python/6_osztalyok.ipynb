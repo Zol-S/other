{
 "cells": [
  {
   "cell_type": "markdown",
   "id": "46017ef9",
   "metadata": {},
   "source": [
    "# 6. Osztályok, filekezelés\n",
    "_2021.10.14_\n",
    "\n",
    "Tartalom:\n",
    "- Osztályok\n",
    "- Package/module készítése\n",
    "- Fájlkezelés (alapértelmezett)\n",
    "- Hibakezelés\n",
    "- Datetime"
   ]
  },
  {
   "cell_type": "code",
   "execution_count": 1,
   "id": "fe0127d6",
   "metadata": {},
   "outputs": [
    {
     "data": {
      "text/html": [
       "<style>.container { width:100% !important; }</style>"
      ],
      "text/plain": [
       "<IPython.core.display.HTML object>"
      ]
     },
     "metadata": {},
     "output_type": "display_data"
    }
   ],
   "source": [
    "from IPython.core.display import display, HTML\n",
    "display(HTML(\"<style>.container { width:100% !important; }</style>\"))"
   ]
  },
  {
   "cell_type": "markdown",
   "id": "4c12e367",
   "metadata": {},
   "source": [
    "## 6.1 Osztályok, öröklődés\n",
    "Nagyobb alkalmazások fejlesztése során célszerű az egybe tartozó részeket osztályokba szervezni.\n",
    "### 6.1.1 Scope, namespaces\n",
    "A programunk logikailag egymáshoz tartozó részét egy __namespace__ (névtér alá) célszerű elhelyezni. A __scope__ (magyarul láthatóság) a változók és függvények láthatóságára utal. A függvényen vagy osztályon kívül definiált változóknak és függvényeknek globális a láthatóságuk. A __global__ kulcsszóval tudjuk elérni a globális változókat függvényen belülről. A __nonlocal__ kulcsszóval el tudjuk értni a nem globális és nem lokális változókat."
   ]
  },
  {
   "cell_type": "code",
   "execution_count": 2,
   "id": "b8c40d00",
   "metadata": {},
   "outputs": [
    {
     "name": "stdout",
     "output_type": "stream",
     "text": [
      "After local assignment: test spam\n",
      "After nonlocal assignment: nonlocal spam\n",
      "After global assignment: nonlocal spam\n",
      "In global scope: global spam\n"
     ]
    }
   ],
   "source": [
    "def scope_test():\n",
    "    def do_local():\n",
    "        spam = \"local spam\"\n",
    "\n",
    "    def do_nonlocal():\n",
    "        nonlocal spam\n",
    "        spam = \"nonlocal spam\"\n",
    "\n",
    "    def do_global():\n",
    "        global spam\n",
    "        spam = \"global spam\"\n",
    "\n",
    "    spam = \"test spam\"\n",
    "    do_local()\n",
    "    print(\"After local assignment:\", spam)\n",
    "    do_nonlocal()\n",
    "    print(\"After nonlocal assignment:\", spam)\n",
    "    do_global()\n",
    "    print(\"After global assignment:\", spam)\n",
    "\n",
    "scope_test()\n",
    "print(\"In global scope:\", spam)"
   ]
  },
  {
   "cell_type": "markdown",
   "id": "2f09554a",
   "metadata": {},
   "source": [
    "### 6.1.2 Classes\n",
    "Az osztályok fogják össze a funkcionálisan egybe tartozó változókat és függvényeket. Általánosságban az osztályok példányosíthatók és más osztályok származtathatók belőlük. Az osztályhoz tartozó függvények első paramétere _self_ kell legyen, ugyanis ezen keresztül érhető el a példányosított osztály változói és függvényei."
   ]
  },
  {
   "cell_type": "code",
   "execution_count": 3,
   "id": "33be8fea",
   "metadata": {},
   "outputs": [],
   "source": [
    "class MyClass:\n",
    "    my_var = 12345\n",
    "\n",
    "    def my_func(self):\n",
    "        return 'test'"
   ]
  },
  {
   "cell_type": "code",
   "execution_count": 10,
   "id": "23219fa3",
   "metadata": {},
   "outputs": [
    {
     "name": "stdout",
     "output_type": "stream",
     "text": [
      "__init__ function called\n"
     ]
    }
   ],
   "source": [
    "# a MyClass osztály példányosítása\n",
    "# az x változó a MyClass egy példányára mutat\n",
    "x = MyClass()"
   ]
  },
  {
   "cell_type": "code",
   "execution_count": 5,
   "id": "416d3e4c",
   "metadata": {},
   "outputs": [
    {
     "data": {
      "text/plain": [
       "12345"
      ]
     },
     "execution_count": 5,
     "metadata": {},
     "output_type": "execute_result"
    }
   ],
   "source": [
    "# osztályváltozó elérése\n",
    "x.my_var"
   ]
  },
  {
   "cell_type": "code",
   "execution_count": 6,
   "id": "855a91db",
   "metadata": {},
   "outputs": [
    {
     "data": {
      "text/plain": [
       "'test'"
      ]
     },
     "execution_count": 6,
     "metadata": {},
     "output_type": "execute_result"
    }
   ],
   "source": [
    "x.my_func()"
   ]
  },
  {
   "cell_type": "markdown",
   "id": "f9916488",
   "metadata": {},
   "source": [
    "### 6.1.3 Instatiation\n",
    "A példányosítás során az osztályról készítünk egy másolatot, amelyet eltérő adatokkal tölthetünk fel."
   ]
  },
  {
   "cell_type": "code",
   "execution_count": 7,
   "id": "9d148380",
   "metadata": {},
   "outputs": [],
   "source": [
    "class MyClass:\n",
    "    my_var = 12345\n",
    "    def __init__(self):\n",
    "        print('__init__ function called')\n",
    "        self.my_var = 54321\n",
    "\n",
    "    def my_func(self):\n",
    "        return 'test'"
   ]
  },
  {
   "cell_type": "code",
   "execution_count": 8,
   "id": "bee6e086",
   "metadata": {},
   "outputs": [
    {
     "name": "stdout",
     "output_type": "stream",
     "text": [
      "__init__ function called\n"
     ]
    }
   ],
   "source": [
    "x = MyClass()"
   ]
  },
  {
   "cell_type": "code",
   "execution_count": 9,
   "id": "f32d0be2",
   "metadata": {},
   "outputs": [
    {
     "data": {
      "text/plain": [
       "54321"
      ]
     },
     "execution_count": 9,
     "metadata": {},
     "output_type": "execute_result"
    }
   ],
   "source": [
    "x.my_var"
   ]
  },
  {
   "cell_type": "markdown",
   "id": "b6521168",
   "metadata": {},
   "source": [
    "### 6.1.4 Class & instance variables"
   ]
  },
  {
   "cell_type": "code",
   "execution_count": null,
   "id": "0d1f8ba0",
   "metadata": {},
   "outputs": [],
   "source": [
    "class Kutya:\n",
    "    fajta = 'kutya' # osztályváltozó\n",
    "\n",
    "    def __init__(self, nev):\n",
    "        self.nev = nev    # példányváltozó"
   ]
  },
  {
   "cell_type": "code",
   "execution_count": null,
   "id": "ddaf91d9",
   "metadata": {},
   "outputs": [],
   "source": [
    "d = Kutya('Buksi')\n",
    "e = Kutya('Blöki')"
   ]
  },
  {
   "cell_type": "code",
   "execution_count": null,
   "id": "7007a1b1",
   "metadata": {},
   "outputs": [],
   "source": [
    "d.fajta, d.nev"
   ]
  },
  {
   "cell_type": "code",
   "execution_count": null,
   "id": "20216a0e",
   "metadata": {},
   "outputs": [],
   "source": [
    "e.fajta, e.nev"
   ]
  },
  {
   "cell_type": "markdown",
   "id": "1ddbb012",
   "metadata": {},
   "source": [
    "> **1. feladat**: Egészítsd ki a Kutya osztályt egy tanul_trukk függvénnyel, amely a paraméterként átadott trükköt hozzáadja az adott kutya megtanult trükkjei közé!"
   ]
  },
  {
   "cell_type": "markdown",
   "id": "a9961344",
   "metadata": {},
   "source": [
    "Rossz megoldás"
   ]
  },
  {
   "cell_type": "code",
   "execution_count": null,
   "id": "35c6b4e7",
   "metadata": {},
   "outputs": [],
   "source": [
    "class Kutya:\n",
    "    fajta = 'kutya' # osztályváltozó\n",
    "    trukkok = []\n",
    "\n",
    "    def __init__(self, nev):\n",
    "        self.nev = nev    # példányváltozó\n",
    "\n",
    "    def tanul_trukk(self, trukk):\n",
    "        self.trukkok.append(trukk)"
   ]
  },
  {
   "cell_type": "code",
   "execution_count": null,
   "id": "7c4fd567",
   "metadata": {},
   "outputs": [],
   "source": [
    "d = Kutya('Fido')\n",
    "e = Kutya('Mancika')\n",
    "d.tanul_trukk('ül')\n",
    "d.tanul_trukk('forog')"
   ]
  },
  {
   "cell_type": "code",
   "execution_count": null,
   "id": "ba8f3cb3",
   "metadata": {},
   "outputs": [],
   "source": [
    "d.trukkok"
   ]
  },
  {
   "cell_type": "code",
   "execution_count": null,
   "id": "02e6427a",
   "metadata": {},
   "outputs": [],
   "source": [
    "e.trukkok"
   ]
  },
  {
   "cell_type": "markdown",
   "id": "da0e9769",
   "metadata": {},
   "source": [
    "Jó megoldás"
   ]
  },
  {
   "cell_type": "code",
   "execution_count": null,
   "id": "20f06442",
   "metadata": {},
   "outputs": [],
   "source": [
    "class Kutya:\n",
    "    fajta = 'kutya' # osztályváltozó\n",
    "\n",
    "    def __init__(self, nev):\n",
    "        self.nev = nev    # példányváltozó\n",
    "        self.trukkok = []\n",
    "\n",
    "    def tanul_trukk(self, trukk):\n",
    "        self.trukkok.append(trukk)"
   ]
  },
  {
   "cell_type": "code",
   "execution_count": null,
   "id": "38b00b91",
   "metadata": {},
   "outputs": [],
   "source": [
    "d = Kutya('Fido')\n",
    "e = Kutya('Mancika')\n",
    "d.tanul_trukk('ül')\n",
    "d.tanul_trukk('forog')"
   ]
  },
  {
   "cell_type": "code",
   "execution_count": null,
   "id": "4bcd47c3",
   "metadata": {},
   "outputs": [],
   "source": [
    "d.trukkok"
   ]
  },
  {
   "cell_type": "code",
   "execution_count": null,
   "id": "07d2993f",
   "metadata": {},
   "outputs": [],
   "source": [
    "e.trukkok"
   ]
  },
  {
   "cell_type": "markdown",
   "id": "d696dff7",
   "metadata": {},
   "source": [
    "### 6.1.5 Inheritance"
   ]
  },
  {
   "cell_type": "code",
   "execution_count": null,
   "id": "d32314a8",
   "metadata": {},
   "outputs": [],
   "source": [
    "class Jarmu:\n",
    "    def __init__(self, szin):\n",
    "        self.szin = szin\n",
    "    \n",
    "    def megjelenit(self):\n",
    "        print('A jármű színe: {:}'.format(self.szin))"
   ]
  },
  {
   "cell_type": "code",
   "execution_count": null,
   "id": "78e91a24",
   "metadata": {},
   "outputs": [],
   "source": [
    "j = Jarmu('piros')\n",
    "j.megjelenit()"
   ]
  },
  {
   "cell_type": "code",
   "execution_count": null,
   "id": "3c3d6e20",
   "metadata": {},
   "outputs": [],
   "source": [
    "class Auto(Jarmu):\n",
    "    def __init__(self, szin, kerekek_szama):\n",
    "        Jarmu.__init__(self, szin)\n",
    "        #super().__init__(szin)\n",
    "        \n",
    "        self.kerekek_szama = kerekek_szama\n",
    "\n",
    "    def megjelenit(self):\n",
    "        print('A jármű színe: {:}\\nKerekeinek száma: {:}'.format(self.szin, self.kerekek_szama))\n",
    "\n",
    "class Repulo(Jarmu):\n",
    "    pass"
   ]
  },
  {
   "cell_type": "code",
   "execution_count": null,
   "id": "66f6af9c",
   "metadata": {},
   "outputs": [],
   "source": [
    "a = Auto('kek', 4)"
   ]
  },
  {
   "cell_type": "code",
   "execution_count": null,
   "id": "a2d9925f",
   "metadata": {},
   "outputs": [],
   "source": [
    "a.megjelenit()"
   ]
  },
  {
   "cell_type": "markdown",
   "id": "b35fe1c6",
   "metadata": {},
   "source": [
    "> **2. feladat**: Fejezd be a Repulo osztályt, paraméterként adj hozzá egy Boolean típusú változót, amely azt tárolja, hogy a repülőgép futóműve behúzható-e!"
   ]
  },
  {
   "cell_type": "code",
   "execution_count": null,
   "id": "1ca24783",
   "metadata": {},
   "outputs": [],
   "source": [
    "class Repulo(Jarmu):\n",
    "    def __init__(self, szin, behuzhato):\n",
    "        super().__init__(szin)\n",
    "        \n",
    "        self.behuzhato = behuzhato\n",
    "\n",
    "    def megjelenit(self):\n",
    "        print('A jármű színe: {:}\\nFutómű behúzható: {:}'.format(self.szin, self.behuzhato))"
   ]
  },
  {
   "cell_type": "code",
   "execution_count": null,
   "id": "30b95e4e",
   "metadata": {},
   "outputs": [],
   "source": [
    "r = Repulo('zöld', False)\n",
    "r.megjelenit()"
   ]
  },
  {
   "cell_type": "markdown",
   "id": "ddf34af9",
   "metadata": {},
   "source": [
    "## 6.2 Filekezelés\n",
    "Olvassuk be a 6.2_airtravel.csv file tartalmát, amely a havi transzatlanti polgári repülések számát tartalmazza. Az egyes számok ezer utast jelentenek. A file-ok megnyitására az **open(filenév, mód)** parancs használható, ahol a\n",
    "- _filenév_: a megnyitni kívánt file neve\n",
    "- _mód_:\n",
    "    - r: reading, megnyitás olvasásra (alapértelmezett)\n",
    "    - w: writing: megnyitás írásra\n",
    "    - a: append: megnyitás hozzáfűzésre\n",
    "    - r+: megnyitás olvasásra és írásra"
   ]
  },
  {
   "cell_type": "code",
   "execution_count": null,
   "id": "62bb3bcb",
   "metadata": {},
   "outputs": [],
   "source": [
    "file = open('6.2_airtravel.csv', 'r')"
   ]
  },
  {
   "cell_type": "code",
   "execution_count": null,
   "id": "c8c97942",
   "metadata": {},
   "outputs": [],
   "source": [
    "print (file.read())"
   ]
  },
  {
   "cell_type": "code",
   "execution_count": null,
   "id": "ff998216",
   "metadata": {},
   "outputs": [],
   "source": [
    "for each in file:\n",
    "    print (each)"
   ]
  },
  {
   "cell_type": "code",
   "execution_count": null,
   "id": "b6506ab1",
   "metadata": {},
   "outputs": [],
   "source": [
    "file = open('test.txt', 'w', encoding='utf-8')\n",
    "file.write(\"Szöveg írása fileba\")\n",
    "file.close()"
   ]
  },
  {
   "cell_type": "code",
   "execution_count": null,
   "id": "98e8f5ce",
   "metadata": {},
   "outputs": [],
   "source": [
    "file = open('test.txt', 'a', encoding='utf-8')\n",
    "file.write(\"\\nMég egy sor\")\n",
    "file.close()"
   ]
  },
  {
   "cell_type": "markdown",
   "id": "c9a99b4e",
   "metadata": {},
   "source": [
    "A with parancs használatával nem szükséges lezárni a file-t, mivel az automatikusan lezáródik."
   ]
  },
  {
   "cell_type": "code",
   "execution_count": null,
   "id": "c8524c0e",
   "metadata": {},
   "outputs": [],
   "source": [
    "with open(\"test.txt\", encoding = 'utf-8') as file:  \n",
    "    data = file.read()"
   ]
  },
  {
   "cell_type": "code",
   "execution_count": null,
   "id": "4570841e",
   "metadata": {},
   "outputs": [],
   "source": [
    "data"
   ]
  },
  {
   "cell_type": "code",
   "execution_count": null,
   "id": "46b6d6c0",
   "metadata": {},
   "outputs": [],
   "source": [
    "f = open(\"test.txt\", encoding = 'utf-8')"
   ]
  },
  {
   "cell_type": "code",
   "execution_count": null,
   "id": "fa0a90b5",
   "metadata": {},
   "outputs": [],
   "source": [
    "f.read(6)"
   ]
  },
  {
   "cell_type": "code",
   "execution_count": null,
   "id": "37ead3c7",
   "metadata": {},
   "outputs": [],
   "source": [
    "f.read(7)"
   ]
  },
  {
   "cell_type": "code",
   "execution_count": null,
   "id": "58918a22",
   "metadata": {},
   "outputs": [],
   "source": [
    "f.tell()"
   ]
  },
  {
   "cell_type": "code",
   "execution_count": null,
   "id": "8a43825f",
   "metadata": {},
   "outputs": [],
   "source": [
    "f.read()"
   ]
  },
  {
   "cell_type": "code",
   "execution_count": null,
   "id": "f837731d",
   "metadata": {},
   "outputs": [],
   "source": [
    "f.tell()"
   ]
  },
  {
   "cell_type": "code",
   "execution_count": null,
   "id": "e1f1ee2c",
   "metadata": {},
   "outputs": [],
   "source": [
    "f.seek(0)"
   ]
  },
  {
   "cell_type": "code",
   "execution_count": null,
   "id": "79f007f6",
   "metadata": {},
   "outputs": [],
   "source": [
    "f.read(13)"
   ]
  },
  {
   "cell_type": "code",
   "execution_count": null,
   "id": "112524ff",
   "metadata": {},
   "outputs": [],
   "source": [
    "f.seek(0)"
   ]
  },
  {
   "cell_type": "code",
   "execution_count": null,
   "id": "fd3b204e",
   "metadata": {},
   "outputs": [],
   "source": [
    "f.readline()"
   ]
  },
  {
   "cell_type": "code",
   "execution_count": null,
   "id": "590ed824",
   "metadata": {},
   "outputs": [],
   "source": [
    "f.readline()"
   ]
  },
  {
   "cell_type": "code",
   "execution_count": null,
   "id": "1a02ffd8",
   "metadata": {},
   "outputs": [],
   "source": [
    "f.seek(0)"
   ]
  },
  {
   "cell_type": "code",
   "execution_count": null,
   "id": "d82fbb55",
   "metadata": {},
   "outputs": [],
   "source": [
    "f.readlines()"
   ]
  },
  {
   "cell_type": "markdown",
   "id": "e2df95b0",
   "metadata": {},
   "source": [
    "## 6.3 Hibakezelés"
   ]
  },
  {
   "cell_type": "code",
   "execution_count": null,
   "id": "fdecc080",
   "metadata": {},
   "outputs": [],
   "source": [
    "10/0"
   ]
  },
  {
   "cell_type": "code",
   "execution_count": null,
   "id": "f704c0ab",
   "metadata": {},
   "outputs": [],
   "source": [
    "try:\n",
    "    print(10/0)\n",
    "except ZeroDivisionError:\n",
    "    print(\"Véletlenül 0-val osztottunk\")"
   ]
  },
  {
   "cell_type": "code",
   "execution_count": null,
   "id": "6623434f",
   "metadata": {},
   "outputs": [],
   "source": [
    "raise NameError('Hello')"
   ]
  },
  {
   "cell_type": "code",
   "execution_count": null,
   "id": "c5fc3f92",
   "metadata": {},
   "outputs": [],
   "source": [
    "def divide(x, y):\n",
    "    try:\n",
    "        result = x / y\n",
    "    except ZeroDivisionError:\n",
    "        print(\"Nullával nem lehet osztani!\")\n",
    "    else:\n",
    "        print(\"Az eredmény: \", result)\n",
    "    finally:\n",
    "        print(\"Finally\")"
   ]
  },
  {
   "cell_type": "code",
   "execution_count": null,
   "id": "eadcb645",
   "metadata": {},
   "outputs": [],
   "source": [
    "divide(2, 1)"
   ]
  },
  {
   "cell_type": "code",
   "execution_count": null,
   "id": "3d18b59c",
   "metadata": {},
   "outputs": [],
   "source": [
    "divide(2, 0)"
   ]
  },
  {
   "cell_type": "code",
   "execution_count": null,
   "id": "a54e8da7",
   "metadata": {},
   "outputs": [],
   "source": [
    "divide(\"2\", \"1\")"
   ]
  },
  {
   "cell_type": "markdown",
   "id": "27583a3b",
   "metadata": {},
   "source": [
    "> **1. feladat**: Egészítsd ki a divide függvényt, hogy helytelen típusú input esetén is dobjon kivételt!"
   ]
  },
  {
   "cell_type": "code",
   "execution_count": null,
   "id": "4870a2b6",
   "metadata": {},
   "outputs": [],
   "source": [
    "def divide(x, y):\n",
    "    try:\n",
    "        result = x / y\n",
    "    except TypeError:\n",
    "        print(\"Az input paraméterek típusa vagy float vagy integer kell legyen.\")\n",
    "    except ZeroDivisionError:\n",
    "        print(\"Nullával nem lehet osztani!\")\n",
    "    else:\n",
    "        print(\"Az eredmény: \", result)\n",
    "    finally:\n",
    "        print(\"Finally\")"
   ]
  },
  {
   "cell_type": "markdown",
   "id": "d0a574c6",
   "metadata": {},
   "source": [
    "## 6.4 Dátumkezelés"
   ]
  },
  {
   "cell_type": "markdown",
   "id": "d4ebfd5d",
   "metadata": {},
   "source": [
    "### 6.4.1 Date"
   ]
  },
  {
   "cell_type": "code",
   "execution_count": null,
   "id": "5237ae97",
   "metadata": {},
   "outputs": [],
   "source": [
    "from datetime import date"
   ]
  },
  {
   "cell_type": "code",
   "execution_count": null,
   "id": "0324c49c",
   "metadata": {},
   "outputs": [],
   "source": [
    "datetime.date.today()"
   ]
  },
  {
   "cell_type": "code",
   "execution_count": null,
   "id": "600761da",
   "metadata": {},
   "outputs": [],
   "source": [
    "a = date(2019, 4, 13)\n",
    "print(a)"
   ]
  },
  {
   "cell_type": "markdown",
   "id": "064123aa",
   "metadata": {},
   "source": [
    "### 6.4.2 Time"
   ]
  },
  {
   "cell_type": "code",
   "execution_count": null,
   "id": "183b6f25",
   "metadata": {},
   "outputs": [],
   "source": [
    "from datetime import time"
   ]
  },
  {
   "cell_type": "code",
   "execution_count": null,
   "id": "72b3807d",
   "metadata": {},
   "outputs": [],
   "source": [
    "a = datetime.datetime.now().time()\n",
    "print(a)"
   ]
  },
  {
   "cell_type": "code",
   "execution_count": null,
   "id": "a9ceb99e",
   "metadata": {},
   "outputs": [],
   "source": [
    "a.hour, a.minute, a.second, a.microsecond"
   ]
  },
  {
   "cell_type": "markdown",
   "id": "d5c584d9",
   "metadata": {},
   "source": [
    "### 6.4.3 Datetime"
   ]
  },
  {
   "cell_type": "code",
   "execution_count": null,
   "id": "6a8826c2",
   "metadata": {},
   "outputs": [],
   "source": [
    "import datetime\n",
    "\n",
    "x = datetime.datetime.now()"
   ]
  },
  {
   "cell_type": "code",
   "execution_count": null,
   "id": "d02fc2c7",
   "metadata": {},
   "outputs": [],
   "source": [
    "x"
   ]
  },
  {
   "cell_type": "code",
   "execution_count": null,
   "id": "300798c8",
   "metadata": {},
   "outputs": [],
   "source": [
    "x.year"
   ]
  },
  {
   "cell_type": "code",
   "execution_count": null,
   "id": "1afe2822",
   "metadata": {},
   "outputs": [],
   "source": [
    "x.strftime(\"%A\")"
   ]
  },
  {
   "cell_type": "code",
   "execution_count": null,
   "id": "28e85e00",
   "metadata": {},
   "outputs": [],
   "source": [
    "x.strftime(\"%Y-%m-%d %H:%M:%S\")"
   ]
  },
  {
   "cell_type": "markdown",
   "id": "2670e46a",
   "metadata": {},
   "source": [
    "### 6.4.4 Timestamp\n",
    "[epochconverter.com](epochconverter)"
   ]
  },
  {
   "cell_type": "code",
   "execution_count": null,
   "id": "566bab0d",
   "metadata": {},
   "outputs": [],
   "source": [
    "timestamp = 1634142950\n",
    "datetime.datetime.fromtimestamp(timestamp)"
   ]
  },
  {
   "cell_type": "markdown",
   "id": "539afa59",
   "metadata": {},
   "source": [
    "### 6.4.5 Timedelta"
   ]
  },
  {
   "cell_type": "code",
   "execution_count": null,
   "id": "2469c48f",
   "metadata": {},
   "outputs": [],
   "source": [
    "from datetime import datetime, date, timedelta"
   ]
  },
  {
   "cell_type": "code",
   "execution_count": null,
   "id": "65b18097",
   "metadata": {},
   "outputs": [],
   "source": [
    "t1 = date(year = 2021, month = 7, day = 12)\n",
    "t2 = date(year = 2020, month = 12, day = 23)\n",
    "t3 = t1 - t2"
   ]
  },
  {
   "cell_type": "code",
   "execution_count": null,
   "id": "42d349e0",
   "metadata": {},
   "outputs": [],
   "source": [
    "t3, t3.days"
   ]
  },
  {
   "cell_type": "code",
   "execution_count": null,
   "id": "5feb3053",
   "metadata": {},
   "outputs": [],
   "source": [
    "t1 = datetime.now()\n",
    "t2 = timedelta(days = 14)\n",
    "t3 = t1 - t2"
   ]
  },
  {
   "cell_type": "code",
   "execution_count": null,
   "id": "07bea6ee",
   "metadata": {},
   "outputs": [],
   "source": [
    "t3"
   ]
  },
  {
   "cell_type": "code",
   "execution_count": null,
   "id": "613a6a20",
   "metadata": {},
   "outputs": [],
   "source": [
    "t2.total_seconds()"
   ]
  },
  {
   "cell_type": "markdown",
   "id": "d24afe9e",
   "metadata": {},
   "source": [
    "## 6.5 Package\n",
    "[Python Modules and Packages – An Introduction](https://realpython.com/python-modules-packages/)"
   ]
  },
  {
   "cell_type": "markdown",
   "id": "8be438d1",
   "metadata": {},
   "source": [
    "Modular programming refers to the process of breaking a large, unwieldy programming task into separate, smaller, more manageable subtasks or modules. Individual modules can then be cobbled together like building blocks to create a larger application.\n",
    "\n",
    "There are several advantages to modularizing code in a large application:\n",
    "\n",
    "Simplicity: Rather than focusing on the entire problem at hand, a module typically focuses on one relatively small portion of the problem. If you’re working on a single module, you’ll have a smaller problem domain to wrap your head around. This makes development easier and less error-prone.\n",
    "\n",
    "Maintainability: Modules are typically designed so that they enforce logical boundaries between different problem domains. If modules are written in a way that minimizes interdependency, there is decreased likelihood that modifications to a single module will have an impact on other parts of the program. (You may even be able to make changes to a module without having any knowledge of the application outside that module.) This makes it more viable for a team of many programmers to work collaboratively on a large application.\n",
    "\n",
    "Reusability: Functionality defined in a single module can be easily reused (through an appropriately defined interface) by other parts of the application. This eliminates the need to duplicate code.\n",
    "\n",
    "Scoping: Modules typically define a separate namespace, which helps avoid collisions between identifiers in different areas of a program. (One of the tenets in the Zen of Python is Namespaces are one honking great idea—let’s do more of those!)"
   ]
  },
  {
   "cell_type": "markdown",
   "id": "cae5eb11",
   "metadata": {},
   "source": [
    "There are actually three different ways to define a module in Python:\n",
    "\n",
    "A module can be written in Python itself.\n",
    "A module can be written in C and loaded dynamically at run-time, like the re (regular expression) module.\n",
    "A built-in module is intrinsically contained in the interpreter, like the itertools module."
   ]
  },
  {
   "cell_type": "code",
   "execution_count": null,
   "id": "90311a40",
   "metadata": {},
   "outputs": [],
   "source": []
  }
 ],
 "metadata": {
  "kernelspec": {
   "display_name": "Python 3 (ipykernel)",
   "language": "python",
   "name": "python3"
  },
  "language_info": {
   "codemirror_mode": {
    "name": "ipython",
    "version": 3
   },
   "file_extension": ".py",
   "mimetype": "text/x-python",
   "name": "python",
   "nbconvert_exporter": "python",
   "pygments_lexer": "ipython3",
   "version": "3.9.6"
  }
 },
 "nbformat": 4,
 "nbformat_minor": 5
}
