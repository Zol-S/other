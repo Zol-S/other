{
 "cells": [
  {
   "cell_type": "markdown",
   "metadata": {},
   "source": [
    "# Első ZH \"A\"\n",
    "_2021.10.19_"
   ]
  },
  {
   "cell_type": "code",
   "execution_count": 1,
   "metadata": {},
   "outputs": [
    {
     "data": {
      "text/html": [
       "<style>.container { width:100% !important; }</style>"
      ],
      "text/plain": [
       "<IPython.core.display.HTML object>"
      ]
     },
     "metadata": {},
     "output_type": "display_data"
    }
   ],
   "source": [
    "from IPython.core.display import display, HTML\n",
    "display(HTML(\"<style>.container { width:100% !important; }</style>\"))"
   ]
  },
  {
   "cell_type": "code",
   "execution_count": 2,
   "metadata": {},
   "outputs": [],
   "source": [
    "def file_beolvasas(fname):\n",
    "    with open(fname) as f:\n",
    "        lista = f.readlines()\n",
    "    del lista[0]\n",
    "    return lista\n",
    "\n",
    "nyers_sorok = file_beolvasas(\"ZH1/HappinessAlcoholConsumption.csv\")"
   ]
  },
  {
   "cell_type": "code",
   "execution_count": 3,
   "metadata": {},
   "outputs": [
    {
     "data": {
      "text/plain": [
       "['Denmark,Western Europe,north,7.526,928,53.579,224,81,278\\n',\n",
       " 'Switzerland,Western Europe,north,7.509,943,79.866,185,100,280\\n',\n",
       " 'Iceland,Western Europe,north,7.501,933,60.530,233,61,78\\n',\n",
       " 'Norway,Western Europe,north,7.498,951,70.890,169,71,129\\n',\n",
       " 'Finland,Western Europe,north,7.413,918,43.433,263,133,97\\n']"
      ]
     },
     "execution_count": 3,
     "metadata": {},
     "output_type": "execute_result"
    }
   ],
   "source": [
    "nyers_sorok[:5]"
   ]
  },
  {
   "cell_type": "code",
   "execution_count": 4,
   "metadata": {},
   "outputs": [],
   "source": [
    "def sorok_feldolgozasa(src):\n",
    "    lista = []\n",
    "    for i in src:\n",
    "        sor = i.strip().split(\",\")\n",
    "        data = [sor[0], sor[1], float(sor[3]), int(sor[6]), int(sor[7]), int(sor[8])]\n",
    "        lista.append(data)\n",
    "    return lista\n",
    "\n",
    "feldolgozott_sorok = sorok_feldolgozasa(nyers_sorok)"
   ]
  },
  {
   "cell_type": "code",
   "execution_count": 6,
   "metadata": {},
   "outputs": [
    {
     "data": {
      "text/plain": [
       "[['Denmark', 'Western Europe', 7.526, 224, 81, 278],\n",
       " ['Switzerland', 'Western Europe', 7.509, 185, 100, 280],\n",
       " ['Iceland', 'Western Europe', 7.501, 233, 61, 78],\n",
       " ['Norway', 'Western Europe', 7.498, 169, 71, 129],\n",
       " ['Finland', 'Western Europe', 7.413, 263, 133, 97]]"
      ]
     },
     "execution_count": 6,
     "metadata": {},
     "output_type": "execute_result"
    }
   ],
   "source": [
    "feldolgozott_sorok[:5]"
   ]
  },
  {
   "cell_type": "code",
   "execution_count": 7,
   "metadata": {},
   "outputs": [
    {
     "name": "stdout",
     "output_type": "stream",
     "text": [
      "Adjon meg egy régiót: Western Europe\n",
      "[['Denmark', 'Western Europe', 7.526, 224, 81, 278], ['Switzerland', 'Western Europe', 7.509, 185, 100, 280], ['Iceland', 'Western Europe', 7.501, 233, 61, 78], ['Norway', 'Western Europe', 7.498, 169, 71, 129], ['Finland', 'Western Europe', 7.413, 263, 133, 97], ['Netherlands', 'Western Europe', 7.339, 251, 88, 190], ['Sweden', 'Western Europe', 7.291, 152, 60, 186], ['Austria', 'Western Europe', 7.119, 279, 75, 191], ['Germany', 'Western Europe', 6.994, 346, 117, 175], ['Belgium', 'Western Europe', 6.929, 295, 84, 212], ['Ireland', 'Western Europe', 6.907, 313, 118, 165], ['Luxembourg', 'Western Europe', 6.871, 236, 133, 271], ['United Kingdom', 'Western Europe', 6.725, 219, 126, 195], ['Malta', 'Western Europe', 6.488, 149, 100, 120], ['France', 'Western Europe', 6.478, 127, 151, 370], ['Spain', 'Western Europe', 6.361, 284, 157, 112], ['Italy', 'Western Europe', 5.977, 85, 42, 237], ['Cyprus', 'Western Europe', 5.546, 192, 154, 113], ['Portugal', 'Western Europe', 5.123, 194, 67, 339], ['Greece', 'Western Europe', 5.033, 133, 112, 218]]\n"
     ]
    }
   ],
   "source": [
    "def regio_szures(lista, r):\n",
    "    res = []\n",
    "    for i in lista:\n",
    "        datas = i[1].strip(\" \")\n",
    "        if r in datas:\n",
    "            res.append(i)\n",
    "    return res\n",
    "\n",
    "szurt_sorok = []\n",
    "while True:\n",
    "    regio = input(\"Adjon meg egy régiót: \")\n",
    "    szurt_sorok = regio_szures(feldolgozott_sorok, regio)\n",
    "    if len(szurt_sorok) > 0:\n",
    "        print(szurt_sorok)\n",
    "        break\n",
    "    else:\n",
    "        print(\"Hibás érték!\")"
   ]
  },
  {
   "cell_type": "code",
   "execution_count": 8,
   "metadata": {},
   "outputs": [],
   "source": [
    "szoveg = \"Ország;Boldogság pont;Alkoholfogyasztás\"\n",
    "suly = [4, 40, 8]\n",
    "\n",
    "for i in szurt_sorok:\n",
    "    sum = i[3]*suly[0] + i[4]*suly[1] + i[5]*suly[2]\n",
    "    szoveg += f\"\\n{i[0]};{i[2]};{sum}\"\n",
    "\n",
    "with open(\"alcohol.csv\", \"w\", encoding=\"utf-8\") as f:\n",
    "    f.writelines(szoveg)"
   ]
  },
  {
   "cell_type": "code",
   "execution_count": null,
   "metadata": {},
   "outputs": [],
   "source": []
  }
 ],
 "metadata": {
  "interpreter": {
   "hash": "57baa5815c940fdaff4d14510622de9616cae602444507ba5d0b6727c008cbd6"
  },
  "kernelspec": {
   "display_name": "Python 3 (ipykernel)",
   "language": "python",
   "name": "python3"
  },
  "language_info": {
   "codemirror_mode": {
    "name": "ipython",
    "version": 3
   },
   "file_extension": ".py",
   "mimetype": "text/x-python",
   "name": "python",
   "nbconvert_exporter": "python",
   "pygments_lexer": "ipython3",
   "version": "3.9.6"
  }
 },
 "nbformat": 4,
 "nbformat_minor": 2
}
