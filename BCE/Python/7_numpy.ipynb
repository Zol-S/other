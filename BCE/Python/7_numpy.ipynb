{
 "cells": [
  {
   "cell_type": "markdown",
   "id": "a9169810",
   "metadata": {},
   "source": [
    "# 7. Osztályok, filekezelés\n",
    "_2021.10.25_\n",
    "\n",
    "Tartalom:\n",
    "- math modul\n",
    "- Numpy\n",
    "- Sympy"
   ]
  },
  {
   "cell_type": "code",
   "execution_count": 1,
   "id": "d4b5cbe4",
   "metadata": {},
   "outputs": [
    {
     "data": {
      "text/html": [
       "<style>.container { width:100% !important; }</style>"
      ],
      "text/plain": [
       "<IPython.core.display.HTML object>"
      ]
     },
     "metadata": {},
     "output_type": "display_data"
    }
   ],
   "source": [
    "from IPython.core.display import display, HTML\n",
    "display(HTML(\"<style>.container { width:100% !important; }</style>\"))"
   ]
  },
  {
   "cell_type": "markdown",
   "id": "69d8df92",
   "metadata": {},
   "source": [
    "## 7.1 Math modul\n",
    "Beépített modul matematikai számításokra."
   ]
  },
  {
   "cell_type": "code",
   "execution_count": 2,
   "id": "035c67af",
   "metadata": {},
   "outputs": [],
   "source": [
    "import math"
   ]
  },
  {
   "cell_type": "markdown",
   "id": "82ad06bc",
   "metadata": {},
   "source": [
    "### 7.1.1 Konstansok"
   ]
  },
  {
   "cell_type": "code",
   "execution_count": 3,
   "id": "f38576a8",
   "metadata": {},
   "outputs": [
    {
     "data": {
      "text/plain": [
       "(2.718281828459045, 3.141592653589793, inf, nan)"
      ]
     },
     "execution_count": 3,
     "metadata": {},
     "output_type": "execute_result"
    }
   ],
   "source": [
    "math.e, math.pi, math.inf, math.nan"
   ]
  },
  {
   "cell_type": "markdown",
   "id": "1aad21fa",
   "metadata": {},
   "source": [
    "### 7.1.2 Trigonometrikus függvények"
   ]
  },
  {
   "cell_type": "code",
   "execution_count": 7,
   "id": "0963128c",
   "metadata": {},
   "outputs": [
    {
     "data": {
      "text/plain": [
       "(1.5707963267948966, 0.0)"
      ]
     },
     "execution_count": 7,
     "metadata": {},
     "output_type": "execute_result"
    }
   ],
   "source": [
    "# Átváltás fokból radiánba és radiánból fokba \n",
    "math.radians(90), math.degrees(0)"
   ]
  },
  {
   "cell_type": "code",
   "execution_count": null,
   "id": "d59910d4",
   "metadata": {},
   "outputs": [],
   "source": [
    "# Alap trigonometrikus függvények\n",
    "math.sin(1), math.cos(1), math.tan(1)"
   ]
  },
  {
   "cell_type": "code",
   "execution_count": 9,
   "id": "656f8d3c",
   "metadata": {},
   "outputs": [
    {
     "data": {
      "text/plain": [
       "(1.0, 90.0)"
      ]
     },
     "execution_count": 9,
     "metadata": {},
     "output_type": "execute_result"
    }
   ],
   "source": [
    "# Trigonimetrikus függvények és inverzeik\n",
    "math.sin(math.radians(90)), math.degrees(math.asin(1.0))"
   ]
  },
  {
   "cell_type": "markdown",
   "id": "769c4307",
   "metadata": {},
   "source": [
    "### 7.1.3 Kombinatorikai függvények"
   ]
  },
  {
   "cell_type": "markdown",
   "id": "4e266749",
   "metadata": {},
   "source": [
    "Kombináció (n alatt a k): $$ {n \\choose k} = \\frac{n!}{k! (n-k)!} $$"
   ]
  },
  {
   "cell_type": "code",
   "execution_count": 10,
   "id": "49cc6fc7",
   "metadata": {},
   "outputs": [
    {
     "data": {
      "text/plain": [
       "(21, 21.0)"
      ]
     },
     "execution_count": 10,
     "metadata": {},
     "output_type": "execute_result"
    }
   ],
   "source": [
    "math.comb(7, 5), math.factorial(7)/(math.factorial(5)*math.factorial(7-5))"
   ]
  },
  {
   "cell_type": "markdown",
   "id": "6deace2f",
   "metadata": {},
   "source": [
    "Permutáció (hányféleképpen tudok kiválasztani n-ből k elemet): $$ \\frac{n!}{(n - k)!} $$"
   ]
  },
  {
   "cell_type": "code",
   "execution_count": 11,
   "id": "db17c255",
   "metadata": {},
   "outputs": [
    {
     "data": {
      "text/plain": [
       "(6, 6.0)"
      ]
     },
     "execution_count": 11,
     "metadata": {},
     "output_type": "execute_result"
    }
   ],
   "source": [
    "math.perm(3, 2), math.factorial(3)/math.factorial(3-2)"
   ]
  },
  {
   "cell_type": "markdown",
   "id": "d9bbb280",
   "metadata": {},
   "source": [
    "### 7.1.4 Egyéb"
   ]
  },
  {
   "cell_type": "code",
   "execution_count": 13,
   "id": "dea43fa6",
   "metadata": {},
   "outputs": [
    {
     "data": {
      "text/plain": [
       "(8, -8)"
      ]
     },
     "execution_count": 13,
     "metadata": {},
     "output_type": "execute_result"
    }
   ],
   "source": [
    "# ceil = plafon (egy számot a legközelebbi nála nagyobb egészre kerekít)\n",
    "# floor = padló (egy számot a legközelebb nála kisebb egészre kerekít)\n",
    "math.ceil(7.6), math.floor(-7.6)"
   ]
  },
  {
   "cell_type": "code",
   "execution_count": 14,
   "id": "15f10b68",
   "metadata": {},
   "outputs": [
    {
     "data": {
      "text/plain": [
       "1.0"
      ]
     },
     "execution_count": 14,
     "metadata": {},
     "output_type": "execute_result"
    }
   ],
   "source": [
    "# Euklideszi távolság kiszámítása\n",
    "math.dist([1, 0], [0, 0])"
   ]
  },
  {
   "cell_type": "code",
   "execution_count": 15,
   "id": "ab828625",
   "metadata": {},
   "outputs": [
    {
     "data": {
      "text/plain": [
       "(8.0, 8.0)"
      ]
     },
     "execution_count": 15,
     "metadata": {},
     "output_type": "execute_result"
    }
   ],
   "source": [
    "# Abszolútérték\n",
    "math.fabs(8), math.fabs(-8)"
   ]
  },
  {
   "cell_type": "code",
   "execution_count": 16,
   "id": "342111c7",
   "metadata": {},
   "outputs": [
    {
     "data": {
      "text/plain": [
       "(4.0, 2.0)"
      ]
     },
     "execution_count": 16,
     "metadata": {},
     "output_type": "execute_result"
    }
   ],
   "source": [
    "math.pow(2, 2), math.sqrt(4)"
   ]
  },
  {
   "cell_type": "code",
   "execution_count": 19,
   "id": "c6dbca88",
   "metadata": {},
   "outputs": [
    {
     "data": {
      "text/plain": [
       "(7.38905609893065, 7.3890560989306495)"
      ]
     },
     "execution_count": 19,
     "metadata": {},
     "output_type": "execute_result"
    }
   ],
   "source": [
    "# e^x\n",
    "math.exp(2), math.pow(math.e, 2)"
   ]
  },
  {
   "cell_type": "code",
   "execution_count": 20,
   "id": "7a4a2615",
   "metadata": {},
   "outputs": [
    {
     "data": {
      "text/plain": [
       "(1.0, 2.0, 3.0)"
      ]
     },
     "execution_count": 20,
     "metadata": {},
     "output_type": "execute_result"
    }
   ],
   "source": [
    "# Logaritmusok: természetes, kettes, tizes alapú\n",
    "math.log(math.e), math.log2(4), math.log10(1000)"
   ]
  },
  {
   "cell_type": "code",
   "execution_count": 22,
   "id": "19ff7141",
   "metadata": {},
   "outputs": [
    {
     "data": {
      "text/plain": [
       "(1.0, 1)"
      ]
     },
     "execution_count": 22,
     "metadata": {},
     "output_type": "execute_result"
    }
   ],
   "source": [
    "# Osztási maradék\n",
    "math.fmod(3, 2), 3%2"
   ]
  },
  {
   "cell_type": "code",
   "execution_count": 23,
   "id": "41f65e48",
   "metadata": {},
   "outputs": [
    {
     "data": {
      "text/plain": [
       "10.0"
      ]
     },
     "execution_count": 23,
     "metadata": {},
     "output_type": "execute_result"
    }
   ],
   "source": [
    "# Összeg\n",
    "math.fsum([1, 2, 3, 4])"
   ]
  },
  {
   "cell_type": "code",
   "execution_count": 24,
   "id": "4f1afde9",
   "metadata": {},
   "outputs": [
    {
     "data": {
      "text/plain": [
       "3"
      ]
     },
     "execution_count": 24,
     "metadata": {},
     "output_type": "execute_result"
    }
   ],
   "source": [
    "# GCD = Greatest Common Divisor = legnagyobb közös osztó\n",
    "math.gcd(39, 99)"
   ]
  },
  {
   "cell_type": "code",
   "execution_count": 25,
   "id": "b17f3569",
   "metadata": {},
   "outputs": [
    {
     "data": {
      "text/plain": [
       "(False, True)"
      ]
     },
     "execution_count": 25,
     "metadata": {},
     "output_type": "execute_result"
    }
   ],
   "source": [
    "# True, ha a paraméterként átadott érték végtelen, egyébként False\n",
    "math.isinf(5), math.isinf(math.inf)"
   ]
  },
  {
   "cell_type": "markdown",
   "id": "6ffff11b",
   "metadata": {},
   "source": [
    "## 7.2 Numpy\n",
    "[Numpy](http://www.numpy.org) egy alap Python csomag, matematikai és tudományos számítások elvégzésére."
   ]
  },
  {
   "cell_type": "markdown",
   "id": "97d2b3c1",
   "metadata": {},
   "source": [
    "### 7.2.1 Tömbök\n",
    "A Numpy tömb egy azonos típusú értékekből álló rács, amelyet nemnegatív egész számok sorozata indexel."
   ]
  },
  {
   "cell_type": "code",
   "execution_count": 26,
   "id": "ad7bc45f",
   "metadata": {},
   "outputs": [],
   "source": [
    "import numpy as np"
   ]
  },
  {
   "cell_type": "code",
   "execution_count": 27,
   "id": "f7e825c2",
   "metadata": {},
   "outputs": [],
   "source": [
    "# Numpy tömb létrehozása\n",
    "a = np.array([1, 2, 3])"
   ]
  },
  {
   "cell_type": "code",
   "execution_count": 28,
   "id": "4364950f",
   "metadata": {},
   "outputs": [
    {
     "data": {
      "text/plain": [
       "numpy.ndarray"
      ]
     },
     "execution_count": 28,
     "metadata": {},
     "output_type": "execute_result"
    }
   ],
   "source": [
    "type(a)"
   ]
  },
  {
   "cell_type": "code",
   "execution_count": 29,
   "id": "06b2f955",
   "metadata": {},
   "outputs": [
    {
     "data": {
      "text/plain": [
       "(1, 2)"
      ]
     },
     "execution_count": 29,
     "metadata": {},
     "output_type": "execute_result"
    }
   ],
   "source": [
    "# indexekkel lehet az egyes elemekre hivatkozni\n",
    "a[0], a[1]"
   ]
  },
  {
   "cell_type": "code",
   "execution_count": 30,
   "id": "e1c948ce",
   "metadata": {},
   "outputs": [
    {
     "data": {
      "text/plain": [
       "(3,)"
      ]
     },
     "execution_count": 30,
     "metadata": {},
     "output_type": "execute_result"
    }
   ],
   "source": [
    "# a tömb méreteinek lekérdezésére\n",
    "a.shape"
   ]
  },
  {
   "cell_type": "code",
   "execution_count": 33,
   "id": "1e2512ad",
   "metadata": {},
   "outputs": [],
   "source": [
    "# 2x3-as tömb létrehozása\n",
    "b = np.array([[1, 2, 3], [4, 5, 6]]) "
   ]
  },
  {
   "cell_type": "code",
   "execution_count": 34,
   "id": "0fd43ec8",
   "metadata": {},
   "outputs": [
    {
     "data": {
      "text/plain": [
       "(2, 3)"
      ]
     },
     "execution_count": 34,
     "metadata": {},
     "output_type": "execute_result"
    }
   ],
   "source": [
    "b.shape"
   ]
  },
  {
   "cell_type": "code",
   "execution_count": 36,
   "id": "193e78b6",
   "metadata": {},
   "outputs": [
    {
     "data": {
      "text/plain": [
       "2"
      ]
     },
     "execution_count": 36,
     "metadata": {},
     "output_type": "execute_result"
    }
   ],
   "source": [
    "# a 2 dimenziós tömb elemeire 2 index-szel hivatkozunk\n",
    "b[0, 1]"
   ]
  },
  {
   "cell_type": "code",
   "execution_count": 37,
   "id": "c055409a",
   "metadata": {},
   "outputs": [],
   "source": [
    "# 2x2-es tömb létrehozása, az egyes rácspontokban lévő elemek: 0\n",
    "a = np.zeros((2, 2))"
   ]
  },
  {
   "cell_type": "code",
   "execution_count": 38,
   "id": "0e747153",
   "metadata": {},
   "outputs": [
    {
     "data": {
      "text/plain": [
       "array([[0., 0.],\n",
       "       [0., 0.]])"
      ]
     },
     "execution_count": 38,
     "metadata": {},
     "output_type": "execute_result"
    }
   ],
   "source": [
    "a"
   ]
  },
  {
   "cell_type": "code",
   "execution_count": 39,
   "id": "184cf44c",
   "metadata": {},
   "outputs": [],
   "source": [
    "# 1x2-es tömb létrehozása, az egyes rácspontokban lévő elemek: 1\n",
    "b = np.ones((1, 2))"
   ]
  },
  {
   "cell_type": "code",
   "execution_count": 40,
   "id": "819f03e7",
   "metadata": {},
   "outputs": [
    {
     "data": {
      "text/plain": [
       "array([[1., 1.]])"
      ]
     },
     "execution_count": 40,
     "metadata": {},
     "output_type": "execute_result"
    }
   ],
   "source": [
    "b"
   ]
  },
  {
   "cell_type": "code",
   "execution_count": 41,
   "id": "67092556",
   "metadata": {},
   "outputs": [],
   "source": [
    "# 2x2-es tömb létrehozása, az egyes rácspontokban lévő elemek: 7\n",
    "c = np.full((2, 2), 7)"
   ]
  },
  {
   "cell_type": "code",
   "execution_count": 42,
   "id": "f42d80be",
   "metadata": {},
   "outputs": [
    {
     "data": {
      "text/plain": [
       "array([[7, 7],\n",
       "       [7, 7]])"
      ]
     },
     "execution_count": 42,
     "metadata": {},
     "output_type": "execute_result"
    }
   ],
   "source": [
    "c"
   ]
  },
  {
   "cell_type": "code",
   "execution_count": 43,
   "id": "79f58d83",
   "metadata": {},
   "outputs": [],
   "source": [
    "# 4x4-es identitásmátrix\n",
    "d = np.eye(4)"
   ]
  },
  {
   "cell_type": "code",
   "execution_count": 44,
   "id": "b5ea72d2",
   "metadata": {},
   "outputs": [
    {
     "data": {
      "text/plain": [
       "array([[1., 0., 0., 0.],\n",
       "       [0., 1., 0., 0.],\n",
       "       [0., 0., 1., 0.],\n",
       "       [0., 0., 0., 1.]])"
      ]
     },
     "execution_count": 44,
     "metadata": {},
     "output_type": "execute_result"
    }
   ],
   "source": [
    "d"
   ]
  },
  {
   "cell_type": "code",
   "execution_count": 45,
   "id": "0cd16721",
   "metadata": {},
   "outputs": [],
   "source": [
    "# 2x2-es mátrix véletlenszerű elemekkel feltöltve\n",
    "e = np.random.random((2, 2))"
   ]
  },
  {
   "cell_type": "code",
   "execution_count": 46,
   "id": "f2943c64",
   "metadata": {},
   "outputs": [
    {
     "data": {
      "text/plain": [
       "array([[0.8545137 , 0.46777707],\n",
       "       [0.17394981, 0.35537752]])"
      ]
     },
     "execution_count": 46,
     "metadata": {},
     "output_type": "execute_result"
    }
   ],
   "source": [
    "e"
   ]
  },
  {
   "cell_type": "markdown",
   "id": "97395d07",
   "metadata": {},
   "source": [
    "### 7.2.2 Indexelés és szeletelés (slicing)"
   ]
  },
  {
   "cell_type": "code",
   "execution_count": 50,
   "id": "2cc02ce1",
   "metadata": {},
   "outputs": [],
   "source": [
    "a = np.array([[1, 2, 3], [4, 5, 6], [7, 8, 9], [10, 11, 12]])"
   ]
  },
  {
   "cell_type": "code",
   "execution_count": 51,
   "id": "114d42c8",
   "metadata": {},
   "outputs": [
    {
     "data": {
      "text/plain": [
       "array([[ 1,  2,  3],\n",
       "       [ 4,  5,  6],\n",
       "       [ 7,  8,  9],\n",
       "       [10, 11, 12]])"
      ]
     },
     "execution_count": 51,
     "metadata": {},
     "output_type": "execute_result"
    }
   ],
   "source": [
    "a"
   ]
  },
  {
   "cell_type": "code",
   "execution_count": 58,
   "id": "b624eed6",
   "metadata": {},
   "outputs": [
    {
     "data": {
      "text/plain": [
       "(1, 2, 3, 12)"
      ]
     },
     "execution_count": 58,
     "metadata": {},
     "output_type": "execute_result"
    }
   ],
   "source": [
    "a[0, 0], a[0, 1], a[0, 2], a[3, 2]"
   ]
  },
  {
   "cell_type": "code",
   "execution_count": 59,
   "id": "84ee93a6",
   "metadata": {},
   "outputs": [],
   "source": [
    "b = np.array([0, 2, 0, 1])"
   ]
  },
  {
   "cell_type": "code",
   "execution_count": 60,
   "id": "796201d8",
   "metadata": {},
   "outputs": [
    {
     "data": {
      "text/plain": [
       "array([ 1,  6,  7, 11])"
      ]
     },
     "execution_count": 60,
     "metadata": {},
     "output_type": "execute_result"
    }
   ],
   "source": [
    "a[np.arange(4), b]"
   ]
  },
  {
   "cell_type": "code",
   "execution_count": 47,
   "id": "f0edebe2",
   "metadata": {},
   "outputs": [],
   "source": [
    "a = np.array([[1, 2, 3, 4], [5, 6, 7, 8], [9, 10, 11, 12]])"
   ]
  },
  {
   "cell_type": "code",
   "execution_count": 49,
   "id": "05c4d5d6",
   "metadata": {},
   "outputs": [
    {
     "data": {
      "text/plain": [
       "array([[ 1,  2,  3,  4],\n",
       "       [ 5,  6,  7,  8],\n",
       "       [ 9, 10, 11, 12]])"
      ]
     },
     "execution_count": 49,
     "metadata": {},
     "output_type": "execute_result"
    }
   ],
   "source": [
    "a"
   ]
  },
  {
   "cell_type": "code",
   "execution_count": 48,
   "id": "487966d6",
   "metadata": {},
   "outputs": [
    {
     "data": {
      "text/plain": [
       "array([[2, 3],\n",
       "       [6, 7]])"
      ]
     },
     "execution_count": 48,
     "metadata": {},
     "output_type": "execute_result"
    }
   ],
   "source": [
    "a[:2, 1:3]"
   ]
  },
  {
   "cell_type": "markdown",
   "id": "dd1fd2e3",
   "metadata": {},
   "source": [
    "### 7.2.3 Boolean indexelés\n",
    "Lehetséges egy Numpy tömböt egy dimenziójában megegyező True/False értékekkel feltöltött tömbbel indexelni. A végeredmény egy 1 dimenziós tömb, amelynek elemei az indexelő tömbben True értékekkel megjelölt elemek."
   ]
  },
  {
   "cell_type": "code",
   "execution_count": 61,
   "id": "d36d925e",
   "metadata": {},
   "outputs": [],
   "source": [
    "# Boolean indexlés\n",
    "a = np.array([[1, 2], [3, 4], [5, 6]])"
   ]
  },
  {
   "cell_type": "code",
   "execution_count": 62,
   "id": "df8f3687",
   "metadata": {},
   "outputs": [],
   "source": [
    "bool_idx = (a > 2)"
   ]
  },
  {
   "cell_type": "code",
   "execution_count": 63,
   "id": "aba3f352",
   "metadata": {},
   "outputs": [
    {
     "data": {
      "text/plain": [
       "array([[False, False],\n",
       "       [ True,  True],\n",
       "       [ True,  True]])"
      ]
     },
     "execution_count": 63,
     "metadata": {},
     "output_type": "execute_result"
    }
   ],
   "source": [
    "bool_idx"
   ]
  },
  {
   "cell_type": "code",
   "execution_count": 64,
   "id": "03b21e84",
   "metadata": {},
   "outputs": [
    {
     "data": {
      "text/plain": [
       "array([3, 4, 5, 6])"
      ]
     },
     "execution_count": 64,
     "metadata": {},
     "output_type": "execute_result"
    }
   ],
   "source": [
    "a[bool_idx]"
   ]
  },
  {
   "cell_type": "markdown",
   "id": "ca1b98d8",
   "metadata": {},
   "source": [
    "### 7.2.4 Adattípusok"
   ]
  },
  {
   "cell_type": "code",
   "execution_count": 65,
   "id": "15ee18d1",
   "metadata": {},
   "outputs": [],
   "source": [
    "x = np.array([1, 2])"
   ]
  },
  {
   "cell_type": "code",
   "execution_count": 66,
   "id": "35399ca8",
   "metadata": {},
   "outputs": [
    {
     "data": {
      "text/plain": [
       "dtype('int32')"
      ]
     },
     "execution_count": 66,
     "metadata": {},
     "output_type": "execute_result"
    }
   ],
   "source": [
    "x.dtype"
   ]
  },
  {
   "cell_type": "code",
   "execution_count": 67,
   "id": "4d90daec",
   "metadata": {},
   "outputs": [],
   "source": [
    "x = np.array([1.0, 2.0])"
   ]
  },
  {
   "cell_type": "code",
   "execution_count": 68,
   "id": "20a5e047",
   "metadata": {},
   "outputs": [
    {
     "data": {
      "text/plain": [
       "dtype('float64')"
      ]
     },
     "execution_count": 68,
     "metadata": {},
     "output_type": "execute_result"
    }
   ],
   "source": [
    "x.dtype"
   ]
  },
  {
   "cell_type": "code",
   "execution_count": 69,
   "id": "fdbc0a99",
   "metadata": {},
   "outputs": [],
   "source": [
    "x = np.array([1, 2], dtype=np.int64)"
   ]
  },
  {
   "cell_type": "code",
   "execution_count": 70,
   "id": "8c599d0a",
   "metadata": {},
   "outputs": [
    {
     "data": {
      "text/plain": [
       "dtype('int64')"
      ]
     },
     "execution_count": 70,
     "metadata": {},
     "output_type": "execute_result"
    }
   ],
   "source": [
    "x.dtype"
   ]
  },
  {
   "cell_type": "markdown",
   "id": "09d1a59a",
   "metadata": {},
   "source": [
    "### 7.2.5 Matematikai műveletek"
   ]
  },
  {
   "cell_type": "code",
   "execution_count": 71,
   "id": "efd95806",
   "metadata": {},
   "outputs": [],
   "source": [
    "x = np.array([[1, 2], [3, 4]], dtype=np.float64)\n",
    "y = np.array([[5, 6], [7, 8]], dtype=np.float64)"
   ]
  },
  {
   "cell_type": "code",
   "execution_count": 72,
   "id": "a490ddba",
   "metadata": {},
   "outputs": [
    {
     "data": {
      "text/plain": [
       "array([[ 6.,  8.],\n",
       "       [10., 12.]])"
      ]
     },
     "execution_count": 72,
     "metadata": {},
     "output_type": "execute_result"
    }
   ],
   "source": [
    "# a két tömb egyes elemeinek összege\n",
    "x + y"
   ]
  },
  {
   "cell_type": "code",
   "execution_count": 83,
   "id": "5b5a4efc",
   "metadata": {},
   "outputs": [
    {
     "data": {
      "text/plain": [
       "array([[ 6.,  8.],\n",
       "       [10., 12.]])"
      ]
     },
     "execution_count": 83,
     "metadata": {},
     "output_type": "execute_result"
    }
   ],
   "source": [
    "np.add(x, y)"
   ]
  },
  {
   "cell_type": "code",
   "execution_count": 74,
   "id": "68aac056",
   "metadata": {},
   "outputs": [
    {
     "data": {
      "text/plain": [
       "array([[-4., -4.],\n",
       "       [-4., -4.]])"
      ]
     },
     "execution_count": 74,
     "metadata": {},
     "output_type": "execute_result"
    }
   ],
   "source": [
    "# a két tömb egyes elemeinek különbsége\n",
    "x - y"
   ]
  },
  {
   "cell_type": "code",
   "execution_count": 75,
   "id": "303caad5",
   "metadata": {},
   "outputs": [
    {
     "data": {
      "text/plain": [
       "array([[-4., -4.],\n",
       "       [-4., -4.]])"
      ]
     },
     "execution_count": 75,
     "metadata": {},
     "output_type": "execute_result"
    }
   ],
   "source": [
    "np.subtract(x, y)"
   ]
  },
  {
   "cell_type": "code",
   "execution_count": 84,
   "id": "a3f5a943",
   "metadata": {},
   "outputs": [
    {
     "data": {
      "text/plain": [
       "array([[ 5., 12.],\n",
       "       [21., 32.]])"
      ]
     },
     "execution_count": 84,
     "metadata": {},
     "output_type": "execute_result"
    }
   ],
   "source": [
    "# a két tömb egyes elemeinek szorzata\n",
    "x * y"
   ]
  },
  {
   "cell_type": "code",
   "execution_count": 77,
   "id": "bbc9e5c8",
   "metadata": {},
   "outputs": [
    {
     "data": {
      "text/plain": [
       "array([[ 5., 12.],\n",
       "       [21., 32.]])"
      ]
     },
     "execution_count": 77,
     "metadata": {},
     "output_type": "execute_result"
    }
   ],
   "source": [
    "np.multiply(x, y)"
   ]
  },
  {
   "cell_type": "code",
   "execution_count": 78,
   "id": "7770efbe",
   "metadata": {},
   "outputs": [
    {
     "data": {
      "text/plain": [
       "array([[0.2       , 0.33333333],\n",
       "       [0.42857143, 0.5       ]])"
      ]
     },
     "execution_count": 78,
     "metadata": {},
     "output_type": "execute_result"
    }
   ],
   "source": [
    "# a két tömb egyes elemeinek hányadosa\n",
    "x/y"
   ]
  },
  {
   "cell_type": "code",
   "execution_count": 79,
   "id": "2b9cf33c",
   "metadata": {},
   "outputs": [
    {
     "data": {
      "text/plain": [
       "array([[0.2       , 0.33333333],\n",
       "       [0.42857143, 0.5       ]])"
      ]
     },
     "execution_count": 79,
     "metadata": {},
     "output_type": "execute_result"
    }
   ],
   "source": [
    "np.divide(x, y)"
   ]
  },
  {
   "cell_type": "code",
   "execution_count": 80,
   "id": "34f5fc55",
   "metadata": {},
   "outputs": [
    {
     "data": {
      "text/plain": [
       "array([[1.        , 1.41421356],\n",
       "       [1.73205081, 2.        ]])"
      ]
     },
     "execution_count": 80,
     "metadata": {},
     "output_type": "execute_result"
    }
   ],
   "source": [
    "# a paraméterként átadott tömb egyes elemeinek négyzetgyöke\n",
    "np.sqrt(x)"
   ]
  },
  {
   "cell_type": "code",
   "execution_count": 85,
   "id": "f20bdb35",
   "metadata": {},
   "outputs": [],
   "source": [
    "v = np.array([9, 10])\n",
    "w = np.array([11, 12])"
   ]
  },
  {
   "cell_type": "code",
   "execution_count": 89,
   "id": "36baf390",
   "metadata": {},
   "outputs": [
    {
     "data": {
      "text/plain": [
       "(219, 219, 219)"
      ]
     },
     "execution_count": 89,
     "metadata": {},
     "output_type": "execute_result"
    }
   ],
   "source": [
    "# Skalárszorzat\n",
    "v.dot(w), np.dot(v, w), 9*11 + 10*12"
   ]
  },
  {
   "cell_type": "code",
   "execution_count": 90,
   "id": "e8565844",
   "metadata": {},
   "outputs": [],
   "source": [
    "x = np.array([[1, 2], [3, 4]])"
   ]
  },
  {
   "cell_type": "code",
   "execution_count": 91,
   "id": "995ad1a2",
   "metadata": {},
   "outputs": [
    {
     "data": {
      "text/plain": [
       "array([[1, 2],\n",
       "       [3, 4]])"
      ]
     },
     "execution_count": 91,
     "metadata": {},
     "output_type": "execute_result"
    }
   ],
   "source": [
    "x"
   ]
  },
  {
   "cell_type": "code",
   "execution_count": 92,
   "id": "5f542f00",
   "metadata": {},
   "outputs": [
    {
     "data": {
      "text/plain": [
       "array([[1, 3],\n",
       "       [2, 4]])"
      ]
     },
     "execution_count": 92,
     "metadata": {},
     "output_type": "execute_result"
    }
   ],
   "source": [
    "# Transzponált\n",
    "x.T"
   ]
  },
  {
   "cell_type": "code",
   "execution_count": 93,
   "id": "8ca2f428",
   "metadata": {},
   "outputs": [
    {
     "data": {
      "text/plain": [
       "10"
      ]
     },
     "execution_count": 93,
     "metadata": {},
     "output_type": "execute_result"
    }
   ],
   "source": [
    "# Tömbben található számok összege\n",
    "np.sum(x)"
   ]
  },
  {
   "cell_type": "code",
   "execution_count": 94,
   "id": "cb84b154",
   "metadata": {},
   "outputs": [
    {
     "data": {
      "text/plain": [
       "array([4, 6])"
      ]
     },
     "execution_count": 94,
     "metadata": {},
     "output_type": "execute_result"
    }
   ],
   "source": [
    "np.sum(x, axis=0)"
   ]
  },
  {
   "cell_type": "code",
   "execution_count": 95,
   "id": "1184e3ec",
   "metadata": {},
   "outputs": [
    {
     "data": {
      "text/plain": [
       "array([3, 7])"
      ]
     },
     "execution_count": 95,
     "metadata": {},
     "output_type": "execute_result"
    }
   ],
   "source": [
    "np.sum(x, axis=1)"
   ]
  },
  {
   "cell_type": "markdown",
   "id": "49a8c425",
   "metadata": {},
   "source": [
    "### 7.2.6 Broadcasting"
   ]
  },
  {
   "cell_type": "code",
   "execution_count": 96,
   "id": "494b4e85",
   "metadata": {},
   "outputs": [],
   "source": [
    "x = np.array([[1, 2, 3], [4, 5, 6], [7, 8, 9], [10, 11, 12]])\n",
    "v = np.array([1, 0, 1])"
   ]
  },
  {
   "cell_type": "code",
   "execution_count": 97,
   "id": "d3d9ac38",
   "metadata": {},
   "outputs": [],
   "source": [
    "# létrehoz egy 0-ás értékekkel feltöltött tömböt, amely méreteit tekintve megegyezik a paraméterként átadott tömbbel\n",
    "y = np.empty_like(x)"
   ]
  },
  {
   "cell_type": "code",
   "execution_count": 98,
   "id": "ce8225a6",
   "metadata": {},
   "outputs": [
    {
     "data": {
      "text/plain": [
       "array([[0, 0, 0],\n",
       "       [0, 0, 0],\n",
       "       [0, 0, 0],\n",
       "       [0, 0, 0]])"
      ]
     },
     "execution_count": 98,
     "metadata": {},
     "output_type": "execute_result"
    }
   ],
   "source": [
    "y"
   ]
  },
  {
   "cell_type": "code",
   "execution_count": 101,
   "id": "cea19376",
   "metadata": {},
   "outputs": [],
   "source": [
    "# Második index helyett minden indexet átadunk, amelyet egy :-tal jelölünk\n",
    "for i in range(4):\n",
    "    y[i, :] = x[i, :] + v"
   ]
  },
  {
   "cell_type": "code",
   "execution_count": 100,
   "id": "30194d2f",
   "metadata": {},
   "outputs": [
    {
     "data": {
      "text/plain": [
       "array([[ 2,  2,  4],\n",
       "       [ 5,  5,  7],\n",
       "       [ 8,  8, 10],\n",
       "       [11, 11, 13]])"
      ]
     },
     "execution_count": 100,
     "metadata": {},
     "output_type": "execute_result"
    }
   ],
   "source": [
    "y"
   ]
  },
  {
   "cell_type": "code",
   "execution_count": 102,
   "id": "332c2acb",
   "metadata": {},
   "outputs": [],
   "source": [
    "# elkészít egy tömböt, amelyet az első paraméterként átadott értékekkel tölt fel, mérete a második paraméterben átadott értékek\n",
    "vv = np.tile(v, (4, 1))"
   ]
  },
  {
   "cell_type": "code",
   "execution_count": 104,
   "id": "b294f35c",
   "metadata": {},
   "outputs": [
    {
     "data": {
      "text/plain": [
       "(array([1, 0, 1]),\n",
       " array([[1, 0, 1],\n",
       "        [1, 0, 1],\n",
       "        [1, 0, 1],\n",
       "        [1, 0, 1]]))"
      ]
     },
     "execution_count": 104,
     "metadata": {},
     "output_type": "execute_result"
    }
   ],
   "source": [
    "v, vv"
   ]
  },
  {
   "cell_type": "code",
   "execution_count": 105,
   "id": "fcafe7b7",
   "metadata": {},
   "outputs": [
    {
     "data": {
      "text/plain": [
       "array([[ 2,  2,  4],\n",
       "       [ 5,  5,  7],\n",
       "       [ 8,  8, 10],\n",
       "       [11, 11, 13]])"
      ]
     },
     "execution_count": 105,
     "metadata": {},
     "output_type": "execute_result"
    }
   ],
   "source": [
    "x+vv"
   ]
  },
  {
   "cell_type": "code",
   "execution_count": 106,
   "id": "b1c4fb01",
   "metadata": {},
   "outputs": [
    {
     "data": {
      "text/plain": [
       "array([[ 2,  2,  4],\n",
       "       [ 5,  5,  7],\n",
       "       [ 8,  8, 10],\n",
       "       [11, 11, 13]])"
      ]
     },
     "execution_count": 106,
     "metadata": {},
     "output_type": "execute_result"
    }
   ],
   "source": [
    "x+v"
   ]
  },
  {
   "cell_type": "code",
   "execution_count": 110,
   "id": "2fbecc24",
   "metadata": {},
   "outputs": [
    {
     "data": {
      "text/plain": [
       "array([[ 2,  4,  6,  5,  7,  9],\n",
       "       [ 8, 10, 12, 11, 13, 15]])"
      ]
     },
     "execution_count": 110,
     "metadata": {},
     "output_type": "execute_result"
    }
   ],
   "source": [
    "# tömböt átméretezésére szolgál\n",
    "np.reshape(x+v, (2, 6))"
   ]
  },
  {
   "cell_type": "markdown",
   "id": "e0c6ad2b",
   "metadata": {},
   "source": [
    "> **1. feladat**: Írj egy függvényt, amely első paraméterként átadott 2D tömbből kinyeri azokat az értékeket, amelyek a második 2D tömbben is megtalálhatóak!"
   ]
  },
  {
   "cell_type": "code",
   "execution_count": 119,
   "id": "5df563fb",
   "metadata": {},
   "outputs": [
    {
     "data": {
      "text/plain": [
       "[0, 30, 50]"
      ]
     },
     "execution_count": 119,
     "metadata": {},
     "output_type": "execute_result"
    }
   ],
   "source": [
    "def common_values(a, b):\n",
    "    a = a.flatten() # használható a reshape függvény is\n",
    "    b = b.flatten()\n",
    "    o = []\n",
    "\n",
    "    for i in a:\n",
    "        if i not in b:\n",
    "            o.append(i)\n",
    "    \n",
    "    return o\n",
    "\n",
    "common_values(\n",
    "    np.array([[0, 10, 20], [30, 40, 50]]),\n",
    "    np.array([[10, 20, 5], [45, 40, 10]])\n",
    ")"
   ]
  },
  {
   "cell_type": "markdown",
   "id": "a6252abf",
   "metadata": {},
   "source": [
    "> **2. feladat**: Írj egy függvényt, amely visszaadja a paraméterként átadott lista maximumának indexét!"
   ]
  },
  {
   "cell_type": "code",
   "execution_count": 121,
   "id": "4cea48c6",
   "metadata": {},
   "outputs": [
    {
     "data": {
      "text/plain": [
       "6"
      ]
     },
     "execution_count": 121,
     "metadata": {},
     "output_type": "execute_result"
    }
   ],
   "source": [
    "def index_max(l): # np.argmax()\n",
    "    o = l[0]\n",
    "    i = 0\n",
    "\n",
    "    for j in range(len(l)):\n",
    "        if l[j] > o:\n",
    "            o = l[j]\n",
    "            i = j           \n",
    "\n",
    "    return i\n",
    "    \n",
    "index_max([1, 5, 7, 2, 5, 7, 9, 2, 5])"
   ]
  },
  {
   "cell_type": "markdown",
   "id": "f9ea387f",
   "metadata": {},
   "source": [
    "> **3. feladat**: Írj egy függvényt, amely kiszámítja a paraméterként átadott n dimenziós Numpy tömbben található számok átlagát!"
   ]
  },
  {
   "cell_type": "code",
   "execution_count": 149,
   "id": "9926e069",
   "metadata": {},
   "outputs": [
    {
     "data": {
      "text/plain": [
       "5.6"
      ]
     },
     "execution_count": 149,
     "metadata": {},
     "output_type": "execute_result"
    }
   ],
   "source": [
    "def atlag(k): # np.average\n",
    "    k = k.flatten()\n",
    "    o = 0\n",
    "    for i in k:\n",
    "        o += i\n",
    "\n",
    "    return o/len(k)\n",
    "\n",
    "atlag(np.array([1, 4, 6, 8, 9]))"
   ]
  },
  {
   "cell_type": "markdown",
   "id": "5dd7f5dd",
   "metadata": {},
   "source": [
    "> **4. feladat**: Írj egy függvényt, amely kiszámítja a paraméterként átadott percentilisét a szintén paraméterként átadott tömb értékeiből! (https://hu.wikiqube.net/wiki/Percentile)!"
   ]
  },
  {
   "cell_type": "code",
   "execution_count": 160,
   "id": "2cfb7000",
   "metadata": {},
   "outputs": [
    {
     "data": {
      "text/plain": [
       "(4, 6)"
      ]
     },
     "execution_count": 160,
     "metadata": {},
     "output_type": "execute_result"
    }
   ],
   "source": [
    "def perc(k, p):\n",
    "    k = np.sort(k)\n",
    "    return math.ceil((p/100)*len(k))\n",
    "    \n",
    "perc(np.array([2, 1, 5, 3, 4]), 80), perc(np.array([2, 1, 5, 3, 4, 6, 8, 9, 7, 10]), 55)"
   ]
  },
  {
   "cell_type": "markdown",
   "id": "6acaf11e",
   "metadata": {},
   "source": [
    "## 7.2 Sympy\n",
    "A [Sympy](https://sympy.org) egy ingyenes Python modul szimbolikus számítások elvégzésére.\n",
    "Telepítése: _pip install sympy_"
   ]
  },
  {
   "cell_type": "code",
   "execution_count": 122,
   "id": "0dfdc506",
   "metadata": {},
   "outputs": [
    {
     "data": {
      "text/latex": [
       "$\\displaystyle 2 \\sqrt{2}$"
      ],
      "text/plain": [
       "2*sqrt(2)"
      ]
     },
     "execution_count": 122,
     "metadata": {},
     "output_type": "execute_result"
    }
   ],
   "source": [
    "# gyökvonás\n",
    "import sympy\n",
    "sympy.sqrt(8)"
   ]
  },
  {
   "cell_type": "code",
   "execution_count": 123,
   "id": "248a332b",
   "metadata": {},
   "outputs": [],
   "source": [
    "# kifejezés definiálása\n",
    "from sympy import symbols\n",
    "x, y = symbols('x y')\n",
    "expr = x + 2*y"
   ]
  },
  {
   "cell_type": "code",
   "execution_count": 124,
   "id": "9d1f8f2a",
   "metadata": {},
   "outputs": [
    {
     "data": {
      "text/latex": [
       "$\\displaystyle x + 2 y$"
      ],
      "text/plain": [
       "x + 2*y"
      ]
     },
     "execution_count": 124,
     "metadata": {},
     "output_type": "execute_result"
    }
   ],
   "source": [
    "expr"
   ]
  },
  {
   "cell_type": "code",
   "execution_count": 125,
   "id": "c1557efe",
   "metadata": {},
   "outputs": [
    {
     "data": {
      "text/latex": [
       "$\\displaystyle x + 2 y + 1$"
      ],
      "text/plain": [
       "x + 2*y + 1"
      ]
     },
     "execution_count": 125,
     "metadata": {},
     "output_type": "execute_result"
    }
   ],
   "source": [
    "expr + 1"
   ]
  },
  {
   "cell_type": "code",
   "execution_count": 126,
   "id": "dfca9ee4",
   "metadata": {},
   "outputs": [
    {
     "data": {
      "text/latex": [
       "$\\displaystyle 2 y$"
      ],
      "text/plain": [
       "2*y"
      ]
     },
     "execution_count": 126,
     "metadata": {},
     "output_type": "execute_result"
    }
   ],
   "source": [
    "expr-x"
   ]
  },
  {
   "cell_type": "code",
   "execution_count": 127,
   "id": "5911964b",
   "metadata": {},
   "outputs": [
    {
     "data": {
      "text/latex": [
       "$\\displaystyle x \\left(x + 2 y\\right)$"
      ],
      "text/plain": [
       "x*(x + 2*y)"
      ]
     },
     "execution_count": 127,
     "metadata": {},
     "output_type": "execute_result"
    }
   ],
   "source": [
    "# automatikus kiemelés\n",
    "x*expr"
   ]
  },
  {
   "cell_type": "code",
   "execution_count": 128,
   "id": "33c9517e",
   "metadata": {},
   "outputs": [
    {
     "data": {
      "text/latex": [
       "$\\displaystyle x^{2} + 2 x y$"
      ],
      "text/plain": [
       "x**2 + 2*x*y"
      ]
     },
     "execution_count": 128,
     "metadata": {},
     "output_type": "execute_result"
    }
   ],
   "source": [
    "# a paraméterként átadott kifejezést a legegyszerűbb alakra hozza\n",
    "from sympy import expand, factor\n",
    "expand(x*expr)"
   ]
  },
  {
   "cell_type": "code",
   "execution_count": 129,
   "id": "a790ff49",
   "metadata": {},
   "outputs": [
    {
     "data": {
      "text/latex": [
       "$\\displaystyle x \\left(x + 2 y\\right)$"
      ],
      "text/plain": [
       "x*(x + 2*y)"
      ]
     },
     "execution_count": 129,
     "metadata": {},
     "output_type": "execute_result"
    }
   ],
   "source": [
    "# a pareméterként átadott kifejezésben a közös elemeket kiemeli\n",
    "factor(x*expr)"
   ]
  },
  {
   "cell_type": "code",
   "execution_count": 139,
   "id": "4c07bbf9",
   "metadata": {},
   "outputs": [
    {
     "data": {
      "text/latex": [
       "$\\displaystyle \\cos{\\left(x \\right)}$"
      ],
      "text/plain": [
       "cos(x)"
      ]
     },
     "execution_count": 139,
     "metadata": {},
     "output_type": "execute_result"
    }
   ],
   "source": [
    "# a paraméterként átadott kifejezés deriváltja\n",
    "from sympy import *\n",
    "diff(sin(x))"
   ]
  },
  {
   "cell_type": "code",
   "execution_count": 141,
   "id": "e49f15a0",
   "metadata": {},
   "outputs": [
    {
     "data": {
      "text/latex": [
       "$\\displaystyle e^{x} \\sin{\\left(x \\right)} + e^{x} \\cos{\\left(x \\right)}$"
      ],
      "text/plain": [
       "exp(x)*sin(x) + exp(x)*cos(x)"
      ]
     },
     "execution_count": 141,
     "metadata": {},
     "output_type": "execute_result"
    }
   ],
   "source": [
    "# a paraméterként átadott függvény második paraméter szerinti deriváltja\n",
    "diff(sin(x)*exp(x), x)"
   ]
  },
  {
   "cell_type": "code",
   "execution_count": 135,
   "id": "44500edd",
   "metadata": {},
   "outputs": [
    {
     "data": {
      "text/latex": [
       "$\\displaystyle e^{x} \\sin{\\left(x \\right)}$"
      ],
      "text/plain": [
       "exp(x)*sin(x)"
      ]
     },
     "execution_count": 135,
     "metadata": {},
     "output_type": "execute_result"
    }
   ],
   "source": [
    "# a paraméterként átadott kifejezés integrálja\n",
    "integrate(exp(x)*sin(x) + exp(x)*cos(x), x)"
   ]
  },
  {
   "cell_type": "code",
   "execution_count": 136,
   "id": "ab829d84",
   "metadata": {},
   "outputs": [
    {
     "data": {
      "text/latex": [
       "$\\displaystyle \\frac{\\sqrt{2} \\sqrt{\\pi}}{2}$"
      ],
      "text/plain": [
       "sqrt(2)*sqrt(pi)/2"
      ]
     },
     "execution_count": 136,
     "metadata": {},
     "output_type": "execute_result"
    }
   ],
   "source": [
    "# a paraméterként átadott függvény integrálja -oo és +oo között\n",
    "integrate(sin(x**2), (x, -oo, oo))"
   ]
  },
  {
   "cell_type": "markdown",
   "id": "95c94a71",
   "metadata": {},
   "source": [
    "Határérték számítása:\n",
    "$$ lim_{x\\to0}f(x) $$, $$ lim_{x\\to\\infty}f(x) $$"
   ]
  },
  {
   "cell_type": "code",
   "execution_count": 145,
   "id": "b04a5e84",
   "metadata": {},
   "outputs": [
    {
     "data": {
      "text/plain": [
       "(1, 0)"
      ]
     },
     "execution_count": 145,
     "metadata": {},
     "output_type": "execute_result"
    }
   ],
   "source": [
    "limit(sin(x)/x, x, 0), limit(sin(x)/x, x, oo)"
   ]
  },
  {
   "cell_type": "code",
   "execution_count": 146,
   "id": "4441c952",
   "metadata": {},
   "outputs": [
    {
     "data": {
      "text/plain": [
       "[-sqrt(2), sqrt(2)]"
      ]
     },
     "execution_count": 146,
     "metadata": {},
     "output_type": "execute_result"
    }
   ],
   "source": [
    "# megoldja a paraméterként átadott egyenletet\n",
    "solve(x**2-2, x)"
   ]
  },
  {
   "cell_type": "code",
   "execution_count": 147,
   "id": "67cb3d1b",
   "metadata": {},
   "outputs": [
    {
     "data": {
      "text/plain": [
       "{3/2 - sqrt(17)/2: 1, 3/2 + sqrt(17)/2: 1}"
      ]
     },
     "execution_count": 147,
     "metadata": {},
     "output_type": "execute_result"
    }
   ],
   "source": [
    "# mátrix egyenértékeinek kiszámítása\n",
    "Matrix([[1, 2], [2, 2]]).eigenvals()"
   ]
  },
  {
   "cell_type": "code",
   "execution_count": null,
   "id": "529c2d12",
   "metadata": {},
   "outputs": [],
   "source": []
  }
 ],
 "metadata": {
  "kernelspec": {
   "display_name": "Python 3 (ipykernel)",
   "language": "python",
   "name": "python3"
  },
  "language_info": {
   "codemirror_mode": {
    "name": "ipython",
    "version": 3
   },
   "file_extension": ".py",
   "mimetype": "text/x-python",
   "name": "python",
   "nbconvert_exporter": "python",
   "pygments_lexer": "ipython3",
   "version": "3.9.6"
  }
 },
 "nbformat": 4,
 "nbformat_minor": 5
}
