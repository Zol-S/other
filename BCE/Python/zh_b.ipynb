{
 "cells": [
  {
   "cell_type": "markdown",
   "id": "cdabfb5b",
   "metadata": {},
   "source": [
    "# Első ZH \"B\"\n",
    "_2021.10.19_"
   ]
  },
  {
   "cell_type": "code",
   "execution_count": 1,
   "id": "1cb622e2",
   "metadata": {},
   "outputs": [
    {
     "data": {
      "text/html": [
       "<style>.container { width:100% !important; }</style>"
      ],
      "text/plain": [
       "<IPython.core.display.HTML object>"
      ]
     },
     "metadata": {},
     "output_type": "display_data"
    }
   ],
   "source": [
    "from IPython.core.display import display, HTML\n",
    "display(HTML(\"<style>.container { width:100% !important; }</style>\"))"
   ]
  },
  {
   "cell_type": "markdown",
   "id": "af823910",
   "metadata": {},
   "source": [
    "## 1. feladat"
   ]
  },
  {
   "cell_type": "code",
   "execution_count": 2,
   "id": "83cc4947",
   "metadata": {},
   "outputs": [],
   "source": [
    "def file_beolvasas(nev):\n",
    "    with open(nev,\"r\",encoding = \"utf8\") as f:\n",
    "        x = []\n",
    "        for line in f.readlines():\n",
    "            x.append(line)\n",
    "        del[x[0]]\n",
    "\n",
    "    return(x)"
   ]
  },
  {
   "cell_type": "code",
   "execution_count": 3,
   "id": "64aade93",
   "metadata": {},
   "outputs": [],
   "source": [
    "nyers_sorok = file_beolvasas(\"ZH1/ramen-ratings.csv\")"
   ]
  },
  {
   "cell_type": "code",
   "execution_count": 4,
   "id": "0712d619",
   "metadata": {},
   "outputs": [
    {
     "data": {
      "text/plain": [
       "[\"2580,New Touch,T's Restaurant Tantanmen ,Cup,Japan,3.75,\\n\",\n",
       " '2579,Just Way,Noodles Spicy Hot Sesame Spicy Hot Sesame Guan-miao Noodles,Pack,Taiwan,1,\\n',\n",
       " '2578,Nissin,Cup Noodles Chicken Vegetable,Cup,USA,2.25,\\n',\n",
       " '2577,Wei Lih,GGE Ramen Snack Tomato Flavor,Pack,Taiwan,2.75,\\n',\n",
       " \"2576,Ching's Secret,Singapore Curry,Pack,India,3.75,\\n\"]"
      ]
     },
     "execution_count": 4,
     "metadata": {},
     "output_type": "execute_result"
    }
   ],
   "source": [
    "nyers_sorok[:5]"
   ]
  },
  {
   "cell_type": "markdown",
   "id": "a6e56af8",
   "metadata": {},
   "source": [
    "## 2. feladat"
   ]
  },
  {
   "cell_type": "code",
   "execution_count": 5,
   "id": "61284fd9",
   "metadata": {},
   "outputs": [],
   "source": [
    "def feldolgoz(lista):\n",
    "    temp = [\"style\",\"orszag\",\"nev\",\"stars\"]\n",
    "    kesz = []\n",
    "    for elem in lista:\n",
    "        temp = []\n",
    "        elem = elem.strip().split(\",\")\n",
    "        try:\n",
    "            temp.append(elem[3])\n",
    "            temp.append(elem[4])\n",
    "            temp.append(f\"{elem[1]}-{elem[2]}\")\n",
    "            temp.append(float(elem[5]))\n",
    "        except:\n",
    "            pass\n",
    "        kesz.append(temp)\n",
    "    return(kesz)"
   ]
  },
  {
   "cell_type": "code",
   "execution_count": 6,
   "id": "21b457ce",
   "metadata": {},
   "outputs": [],
   "source": [
    "feldolgozott_sorok = feldolgoz(nyers_sorok)"
   ]
  },
  {
   "cell_type": "code",
   "execution_count": 7,
   "id": "b6c68763",
   "metadata": {},
   "outputs": [
    {
     "data": {
      "text/plain": [
       "[['Cup', 'Japan', \"New Touch-T's Restaurant Tantanmen \", 3.75],\n",
       " ['Pack',\n",
       "  'Taiwan',\n",
       "  'Just Way-Noodles Spicy Hot Sesame Spicy Hot Sesame Guan-miao Noodles',\n",
       "  1.0],\n",
       " ['Cup', 'USA', 'Nissin-Cup Noodles Chicken Vegetable', 2.25],\n",
       " ['Pack', 'Taiwan', 'Wei Lih-GGE Ramen Snack Tomato Flavor', 2.75],\n",
       " ['Pack', 'India', \"Ching's Secret-Singapore Curry\", 3.75]]"
      ]
     },
     "execution_count": 7,
     "metadata": {},
     "output_type": "execute_result"
    }
   ],
   "source": [
    "feldolgozott_sorok[:5]"
   ]
  },
  {
   "cell_type": "markdown",
   "id": "6a6d6549",
   "metadata": {},
   "source": [
    "## 3. feladat"
   ]
  },
  {
   "cell_type": "code",
   "execution_count": 8,
   "id": "3ad88af4",
   "metadata": {},
   "outputs": [],
   "source": [
    "adatok = []\n",
    "for i in range(0, 4):\n",
    "    adatok.append(feldolgozott_sorok[i])\n",
    "\n",
    "#stilusok válogatása, rendezése\n",
    "s = set()    \n",
    "for elem in adatok:\n",
    "    s.add(elem[0])\n",
    "s = sorted(s)\n",
    "stilusok = []\n",
    "for elem in s:\n",
    "    stilusok.append(elem)\n",
    "\n",
    "def szur(lista, be):\n",
    "    sorok = []\n",
    "    for elem in lista:\n",
    "        if elem[0] == be:\n",
    "            sorok.append(elem)\n",
    "    return(sorok)"
   ]
  },
  {
   "cell_type": "code",
   "execution_count": 13,
   "id": "6fcff5ba",
   "metadata": {},
   "outputs": [
    {
     "name": "stdout",
     "output_type": "stream",
     "text": [
      "Kérek egy stílust! \n",
      "Box\n",
      "A \"stílus\" szó megadásával lekérdezhető az összes stílus.\n",
      "Kérek egy stílust! \n",
      "stílus\n",
      "['Cup', 'Pack']\n",
      "Kérek egy stílust! \n",
      "Pack\n",
      "[['Pack', 'Taiwan', 'Just Way-Noodles Spicy Hot Sesame Spicy Hot Sesame Guan-miao Noodles', 1.0], ['Pack', 'Taiwan', 'Wei Lih-GGE Ramen Snack Tomato Flavor', 2.75]]\n"
     ]
    }
   ],
   "source": [
    "while True:\n",
    "    volt = False\n",
    "    kert = input(\"Kérek egy stílust! \\n\")        \n",
    "    for elem in stilusok:\n",
    "        if elem == kert:\n",
    "            volt = True\n",
    "            break\n",
    "            \n",
    "    if kert.lower() == \"stílus\":\n",
    "        print(stilusok)     \n",
    "    elif volt == False:\n",
    "        print(\"A \\\"stílus\\\" szó megadásával lekérdezhető az összes stílus.\")\n",
    "    else:\n",
    "        szurt = szur(adatok, kert)\n",
    "        print(szurt)\n",
    "        break"
   ]
  },
  {
   "cell_type": "code",
   "execution_count": 20,
   "id": "89d755c0",
   "metadata": {},
   "outputs": [],
   "source": [
    "orszagok = []\n",
    "for i in szurt:\n",
    "    if i[1] not in orszagok:\n",
    "        orszagok.append(i[1])"
   ]
  },
  {
   "cell_type": "code",
   "execution_count": 21,
   "id": "677489ea",
   "metadata": {},
   "outputs": [
    {
     "data": {
      "text/plain": [
       "['Taiwan']"
      ]
     },
     "execution_count": 21,
     "metadata": {},
     "output_type": "execute_result"
    }
   ],
   "source": [
    "orszagok"
   ]
  },
  {
   "cell_type": "code",
   "execution_count": 22,
   "id": "8830d5f3",
   "metadata": {},
   "outputs": [],
   "source": [
    "kimenet = \"Ország,Átlag\\n\"\n",
    "\n",
    "for a in orszagok:\n",
    "    db = 0\n",
    "    szumma = 0\n",
    "    for b in adatok:\n",
    "        db+=1\n",
    "        szumma +=b[3]\n",
    "\n",
    "    if a == orszagok[len(orszagok)-1]:\n",
    "        kimenet+=(f\"{a},{szumma/db}\")\n",
    "    else:\n",
    "        kimenet+=(f\"{a},{szumma/db}\\n\")\n",
    "\n",
    "ki = open(\"ramen.csv\",\"w\")\n",
    "ki.write(kimenet)\n",
    "ki.close()"
   ]
  },
  {
   "cell_type": "code",
   "execution_count": null,
   "id": "3117cc7c",
   "metadata": {},
   "outputs": [],
   "source": []
  }
 ],
 "metadata": {
  "kernelspec": {
   "display_name": "Python 3 (ipykernel)",
   "language": "python",
   "name": "python3"
  },
  "language_info": {
   "codemirror_mode": {
    "name": "ipython",
    "version": 3
   },
   "file_extension": ".py",
   "mimetype": "text/x-python",
   "name": "python",
   "nbconvert_exporter": "python",
   "pygments_lexer": "ipython3",
   "version": "3.9.6"
  }
 },
 "nbformat": 4,
 "nbformat_minor": 5
}
