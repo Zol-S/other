{
 "cells": [
  {
   "cell_type": "markdown",
   "metadata": {},
   "source": [
    "# Cell tower optimization\n",
    "_2020.06.01_\n",
    "\n",
    "This notebook prepares the data input files for the cell tower optimization project."
   ]
  },
  {
   "cell_type": "code",
   "execution_count": 1,
   "metadata": {},
   "outputs": [
    {
     "name": "stderr",
     "output_type": "stream",
     "text": [
      "/home/zol/anaconda3/lib/python3.7/site-packages/dask/config.py:168: YAMLLoadWarning:\n",
      "\n",
      "calling yaml.load() without Loader=... is deprecated, as the default Loader is unsafe. Please read https://msg.pyyaml.org/load for full details.\n",
      "\n",
      "/home/zol/anaconda3/lib/python3.7/site-packages/distributed/config.py:20: YAMLLoadWarning:\n",
      "\n",
      "calling yaml.load() without Loader=... is deprecated, as the default Loader is unsafe. Please read https://msg.pyyaml.org/load for full details.\n",
      "\n"
     ]
    },
    {
     "data": {
      "text/html": [
       "<style>.container { width:100% !important; }</style>"
      ],
      "text/plain": [
       "<IPython.core.display.HTML object>"
      ]
     },
     "metadata": {},
     "output_type": "display_data"
    }
   ],
   "source": [
    "import numpy as np\n",
    "import pandas as pd\n",
    "\n",
    "from tqdm import tqdm\n",
    "\n",
    "import json\n",
    "import requests\n",
    "\n",
    "import plotly.express as px\n",
    "import plotly.graph_objects as go\n",
    "import matplotlib.pyplot as plt\n",
    "\n",
    "from random import sample, random, randint, getrandbits\n",
    "\n",
    "tqdm.pandas()\n",
    "\n",
    "from IPython.core.display import display, HTML\n",
    "display(HTML(\"<style>.container { width:100% !important; }</style>\"))"
   ]
  },
  {
   "cell_type": "markdown",
   "metadata": {},
   "source": [
    "- Go to [OpenCellId](https://opencellid.org/#zoom=16&lat=37.77889&lon=-122.41942),\n",
    "- Register (user: rhema303@gvnuclear.com password: 2e44d4e2bfab75)\n",
    "- Download the complete dataset from here: https://unwiredlabs.com/dashboard?ref=opencellid#downloads\n",
    "- Uncompress and copy the csv to the data subfolder\n",
    "    - [OpenCellId CSV description](http://wiki.opencellid.org/wiki/Menu_map_view#database)\n",
    "- Edit the settings below\n",
    "    - Look up the mobile country code here: https://en.wikipedia.org/wiki/Mobile_country_code"
   ]
  },
  {
   "cell_type": "code",
   "execution_count": 2,
   "metadata": {},
   "outputs": [],
   "source": [
    "country = 'Slovakia' # name of the country\n",
    "cell_tower_filename = 'data/cell_towers_2020-05-23-T000000.csv' # the path to the downloaded cell tower CSV\n",
    "cell_tower_rows_limit = 10_000_000 # number of cell records to be read from the cell tower CSV\n",
    "mobile_country_code = 231 # Mobile country code\n",
    "user_count = 10_000 # Number of users to be generated\n",
    "operator_dict = {\n",
    "    1: 'Orange Slovensko',\n",
    "    2: 'Slovak Telekom',\n",
    "    3: 'SWAN Mobile',\n",
    "    6: 'O2'\n",
    "}\n",
    "\n",
    "# Set it to the center of the country\n",
    "country_center_lat = 48.75\n",
    "country_center_lon = 19.73\n",
    "\n",
    "total_population = 3_000_000 # Set this to increase/decrease the rate of people living in the countryside\n",
    "\n",
    "radius_city = 0.2 # The spread of the location of the people living in city\n",
    "radius_country = 1.5 # The spread of the location of the people living in the countryside\n",
    "\n",
    "date_start = '2020-05-01' # Start date of record generation \n",
    "date_end = '2020-05-01' # End date of records generation\n",
    "\n",
    "OPENCAGEDATA_API_KEY = 'e9990b0d6afa4438a14995b657fd502e' # OpenCageData API key for city to geolocation conversion"
   ]
  },
  {
   "cell_type": "code",
   "execution_count": 3,
   "metadata": {},
   "outputs": [],
   "source": [
    "def reduce_mem_usage(df, verbose=True):\n",
    "    numerics = ['int16', 'int32', 'int64', 'float16', 'float32', 'float64']\n",
    "    start_mem = df.memory_usage().sum() / 1024**2\n",
    "    \n",
    "    for col in df.columns:\n",
    "        col_type = df[col].dtypes\n",
    "        if col_type in numerics:\n",
    "            c_min = df[col].min()\n",
    "            c_max = df[col].max()\n",
    "            if str(col_type)[:3] == 'int':\n",
    "                if c_min > np.iinfo(np.int8).min and c_max < np.iinfo(np.int8).max:\n",
    "                    df[col] = df[col].astype(np.int8)\n",
    "                elif c_min > np.iinfo(np.int16).min and c_max < np.iinfo(np.int16).max:\n",
    "                    df[col] = df[col].astype(np.int16)\n",
    "                elif c_min > np.iinfo(np.int32).min and c_max < np.iinfo(np.int32).max:\n",
    "                    df[col] = df[col].astype(np.int32)\n",
    "                elif c_min > np.iinfo(np.int64).min and c_max < np.iinfo(np.int64).max:\n",
    "                    df[col] = df[col].astype(np.int64)\n",
    "            else:\n",
    "                c_prec = df[col].apply(lambda x: np.finfo(x).precision).max()\n",
    "                if c_min > np.finfo(np.float16).min and c_max < np.finfo(np.float16).max and c_prec == np.finfo(np.float16).precision:\n",
    "                    df[col] = df[col].astype(np.float16)\n",
    "                elif c_min > np.finfo(np.float32).min and c_max < np.finfo(np.float32).max and c_prec == np.finfo(np.float32).precision:\n",
    "                    df[col] = df[col].astype(np.float32)\n",
    "                else:\n",
    "                    df[col] = df[col].astype(np.float64)\n",
    "    end_mem = df.memory_usage().sum() / 1024**2\n",
    "    \n",
    "    if verbose: print('Memory usage decreased to {:5.2f} MB ({:.1f}% reduction)'.format(end_mem, 100 * (start_mem - end_mem) / start_mem))\n",
    "\n",
    "    return df"
   ]
  },
  {
   "cell_type": "markdown",
   "metadata": {
    "heading_collapsed": true
   },
   "source": [
    "## Cell towers generator"
   ]
  },
  {
   "cell_type": "markdown",
   "metadata": {
    "hidden": true
   },
   "source": [
    "**Columns**\n",
    "- cell_id: unique ID\n",
    "- radio: technology\n",
    "- mcc: mobile country code\n",
    "- net: mobile network code https://www.mcc-mnc.com/\n",
    "- lat/lon: geolocation\n",
    "- range: strength of the tower"
   ]
  },
  {
   "cell_type": "code",
   "execution_count": null,
   "metadata": {
    "hidden": true
   },
   "outputs": [],
   "source": [
    "pdf_tower = pd.read_csv(cell_tower_filename, nrows=cell_tower_rows_limit)\n",
    "pdf_tower = pdf_tower[pdf_tower['mcc'] == mobile_country_code].copy()\n",
    "pdf_tower = pdf_tower[['radio', 'net', 'area', 'cell', 'lat', 'lon', 'range']].copy()\n",
    "\n",
    "pdf_tower = reduce_mem_usage(pdf_tower)\n",
    "print('Loaded {:,} records and {:} features.'.format(\n",
    "    pdf_tower.shape[0],\n",
    "    pdf_tower.shape[1]\n",
    "))"
   ]
  },
  {
   "cell_type": "code",
   "execution_count": null,
   "metadata": {
    "hidden": true
   },
   "outputs": [],
   "source": [
    "pdf_tower.rename(columns={'radio': 'technology', 'net': 'operator_name'}, inplace=True)"
   ]
  },
  {
   "cell_type": "code",
   "execution_count": null,
   "metadata": {
    "hidden": true
   },
   "outputs": [],
   "source": [
    "pdf_tower.replace({\n",
    "    \"operator_name\": operator_dict\n",
    "}, inplace=True)"
   ]
  },
  {
   "cell_type": "code",
   "execution_count": null,
   "metadata": {
    "hidden": true
   },
   "outputs": [],
   "source": [
    "pdf_tower['operator_name'].value_counts(sort=False)"
   ]
  },
  {
   "cell_type": "code",
   "execution_count": null,
   "metadata": {
    "hidden": true
   },
   "outputs": [],
   "source": [
    "pdf_tower['range'].describe()"
   ]
  },
  {
   "cell_type": "code",
   "execution_count": null,
   "metadata": {
    "hidden": true
   },
   "outputs": [],
   "source": [
    "def unique_id():\n",
    "    seed = getrandbits(16)\n",
    "    while True:\n",
    "        yield seed\n",
    "        seed += 1\n",
    "\n",
    "unique_sequence = unique_id()\n",
    "\n",
    "uids = []\n",
    "for i in range(len(pdf_tower)):\n",
    "    uids.append(hex(next(unique_sequence))[2:])"
   ]
  },
  {
   "cell_type": "code",
   "execution_count": null,
   "metadata": {
    "hidden": true
   },
   "outputs": [],
   "source": [
    "pdf_tower['cell_id'] = uids"
   ]
  },
  {
   "cell_type": "code",
   "execution_count": null,
   "metadata": {
    "hidden": true
   },
   "outputs": [],
   "source": [
    "pdf_tower[['cell_id', 'operator_name', 'technology', 'lat', 'lon', 'range']][:5]"
   ]
  },
  {
   "cell_type": "code",
   "execution_count": null,
   "metadata": {
    "hidden": true
   },
   "outputs": [],
   "source": [
    "pdf_tower[['cell_id', 'operator_name', 'technology', 'lat', 'lon', 'range']].to_csv('data/{:}_cell_towers.csv'.format(country.lower()), index=False)\n",
    "print('`data/{:}_cell_towers.csv` written'.format(country.lower()))"
   ]
  },
  {
   "cell_type": "markdown",
   "metadata": {
    "hidden": true
   },
   "source": [
    "**Output format**\n",
    "- 0: cell_id\n",
    "- 1: operator_id\n",
    "- 2: technology\n",
    "- 3: lat\n",
    "- 4: lon\n",
    "- 5: strength"
   ]
  },
  {
   "cell_type": "code",
   "execution_count": null,
   "metadata": {
    "hidden": true
   },
   "outputs": [],
   "source": [
    "fig = plt.figure(figsize = (25, 5))\n",
    "ax = fig.gca()\n",
    "\n",
    "pdf_tower[pdf_tower['range'] < 50000]['range'].hist(ax=ax, bins=30)"
   ]
  },
  {
   "cell_type": "code",
   "execution_count": null,
   "metadata": {
    "hidden": true
   },
   "outputs": [],
   "source": [
    "with open('html/public/json/{:}.json'.format(country.lower()), 'w') as output:\n",
    "    output.write('var data = [')\n",
    "    for i in tqdm(range(len(pdf_tower))):\n",
    "        output.write(\"['{:}', '{:}', '{:}', {:}, {:}, {:.0f}], \".format(\n",
    "            pdf_tower.iloc[i]['cell_id'],\n",
    "            pdf_tower.iloc[i]['operator_name'],\n",
    "            pdf_tower.iloc[i]['technology'],\n",
    "            pdf_tower.iloc[i]['lat'],\n",
    "            pdf_tower.iloc[i]['lon'],\n",
    "            pdf_tower.iloc[i]['range']\n",
    "        ))\n",
    "    output.write(']')\n",
    "\n",
    "print('`html/public/json/{:}.json` written'.format(country.lower()))"
   ]
  },
  {
   "cell_type": "code",
   "execution_count": null,
   "metadata": {
    "hidden": true,
    "scrolled": false
   },
   "outputs": [],
   "source": [
    "mapbox_access_token = open(\".mapbox_token\").read()\n",
    "\n",
    "fig = go.Figure(go.Scattermapbox(\n",
    "        lat=pdf_tower['lat'].values,\n",
    "        lon=pdf_tower['lon'].values,\n",
    "        mode='markers',\n",
    "        marker=go.scattermapbox.Marker(\n",
    "            size=14\n",
    "        ),\n",
    "        text=[country],\n",
    "    ))\n",
    "\n",
    "fig.update_layout(\n",
    "    hovermode='closest',\n",
    "    mapbox=dict(\n",
    "        accesstoken=mapbox_access_token,\n",
    "        bearing=0,\n",
    "        center=go.layout.mapbox.Center(\n",
    "            lat=country_center_lat,\n",
    "            lon=country_center_lon\n",
    "        ),\n",
    "        pitch=0,\n",
    "        zoom=6\n",
    "    )\n",
    ")\n",
    "\n",
    "fig.show()"
   ]
  },
  {
   "cell_type": "markdown",
   "metadata": {
    "hidden": true
   },
   "source": [
    "Go to `html` subfolder and edit `index.html` according to the list below:\n",
    "\n",
    "- _Line 8_: `<title>Cell towers of Slovakia</title>` - change the name of country to the selected\n",
    "- _Line 88_: `.setView([48.7575287, 19.7304966], 8)` - change the value of the location to the center of the selected country\n",
    "- _Line 89_: `.setMaxBounds([[49.7, 16.7], [47.7, 22.6]]);` - change the values of the bounding box to incorporate the country\n",
    "\n",
    "Save the file, then double click it to view the result in the browser.\n",
    "\n",
    "<figure class=\"image\">\n",
    "  <img src='images/map_1.png' description='On country level, the cell towers are merged'>\n",
    "  <figcaption><center>Merged cell towers on country level</center></figcaption>\n",
    "</figure>\n",
    "\n",
    "<figure class=\"image\">\n",
    "  <img src='images/map_2.png' description='The cell towers are clickable'>\n",
    "  <figcaption><center>Click the cell towers for the info popup</center></figcaption>\n",
    "</figure>\n",
    "\n",
    "<figure class=\"image\">\n",
    "  <img src='images/map_3.png' description='The cell towers can be toggled with button'>\n",
    "  <figcaption><center>Toggle the cell towers by clicking the technology selector button in the top right corner</center></figcaption>\n",
    "</figure>"
   ]
  },
  {
   "cell_type": "markdown",
   "metadata": {
    "heading_collapsed": true
   },
   "source": [
    "## User table and CDR generator\n",
    "Downloading the major cities of Slovakia to be the focal points of the user generation. This snippet might needs alteration for a country other than Slovakia."
   ]
  },
  {
   "cell_type": "code",
   "execution_count": null,
   "metadata": {
    "hidden": true
   },
   "outputs": [],
   "source": [
    "pdf_big_cities = pd.read_html('https://en.wikipedia.org/wiki/List_of_cities_and_towns_in_Slovakia')[0]\n",
    "pdf_big_cities = pdf_big_cities[['City or town', 'Population 2018']].copy()\n",
    "pdf_big_cities.rename(columns={'City or town': 'city', 'Population 2018': 'population'}, inplace=True)\n",
    "pdf_big_cities.sort_values(by='population', ascending=False, inplace=True)"
   ]
  },
  {
   "cell_type": "code",
   "execution_count": null,
   "metadata": {
    "hidden": true
   },
   "outputs": [],
   "source": [
    "def get_geolocation(city):\n",
    "    output = 'Unknown'\n",
    "    response = requests.get('https://api.opencagedata.com/geocode/v1/json?q={:}&key={:}'.format(\n",
    "        city,\n",
    "        OPENCAGEDATA_API_KEY\n",
    "    ))\n",
    "\n",
    "    if response.status_code == 200:\n",
    "        json_string = json.loads(response.content)\n",
    "        output = json_string['results'][0]['geometry']['lat'], json_string['results'][0]['geometry']['lng']\n",
    "    else:\n",
    "        print('Response status: '.format(\n",
    "            response.status_code\n",
    "        ))\n",
    "\n",
    "    return output\n",
    "\n",
    "pdf_big_cities['latlon'] = pdf_big_cities.progress_apply(lambda x: get_geolocation(x['city']), axis=1)"
   ]
  },
  {
   "cell_type": "code",
   "execution_count": null,
   "metadata": {
    "hidden": true
   },
   "outputs": [],
   "source": [
    "def parse_list(list_string, index):\n",
    "    return float(list_string[index])\n",
    "\n",
    "pdf_big_cities['lat'] = pdf_big_cities.apply(lambda x: parse_list(x['latlon'], 0), axis=1)\n",
    "pdf_big_cities['lon'] = pdf_big_cities.apply(lambda x: parse_list(x['latlon'], 1), axis=1)"
   ]
  },
  {
   "cell_type": "code",
   "execution_count": null,
   "metadata": {
    "hidden": true
   },
   "outputs": [],
   "source": [
    "pdf_big_cities[['city', 'population', 'lat', 'lon']][:5]"
   ]
  },
  {
   "cell_type": "code",
   "execution_count": null,
   "metadata": {
    "hidden": true
   },
   "outputs": [],
   "source": [
    "pdf_big_cities[['city', 'population', 'lat', 'lon']].to_csv('data/{:}_cities.csv'.format(country.lower()), index=False)"
   ]
  },
  {
   "cell_type": "markdown",
   "metadata": {
    "hidden": true
   },
   "source": [
    "### Generate users\n",
    "Creation of the user table"
   ]
  },
  {
   "cell_type": "code",
   "execution_count": null,
   "metadata": {
    "hidden": true
   },
   "outputs": [],
   "source": [
    "def random_point_around(lat, lon, distance):\n",
    "    t = np.random.normal(0.0, 2.0*np.pi)\n",
    "    r = distance * np.sqrt(abs(np.random.normal(0.1, 1.0)))\n",
    "    x = lat + r * np.cos(t)\n",
    "    y = lon + r * np.sin(t)\n",
    "\n",
    "    return x, y"
   ]
  },
  {
   "cell_type": "code",
   "execution_count": null,
   "metadata": {
    "hidden": true
   },
   "outputs": [],
   "source": [
    "pdf_big_cities = pd.read_csv('data/{:}_cities.csv'.format(country.lower()))"
   ]
  },
  {
   "cell_type": "code",
   "execution_count": null,
   "metadata": {
    "hidden": true
   },
   "outputs": [],
   "source": [
    "pdf_big_cities = pdf_big_cities.append({\n",
    "    'city': 'country',\n",
    "    'population': total_population-pdf_big_cities['population'].sum(),\n",
    "    'lat': 49.2, # top right corner\n",
    "    'lon': 18.0\n",
    "}, ignore_index=True)"
   ]
  },
  {
   "cell_type": "code",
   "execution_count": null,
   "metadata": {
    "hidden": true
   },
   "outputs": [],
   "source": [
    "pdf_big_cities['rate'] = pdf_big_cities['population']/total_population\n",
    "pdf_big_cities['rate_cumsum'] = pdf_big_cities['rate'].cumsum()"
   ]
  },
  {
   "cell_type": "code",
   "execution_count": null,
   "metadata": {
    "hidden": true
   },
   "outputs": [],
   "source": [
    "pdf_big_cities[['city', 'rate', 'rate_cumsum', 'lat', 'lon']][-5:]"
   ]
  },
  {
   "cell_type": "code",
   "execution_count": null,
   "metadata": {
    "hidden": true,
    "scrolled": false
   },
   "outputs": [],
   "source": [
    "pdf_users = pd.DataFrame(columns=['city', 'lat', 'lon'])\n",
    "\n",
    "for i in tqdm(range(user_count)):\n",
    "    random_rate = random()\n",
    "    random_city = pdf_big_cities[\n",
    "            (random_rate <= pdf_big_cities['rate_cumsum'])\n",
    "        ]['city'].values[0]\n",
    "\n",
    "    if random_city == 'country':\n",
    "        lat, lon = random_point_around(pdf_big_cities[pdf_big_cities['city'] == random_city]['lat'].values[0], pdf_big_cities[pdf_big_cities['city'] == random_city]['lon'].values[0], radius_country)\n",
    "    else:\n",
    "        lat, lon = random_point_around(pdf_big_cities[pdf_big_cities['city'] == random_city]['lat'].values[0], pdf_big_cities[pdf_big_cities['city'] == random_city]['lon'].values[0], radius_city)\n",
    "\n",
    "    pdf_users = pdf_users.append({\n",
    "        'city': random_city,\n",
    "        'lat': lat,\n",
    "        'lon': lon\n",
    "    }, ignore_index=True)"
   ]
  },
  {
   "cell_type": "code",
   "execution_count": null,
   "metadata": {
    "hidden": true
   },
   "outputs": [],
   "source": [
    "pdf_users[:5]"
   ]
  },
  {
   "cell_type": "code",
   "execution_count": null,
   "metadata": {
    "hidden": true
   },
   "outputs": [],
   "source": [
    "mapbox_access_token = open(\".mapbox_token\").read()\n",
    "\n",
    "fig = go.Figure(go.Scattermapbox(\n",
    "        lat=pdf_users['lat'].values[:500],\n",
    "        lon=pdf_users['lon'].values[:500],\n",
    "        mode='markers',\n",
    "        marker=go.scattermapbox.Marker(\n",
    "            size=14\n",
    "        ),\n",
    "        text=[country],\n",
    "    ))\n",
    "\n",
    "fig.update_layout(\n",
    "    hovermode='closest',\n",
    "    mapbox=dict(\n",
    "        accesstoken=mapbox_access_token,\n",
    "        bearing=0,\n",
    "        center=go.layout.mapbox.Center(\n",
    "            lat=country_center_lat,\n",
    "            lon=country_center_lon\n",
    "        ),\n",
    "        pitch=0,\n",
    "        zoom=6\n",
    "    )\n",
    ")\n",
    "\n",
    "fig.show()"
   ]
  },
  {
   "cell_type": "code",
   "execution_count": null,
   "metadata": {
    "hidden": true
   },
   "outputs": [],
   "source": [
    "print('Number of users generated: {:,}\\nRate of people living in the countryside: {:.2f}%'.format(\n",
    "    len(pdf_users),\n",
    "    len(pdf_users[pdf_users['city'] == 'country'])/len(pdf_users)*100\n",
    "))"
   ]
  },
  {
   "cell_type": "code",
   "execution_count": null,
   "metadata": {
    "hidden": true
   },
   "outputs": [],
   "source": [
    "pdf_users['msisdn'] = sample(range(1_000_000, 9_999_999), user_count)"
   ]
  },
  {
   "cell_type": "code",
   "execution_count": null,
   "metadata": {
    "hidden": true
   },
   "outputs": [],
   "source": [
    "pdf_users[:5]"
   ]
  },
  {
   "cell_type": "code",
   "execution_count": null,
   "metadata": {
    "hidden": true
   },
   "outputs": [],
   "source": [
    "pdf_users['city'].value_counts()[:5]"
   ]
  },
  {
   "cell_type": "markdown",
   "metadata": {
    "hidden": true
   },
   "source": [
    "### CDR records generation"
   ]
  },
  {
   "cell_type": "markdown",
   "metadata": {
    "heading_collapsed": true,
    "hidden": true
   },
   "source": [
    "#### Distribution tester\n",
    "Use this chunk of code to create distributions to better fit the needs"
   ]
  },
  {
   "cell_type": "code",
   "execution_count": null,
   "metadata": {
    "hidden": true
   },
   "outputs": [],
   "source": [
    "pdf_a = pd.DataFrame(columns=['value'])\n",
    "\n",
    "for i in range(1000):\n",
    "    pdf_a = pdf_a.append({\n",
    "        'value': int(abs(np.random.normal(loc=45, scale=200)))\n",
    "    }, ignore_index=True)\n",
    "\n",
    "fig = px.histogram(pdf_a, x=\"value\")\n",
    "fig.show()"
   ]
  },
  {
   "cell_type": "markdown",
   "metadata": {
    "hidden": true
   },
   "source": [
    "#### Record generator"
   ]
  },
  {
   "cell_type": "code",
   "execution_count": null,
   "metadata": {
    "hidden": true
   },
   "outputs": [],
   "source": [
    "def random_date(start, end):\n",
    "    start, end = pd.Timestamp(start), pd.Timestamp(end)\n",
    "    delta = (end - start).total_seconds()\n",
    "    offset = np.random.uniform(0., delta)\n",
    "    offset = pd.offsets.Second(int(offset))\n",
    "    t = start + offset\n",
    "    return t\n",
    "\n",
    "def random_dates(start, end, pick=10, total=100):\n",
    "    a = []\n",
    "    for i in range(total):\n",
    "        a.append(random_date(start, end))\n",
    "    \n",
    "    return sample(a, pick)"
   ]
  },
  {
   "cell_type": "code",
   "execution_count": null,
   "metadata": {
    "hidden": true
   },
   "outputs": [],
   "source": [
    "pdf_cdr = pd.DataFrame(columns=['msisdn', 'datetime', 'lat', 'lon', 'duration', 'category'])\n",
    "for date in pd.date_range(start=date_start, end=date_end):\n",
    "    print(date.strftime('%Y-%m-%d'))\n",
    "    for user_id in tqdm(range(user_count)):\n",
    "        call_count = int(abs(np.random.normal(loc=1))*5)\n",
    "        random_times = random_dates(str(date)[:10] + ' 00:00', str(date)[:10] + ' 23:45', call_count)\n",
    "        for call_datetime in random_times:\n",
    "            rnd_lat, rnd_lon = random_point_around(pdf_users.iloc[user_id]['lat'], pdf_users.iloc[user_id]['lon'], 0.01)\n",
    "            pdf_cdr = pdf_cdr.append({\n",
    "                'msisdn': pdf_users.iloc[user_id]['msisdn'],\n",
    "                'datetime': call_datetime,\n",
    "                'lat': rnd_lat,\n",
    "                'lon': rnd_lon,\n",
    "                'duration': int(abs(np.random.normal(loc=45, scale=200))),\n",
    "                'category': randint(1, 5)\n",
    "            }, ignore_index=True)    "
   ]
  },
  {
   "cell_type": "markdown",
   "metadata": {
    "hidden": true
   },
   "source": [
    "CDR table\n",
    "- MSISDN: the ID of the user (aka phone number)\n",
    "- datetime: the datetime of the call\n",
    "- lat/lon: geolocation of the starting point of the call\n",
    "- duration: the duration of the call in seconds\n",
    "- category: price category of the call"
   ]
  },
  {
   "cell_type": "code",
   "execution_count": null,
   "metadata": {
    "hidden": true
   },
   "outputs": [],
   "source": [
    "pdf_cdr[:5]"
   ]
  },
  {
   "cell_type": "code",
   "execution_count": null,
   "metadata": {
    "hidden": true
   },
   "outputs": [],
   "source": [
    "pdf_cdr.to_csv('data/{:}_cdr_{:}_{:}.csv'.format(\n",
    "    country.lower(),\n",
    "    date_start,\n",
    "    date_end\n",
    "), index=False)"
   ]
  },
  {
   "cell_type": "code",
   "execution_count": null,
   "metadata": {
    "hidden": true
   },
   "outputs": [],
   "source": [
    "pdf_cdr = reduce_mem_usage(pdf_cdr)\n",
    "print('CDR records generated: {:,}'.format(\n",
    "    len(pdf_cdr)\n",
    "))"
   ]
  },
  {
   "cell_type": "markdown",
   "metadata": {
    "hidden": true
   },
   "source": [
    "Showing the first 500 CDRs on map"
   ]
  },
  {
   "cell_type": "code",
   "execution_count": null,
   "metadata": {
    "hidden": true
   },
   "outputs": [],
   "source": [
    "mapbox_access_token = open(\".mapbox_token\").read()\n",
    "\n",
    "fig = go.Figure(go.Scattermapbox(\n",
    "        lat=pdf_cdr['lat'].values[:500],\n",
    "        lon=pdf_cdr['lon'].values[:500],\n",
    "        mode='markers',\n",
    "        marker=go.scattermapbox.Marker(\n",
    "            size=14\n",
    "        ),\n",
    "        text=[country],\n",
    "    ))\n",
    "\n",
    "fig.update_layout(\n",
    "    hovermode='closest',\n",
    "    mapbox=dict(\n",
    "        accesstoken=mapbox_access_token,\n",
    "        bearing=0,\n",
    "        center=go.layout.mapbox.Center(\n",
    "            lat=country_center_lat,\n",
    "            lon=country_center_lon\n",
    "        ),\n",
    "        pitch=0,\n",
    "        zoom=6\n",
    "    )\n",
    ")\n",
    "\n",
    "fig.show()"
   ]
  },
  {
   "cell_type": "markdown",
   "metadata": {},
   "source": [
    "## Technical scores of towers\n",
    "\n",
    "Metrics used:\n",
    "- downlink\n",
    "- packet loss"
   ]
  },
  {
   "cell_type": "code",
   "execution_count": 4,
   "metadata": {},
   "outputs": [
    {
     "name": "stdout",
     "output_type": "stream",
     "text": [
      "Memory usage decreased to  1.08 MB (8.3% reduction)\n",
      "Cell tower set contains: 25,817 records with 6 features\n"
     ]
    }
   ],
   "source": [
    "pdf_tower = pd.read_csv('data/{:}_cell_towers.csv'.format(\n",
    "    country.lower()\n",
    "))\n",
    "\n",
    "pdf_tower = reduce_mem_usage(pdf_tower)\n",
    "print('Cell tower set contains: {:,} records with {:} features'.format(\n",
    "    pdf_tower.shape[0],\n",
    "    pdf_tower.shape[1]\n",
    "))"
   ]
  },
  {
   "cell_type": "code",
   "execution_count": 5,
   "metadata": {},
   "outputs": [
    {
     "name": "stdout",
     "output_type": "stream",
     "text": [
      "Memory usage decreased to  1.95 MB (20.8% reduction)\n",
      "CDR set contains: 53,820 records with 6 features\n"
     ]
    }
   ],
   "source": [
    "pdf_cdr = pd.read_csv('data/{:}_cdr_{:}_{:}.csv'.format(\n",
    "    country.lower(),\n",
    "    date_start,\n",
    "    date_end\n",
    "), parse_dates=['datetime'])\n",
    "\n",
    "pdf_cdr = reduce_mem_usage(pdf_cdr)\n",
    "print('CDR set contains: {:,} records with {:} features'.format(\n",
    "    pdf_cdr.shape[0],\n",
    "    pdf_cdr.shape[1]\n",
    "))"
   ]
  },
  {
   "cell_type": "code",
   "execution_count": 6,
   "metadata": {},
   "outputs": [
    {
     "data": {
      "text/plain": [
       "array(['GSM', 'UMTS', 'LTE'], dtype=object)"
      ]
     },
     "execution_count": 6,
     "metadata": {},
     "output_type": "execute_result"
    }
   ],
   "source": [
    "pdf_tower['technology'].unique()"
   ]
  },
  {
   "cell_type": "code",
   "execution_count": 35,
   "metadata": {},
   "outputs": [],
   "source": [
    "technology_metrics = {\n",
    "    'GSM': {\n",
    "        'downlink': 384, # kbps\n",
    "        'packet_loss_range': [0.3, 0.85]\n",
    "    },\n",
    "    'UMTS': {\n",
    "        'downlink': 42_000, # 42 Mbps\n",
    "        'packet_loss_range': [0.25, 0.8]\n",
    "    },\n",
    "    'LTE': {\n",
    "        'downlink': 3_000_000, # 3 Gbps\n",
    "        'packet_loss_range': [0.1, 0.7]\n",
    "    }\n",
    "}"
   ]
  },
  {
   "cell_type": "markdown",
   "metadata": {
    "heading_collapsed": true
   },
   "source": [
    "### Counting users in range"
   ]
  },
  {
   "cell_type": "code",
   "execution_count": 36,
   "metadata": {
    "hidden": true
   },
   "outputs": [
    {
     "name": "stderr",
     "output_type": "stream",
     "text": [
      "100%|██████████| 25817/25817 [01:06<00:00, 387.36it/s]\n"
     ]
    }
   ],
   "source": [
    "def count_users_in_range(lat, lon, threshold_lat=0.01, threshold_lon=0.01):\n",
    "    return len(pdf_cdr[\n",
    "        (lat - threshold_lat <= pdf_cdr['lat']) &\n",
    "        (pdf_cdr['lat'] <= lat + threshold_lat) &\n",
    "        (lon - threshold_lon <= pdf_cdr['lon']) &\n",
    "        (pdf_cdr['lon'] <= lon + threshold_lon)\n",
    "    ])\n",
    "    \n",
    "pdf_tower['users_in_range'] = pdf_tower.progress_apply(lambda x: count_users_in_range(x['lat'], x['lon']), axis=1)"
   ]
  },
  {
   "cell_type": "code",
   "execution_count": 37,
   "metadata": {
    "hidden": true
   },
   "outputs": [
    {
     "data": {
      "text/html": [
       "<div>\n",
       "<style scoped>\n",
       "    .dataframe tbody tr th:only-of-type {\n",
       "        vertical-align: middle;\n",
       "    }\n",
       "\n",
       "    .dataframe tbody tr th {\n",
       "        vertical-align: top;\n",
       "    }\n",
       "\n",
       "    .dataframe thead th {\n",
       "        text-align: right;\n",
       "    }\n",
       "</style>\n",
       "<table border=\"1\" class=\"dataframe\">\n",
       "  <thead>\n",
       "    <tr style=\"text-align: right;\">\n",
       "      <th></th>\n",
       "      <th>cell_id</th>\n",
       "      <th>technology</th>\n",
       "      <th>operator_name</th>\n",
       "      <th>lat</th>\n",
       "      <th>lon</th>\n",
       "      <th>range</th>\n",
       "      <th>users_in_range</th>\n",
       "    </tr>\n",
       "  </thead>\n",
       "  <tbody>\n",
       "    <tr>\n",
       "      <th>0</th>\n",
       "      <td>679f</td>\n",
       "      <td>GSM</td>\n",
       "      <td>Orange Slovensko</td>\n",
       "      <td>48.095963</td>\n",
       "      <td>17.122099</td>\n",
       "      <td>13223</td>\n",
       "      <td>31</td>\n",
       "    </tr>\n",
       "    <tr>\n",
       "      <th>1</th>\n",
       "      <td>67a0</td>\n",
       "      <td>GSM</td>\n",
       "      <td>Orange Slovensko</td>\n",
       "      <td>48.085608</td>\n",
       "      <td>17.108707</td>\n",
       "      <td>5805</td>\n",
       "      <td>19</td>\n",
       "    </tr>\n",
       "    <tr>\n",
       "      <th>2</th>\n",
       "      <td>67a1</td>\n",
       "      <td>GSM</td>\n",
       "      <td>Orange Slovensko</td>\n",
       "      <td>48.108076</td>\n",
       "      <td>17.095604</td>\n",
       "      <td>3934</td>\n",
       "      <td>25</td>\n",
       "    </tr>\n",
       "    <tr>\n",
       "      <th>3</th>\n",
       "      <td>67a2</td>\n",
       "      <td>GSM</td>\n",
       "      <td>Orange Slovensko</td>\n",
       "      <td>48.099289</td>\n",
       "      <td>17.103798</td>\n",
       "      <td>3802</td>\n",
       "      <td>41</td>\n",
       "    </tr>\n",
       "    <tr>\n",
       "      <th>4</th>\n",
       "      <td>67a3</td>\n",
       "      <td>GSM</td>\n",
       "      <td>Orange Slovensko</td>\n",
       "      <td>48.140072</td>\n",
       "      <td>17.075835</td>\n",
       "      <td>4876</td>\n",
       "      <td>33</td>\n",
       "    </tr>\n",
       "  </tbody>\n",
       "</table>\n",
       "</div>"
      ],
      "text/plain": [
       "  cell_id technology     operator_name        lat        lon  range  \\\n",
       "0    679f        GSM  Orange Slovensko  48.095963  17.122099  13223   \n",
       "1    67a0        GSM  Orange Slovensko  48.085608  17.108707   5805   \n",
       "2    67a1        GSM  Orange Slovensko  48.108076  17.095604   3934   \n",
       "3    67a2        GSM  Orange Slovensko  48.099289  17.103798   3802   \n",
       "4    67a3        GSM  Orange Slovensko  48.140072  17.075835   4876   \n",
       "\n",
       "   users_in_range  \n",
       "0              31  \n",
       "1              19  \n",
       "2              25  \n",
       "3              41  \n",
       "4              33  "
      ]
     },
     "execution_count": 37,
     "metadata": {},
     "output_type": "execute_result"
    }
   ],
   "source": [
    "pdf_tower[['cell_id', 'technology', 'operator_name', 'lat', 'lon', 'range', 'users_in_range']][:5]"
   ]
  },
  {
   "cell_type": "code",
   "execution_count": 38,
   "metadata": {
    "hidden": true
   },
   "outputs": [
    {
     "name": "stdout",
     "output_type": "stream",
     "text": [
      "Rate of cell towers with no user in range: 21.62%\n"
     ]
    }
   ],
   "source": [
    "print('Rate of cell towers with no user in range: {:.2f}%'.format(\n",
    "    len(pdf_tower[pdf_tower['users_in_range'] == 0]['users_in_range'])/len(pdf_tower['users_in_range'])*100\n",
    "))"
   ]
  },
  {
   "cell_type": "code",
   "execution_count": 39,
   "metadata": {
    "hidden": true
   },
   "outputs": [
    {
     "data": {
      "text/plain": [
       "0    5582\n",
       "1    2307\n",
       "2    1737\n",
       "3    1562\n",
       "4    1383\n",
       "Name: users_in_range, dtype: int64"
      ]
     },
     "execution_count": 39,
     "metadata": {},
     "output_type": "execute_result"
    }
   ],
   "source": [
    "pdf_tower['users_in_range'].value_counts(sort=True)[:5]"
   ]
  },
  {
   "cell_type": "code",
   "execution_count": 40,
   "metadata": {
    "hidden": true
   },
   "outputs": [
    {
     "data": {
      "image/png": "[encoded data removed]",
      "text/plain": [
       "<Figure size 1800x720 with 1 Axes>"
      ]
     },
     "metadata": {
      "needs_background": "light"
     },
     "output_type": "display_data"
    }
   ],
   "source": [
    "plt.style.use('seaborn-deep')\n",
    "fig = plt.figure(figsize = (25, 10))\n",
    "ax = fig.gca()\n",
    "\n",
    "plt.hist([\n",
    "    pdf_tower[pdf_tower['technology'] == 'GSM']['users_in_range'],\n",
    "    pdf_tower[pdf_tower['technology'] == 'UMTS']['users_in_range'],\n",
    "    pdf_tower[pdf_tower['technology'] == 'LTE']['users_in_range']\n",
    "], bins=30, label=['GSM', 'UMTS', 'LTE'], color=['#ffbe0b', '#ff006e', '#3a86ff'], stacked=False)\n",
    "plt.legend(loc='upper right')\n",
    "plt.show()"
   ]
  },
  {
   "cell_type": "markdown",
   "metadata": {},
   "source": [
    "### Functions"
   ]
  },
  {
   "cell_type": "code",
   "execution_count": 41,
   "metadata": {},
   "outputs": [],
   "source": [
    "def clamp(minimum, x, maximum):\n",
    "    return max(minimum, min(x, maximum))\n",
    "\n",
    "def generate_clamped_normal_value(minimum, maximum):\n",
    "    return clamp(minimum, (maximum + minimum)/2 + (maximum - minimum)*np.random.normal(loc=0, scale=0.15), maximum)\n",
    "\n",
    "def generate_tower_statistics(cell_id):\n",
    "    cell_index = pdf_tower[pdf_tower['cell_id'] == cell_id].index\n",
    "    cell_technology = pdf_tower.loc[cell_index, 'technology'].values[0]\n",
    "\n",
    "    downlink = int(generate_clamped_normal_value(\n",
    "        0,\n",
    "        technology_metrics[cell_technology]['downlink']\n",
    "    ))\n",
    "\n",
    "    packet_loss = round(generate_clamped_normal_value(\n",
    "        technology_metrics[cell_technology]['packet_loss_range'][0],\n",
    "        technology_metrics[cell_technology]['packet_loss_range'][1]\n",
    "    ), 2)\n",
    "\n",
    "    # the number of users of the cell is correlated with the downlink and less packet loss\n",
    "    return downlink, packet_loss"
   ]
  },
  {
   "cell_type": "markdown",
   "metadata": {
    "heading_collapsed": true
   },
   "source": [
    "### Testing"
   ]
  },
  {
   "cell_type": "code",
   "execution_count": 42,
   "metadata": {
    "hidden": true
   },
   "outputs": [
    {
     "data": {
      "text/plain": [
       "<matplotlib.axes._subplots.AxesSubplot at 0x7fd0509660f0>"
      ]
     },
     "execution_count": 42,
     "metadata": {},
     "output_type": "execute_result"
    },
    {
     "data": {
      "image/png": "[encoded data removed]",
      "text/plain": [
       "<Figure size 432x288 with 1 Axes>"
      ]
     },
     "metadata": {
      "needs_background": "light"
     },
     "output_type": "display_data"
    }
   ],
   "source": [
    "pdf_tmp = pd.DataFrame(columns={'value'})\n",
    "for i in range(1000):\n",
    "    pdf_tmp = pdf_tmp.append({\n",
    "        'value': generate_clamped_normal_value(0, technology_metrics['GSM']['downlink'])\n",
    "    }, ignore_index=True)\n",
    "\n",
    "pdf_tmp['value'].hist(bins=100)"
   ]
  },
  {
   "cell_type": "code",
   "execution_count": 51,
   "metadata": {
    "hidden": true
   },
   "outputs": [
    {
     "data": {
      "text/plain": [
       "(159, 0.56)"
      ]
     },
     "execution_count": 51,
     "metadata": {},
     "output_type": "execute_result"
    }
   ],
   "source": [
    "generate_tower_statistics(pdf_tower.iloc[0]['cell_id'])"
   ]
  },
  {
   "cell_type": "markdown",
   "metadata": {},
   "source": [
    "### Data generation"
   ]
  },
  {
   "cell_type": "code",
   "execution_count": 43,
   "metadata": {},
   "outputs": [
    {
     "name": "stderr",
     "output_type": "stream",
     "text": [
      "100%|██████████| 25817/25817 [01:07<00:00, 383.79it/s]\n"
     ]
    }
   ],
   "source": [
    "pdf_tower['downlink'],  pdf_tower['packet_loss'] = zip(*pdf_tower.progress_apply(lambda x: generate_tower_statistics(x['cell_id']), axis=1))"
   ]
  },
  {
   "cell_type": "code",
   "execution_count": 44,
   "metadata": {},
   "outputs": [
    {
     "data": {
      "text/html": [
       "<div>\n",
       "<style scoped>\n",
       "    .dataframe tbody tr th:only-of-type {\n",
       "        vertical-align: middle;\n",
       "    }\n",
       "\n",
       "    .dataframe tbody tr th {\n",
       "        vertical-align: top;\n",
       "    }\n",
       "\n",
       "    .dataframe thead th {\n",
       "        text-align: right;\n",
       "    }\n",
       "</style>\n",
       "<table border=\"1\" class=\"dataframe\">\n",
       "  <thead>\n",
       "    <tr style=\"text-align: right;\">\n",
       "      <th></th>\n",
       "      <th>cell_id</th>\n",
       "      <th>operator_name</th>\n",
       "      <th>technology</th>\n",
       "      <th>lat</th>\n",
       "      <th>lon</th>\n",
       "      <th>range</th>\n",
       "      <th>users_in_range</th>\n",
       "      <th>downlink</th>\n",
       "      <th>packet_loss</th>\n",
       "    </tr>\n",
       "  </thead>\n",
       "  <tbody>\n",
       "    <tr>\n",
       "      <th>0</th>\n",
       "      <td>679f</td>\n",
       "      <td>Orange Slovensko</td>\n",
       "      <td>GSM</td>\n",
       "      <td>48.095963</td>\n",
       "      <td>17.122099</td>\n",
       "      <td>13223</td>\n",
       "      <td>31</td>\n",
       "      <td>262</td>\n",
       "      <td>0.59</td>\n",
       "    </tr>\n",
       "    <tr>\n",
       "      <th>1</th>\n",
       "      <td>67a0</td>\n",
       "      <td>Orange Slovensko</td>\n",
       "      <td>GSM</td>\n",
       "      <td>48.085608</td>\n",
       "      <td>17.108707</td>\n",
       "      <td>5805</td>\n",
       "      <td>19</td>\n",
       "      <td>171</td>\n",
       "      <td>0.63</td>\n",
       "    </tr>\n",
       "    <tr>\n",
       "      <th>2</th>\n",
       "      <td>67a1</td>\n",
       "      <td>Orange Slovensko</td>\n",
       "      <td>GSM</td>\n",
       "      <td>48.108076</td>\n",
       "      <td>17.095604</td>\n",
       "      <td>3934</td>\n",
       "      <td>25</td>\n",
       "      <td>226</td>\n",
       "      <td>0.51</td>\n",
       "    </tr>\n",
       "    <tr>\n",
       "      <th>3</th>\n",
       "      <td>67a2</td>\n",
       "      <td>Orange Slovensko</td>\n",
       "      <td>GSM</td>\n",
       "      <td>48.099289</td>\n",
       "      <td>17.103798</td>\n",
       "      <td>3802</td>\n",
       "      <td>41</td>\n",
       "      <td>144</td>\n",
       "      <td>0.42</td>\n",
       "    </tr>\n",
       "    <tr>\n",
       "      <th>4</th>\n",
       "      <td>67a3</td>\n",
       "      <td>Orange Slovensko</td>\n",
       "      <td>GSM</td>\n",
       "      <td>48.140072</td>\n",
       "      <td>17.075835</td>\n",
       "      <td>4876</td>\n",
       "      <td>33</td>\n",
       "      <td>186</td>\n",
       "      <td>0.54</td>\n",
       "    </tr>\n",
       "  </tbody>\n",
       "</table>\n",
       "</div>"
      ],
      "text/plain": [
       "  cell_id     operator_name technology        lat        lon  range  \\\n",
       "0    679f  Orange Slovensko        GSM  48.095963  17.122099  13223   \n",
       "1    67a0  Orange Slovensko        GSM  48.085608  17.108707   5805   \n",
       "2    67a1  Orange Slovensko        GSM  48.108076  17.095604   3934   \n",
       "3    67a2  Orange Slovensko        GSM  48.099289  17.103798   3802   \n",
       "4    67a3  Orange Slovensko        GSM  48.140072  17.075835   4876   \n",
       "\n",
       "   users_in_range  downlink  packet_loss  \n",
       "0              31       262         0.59  \n",
       "1              19       171         0.63  \n",
       "2              25       226         0.51  \n",
       "3              41       144         0.42  \n",
       "4              33       186         0.54  "
      ]
     },
     "execution_count": 44,
     "metadata": {},
     "output_type": "execute_result"
    }
   ],
   "source": [
    "pdf_tower[:5]"
   ]
  },
  {
   "cell_type": "code",
   "execution_count": 45,
   "metadata": {},
   "outputs": [
    {
     "data": {
      "text/plain": [
       "<matplotlib.axes._subplots.AxesSubplot at 0x7fd050690208>"
      ]
     },
     "execution_count": 45,
     "metadata": {},
     "output_type": "execute_result"
    },
    {
     "data": {
      "image/png": "[encoded data removed]",
      "text/plain": [
       "<Figure size 432x288 with 1 Axes>"
      ]
     },
     "metadata": {
      "needs_background": "light"
     },
     "output_type": "display_data"
    }
   ],
   "source": [
    "pdf_tower[pdf_tower['technology'] == 'GSM']['downlink'].hist()"
   ]
  },
  {
   "cell_type": "code",
   "execution_count": 46,
   "metadata": {},
   "outputs": [
    {
     "data": {
      "text/plain": [
       "<matplotlib.axes._subplots.AxesSubplot at 0x7fd0509ea6d8>"
      ]
     },
     "execution_count": 46,
     "metadata": {},
     "output_type": "execute_result"
    },
    {
     "data": {
      "image/png": "[encoded data removed]",
      "text/plain": [
       "<Figure size 432x288 with 1 Axes>"
      ]
     },
     "metadata": {
      "needs_background": "light"
     },
     "output_type": "display_data"
    }
   ],
   "source": [
    "pdf_tower[pdf_tower['technology'] == 'UMTS']['downlink'].hist()"
   ]
  },
  {
   "cell_type": "code",
   "execution_count": 47,
   "metadata": {},
   "outputs": [
    {
     "data": {
      "text/plain": [
       "<matplotlib.axes._subplots.AxesSubplot at 0x7fd050447da0>"
      ]
     },
     "execution_count": 47,
     "metadata": {},
     "output_type": "execute_result"
    },
    {
     "data": {
      "image/png": "[encoded data removed]",
      "text/plain": [
       "<Figure size 432x288 with 1 Axes>"
      ]
     },
     "metadata": {
      "needs_background": "light"
     },
     "output_type": "display_data"
    }
   ],
   "source": [
    "pdf_tower[pdf_tower['technology'] == 'LTE']['downlink'].hist()"
   ]
  },
  {
   "cell_type": "code",
   "execution_count": 48,
   "metadata": {},
   "outputs": [
    {
     "data": {
      "text/plain": [
       "<matplotlib.axes._subplots.AxesSubplot at 0x7fd0509f32e8>"
      ]
     },
     "execution_count": 48,
     "metadata": {},
     "output_type": "execute_result"
    },
    {
     "data": {
      "image/png": "[encoded data removed]",
      "text/plain": [
       "<Figure size 432x288 with 1 Axes>"
      ]
     },
     "metadata": {
      "needs_background": "light"
     },
     "output_type": "display_data"
    }
   ],
   "source": [
    "pdf_tower[pdf_tower['technology'] == 'GSM']['packet_loss'].hist()"
   ]
  },
  {
   "cell_type": "code",
   "execution_count": 49,
   "metadata": {},
   "outputs": [
    {
     "data": {
      "text/plain": [
       "<matplotlib.axes._subplots.AxesSubplot at 0x7fd052ab3a20>"
      ]
     },
     "execution_count": 49,
     "metadata": {},
     "output_type": "execute_result"
    },
    {
     "data": {
      "image/png": "[encoded data removed]",
      "text/plain": [
       "<Figure size 432x288 with 1 Axes>"
      ]
     },
     "metadata": {
      "needs_background": "light"
     },
     "output_type": "display_data"
    }
   ],
   "source": [
    "pdf_tower[pdf_tower['technology'] == 'UMTS']['packet_loss'].hist()"
   ]
  },
  {
   "cell_type": "code",
   "execution_count": 50,
   "metadata": {},
   "outputs": [
    {
     "data": {
      "text/plain": [
       "<matplotlib.axes._subplots.AxesSubplot at 0x7fd050acd2e8>"
      ]
     },
     "execution_count": 50,
     "metadata": {},
     "output_type": "execute_result"
    },
    {
     "data": {
      "image/png": "[encoded data removed]",
      "text/plain": [
       "<Figure size 432x288 with 1 Axes>"
      ]
     },
     "metadata": {
      "needs_background": "light"
     },
     "output_type": "display_data"
    }
   ],
   "source": [
    "pdf_tower[pdf_tower['technology'] == 'LTE']['packet_loss'].hist()"
   ]
  },
  {
   "cell_type": "code",
   "execution_count": 52,
   "metadata": {},
   "outputs": [
    {
     "data": {
      "text/html": [
       "<div>\n",
       "<style scoped>\n",
       "    .dataframe tbody tr th:only-of-type {\n",
       "        vertical-align: middle;\n",
       "    }\n",
       "\n",
       "    .dataframe tbody tr th {\n",
       "        vertical-align: top;\n",
       "    }\n",
       "\n",
       "    .dataframe thead th {\n",
       "        text-align: right;\n",
       "    }\n",
       "</style>\n",
       "<table border=\"1\" class=\"dataframe\">\n",
       "  <thead>\n",
       "    <tr style=\"text-align: right;\">\n",
       "      <th></th>\n",
       "      <th>cell_id</th>\n",
       "      <th>operator_name</th>\n",
       "      <th>technology</th>\n",
       "      <th>lat</th>\n",
       "      <th>lon</th>\n",
       "      <th>range</th>\n",
       "      <th>users_in_range</th>\n",
       "      <th>downlink</th>\n",
       "      <th>packet_loss</th>\n",
       "    </tr>\n",
       "  </thead>\n",
       "  <tbody>\n",
       "    <tr>\n",
       "      <th>0</th>\n",
       "      <td>679f</td>\n",
       "      <td>Orange Slovensko</td>\n",
       "      <td>GSM</td>\n",
       "      <td>48.095963</td>\n",
       "      <td>17.122099</td>\n",
       "      <td>13223</td>\n",
       "      <td>31</td>\n",
       "      <td>262</td>\n",
       "      <td>0.59</td>\n",
       "    </tr>\n",
       "    <tr>\n",
       "      <th>1</th>\n",
       "      <td>67a0</td>\n",
       "      <td>Orange Slovensko</td>\n",
       "      <td>GSM</td>\n",
       "      <td>48.085608</td>\n",
       "      <td>17.108707</td>\n",
       "      <td>5805</td>\n",
       "      <td>19</td>\n",
       "      <td>171</td>\n",
       "      <td>0.63</td>\n",
       "    </tr>\n",
       "    <tr>\n",
       "      <th>2</th>\n",
       "      <td>67a1</td>\n",
       "      <td>Orange Slovensko</td>\n",
       "      <td>GSM</td>\n",
       "      <td>48.108076</td>\n",
       "      <td>17.095604</td>\n",
       "      <td>3934</td>\n",
       "      <td>25</td>\n",
       "      <td>226</td>\n",
       "      <td>0.51</td>\n",
       "    </tr>\n",
       "    <tr>\n",
       "      <th>3</th>\n",
       "      <td>67a2</td>\n",
       "      <td>Orange Slovensko</td>\n",
       "      <td>GSM</td>\n",
       "      <td>48.099289</td>\n",
       "      <td>17.103798</td>\n",
       "      <td>3802</td>\n",
       "      <td>41</td>\n",
       "      <td>144</td>\n",
       "      <td>0.42</td>\n",
       "    </tr>\n",
       "    <tr>\n",
       "      <th>4</th>\n",
       "      <td>67a3</td>\n",
       "      <td>Orange Slovensko</td>\n",
       "      <td>GSM</td>\n",
       "      <td>48.140072</td>\n",
       "      <td>17.075835</td>\n",
       "      <td>4876</td>\n",
       "      <td>33</td>\n",
       "      <td>186</td>\n",
       "      <td>0.54</td>\n",
       "    </tr>\n",
       "  </tbody>\n",
       "</table>\n",
       "</div>"
      ],
      "text/plain": [
       "  cell_id     operator_name technology        lat        lon  range  \\\n",
       "0    679f  Orange Slovensko        GSM  48.095963  17.122099  13223   \n",
       "1    67a0  Orange Slovensko        GSM  48.085608  17.108707   5805   \n",
       "2    67a1  Orange Slovensko        GSM  48.108076  17.095604   3934   \n",
       "3    67a2  Orange Slovensko        GSM  48.099289  17.103798   3802   \n",
       "4    67a3  Orange Slovensko        GSM  48.140072  17.075835   4876   \n",
       "\n",
       "   users_in_range  downlink  packet_loss  \n",
       "0              31       262         0.59  \n",
       "1              19       171         0.63  \n",
       "2              25       226         0.51  \n",
       "3              41       144         0.42  \n",
       "4              33       186         0.54  "
      ]
     },
     "execution_count": 52,
     "metadata": {},
     "output_type": "execute_result"
    }
   ],
   "source": [
    "pdf_tower[:5]"
   ]
  },
  {
   "cell_type": "code",
   "execution_count": 54,
   "metadata": {},
   "outputs": [
    {
     "name": "stdout",
     "output_type": "stream",
     "text": [
      "`data/slovakia_cell_tower_statistics.csv` written\n"
     ]
    }
   ],
   "source": [
    "pdf_tower[['cell_id', 'downlink', 'packet_loss']].to_csv('data/{:}_cell_tower_statistics.csv'.format(country.lower()), index=False)\n",
    "print('`data/{:}_cell_tower_statistics.csv` written'.format(country.lower()))"
   ]
  },
  {
   "cell_type": "code",
   "execution_count": null,
   "metadata": {},
   "outputs": [],
   "source": []
  }
 ],
 "metadata": {
  "kernelspec": {
   "display_name": "Python 3",
   "language": "python",
   "name": "python3"
  },
  "language_info": {
   "codemirror_mode": {
    "name": "ipython",
    "version": 3
   },
   "file_extension": ".py",
   "mimetype": "text/x-python",
   "name": "python",
   "nbconvert_exporter": "python",
   "pygments_lexer": "ipython3",
   "version": "3.7.3"
  },
  "toc": {
   "base_numbering": 1,
   "nav_menu": {},
   "number_sections": true,
   "sideBar": true,
   "skip_h1_title": true,
   "title_cell": "Table of Contents",
   "title_sidebar": "Contents",
   "toc_cell": false,
   "toc_position": {},
   "toc_section_display": true,
   "toc_window_display": false
  }
 },
 "nbformat": 4,
 "nbformat_minor": 2
}
